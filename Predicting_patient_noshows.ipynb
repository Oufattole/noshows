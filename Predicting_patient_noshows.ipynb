{
 "cells": [
  {
   "cell_type": "markdown",
   "metadata": {
    "id": "AVObTKuHlBf0"
   },
   "source": [
    "# **Predicting patient no-shows and improving models with synthetic data**\n",
    "---"
   ]
  },
  {
   "cell_type": "markdown",
   "metadata": {
    "id": "u8hyoSAOm6E2"
   },
   "source": [
    "## **The data**\n",
    "Can we predict whether or not someone will show up to an appointment? There is a dataset from Brazil of patients and whether they show up to their hospital checkup appointments: (https://www.kaggle.com/joniarroba/noshowappointments).\n",
    "The features for each patient are:\n",
    "\n",
    "* ` PatientId `\n",
    "* ` AppointmentID `\n",
    "* ` Gender `\n",
    "* ` ScheduledDay `\n",
    "* ` AppointmentDay `\n",
    "* ` Age `\n",
    "* ` Neighbourhood `\n",
    "* ` Scholarship `\n",
    "* ` Hipertension `\n",
    "* ` Diabetes `\n",
    "* ` Alcoholism `\n",
    "* ` Handcap `\n",
    "* ` SMS_received `\n",
    "* ` No-show `\n",
    "\n",
    "\n",
    "# **The main problems**\n",
    "When looking at patient dataset has about 100,000 patients, however it is skewed as around t 1/4 of the patients are no shows. Could more No-show patient data improve predictions? Lets see if generating synthetic data can improve predictions."
   ]
  },
  {
   "cell_type": "markdown",
   "metadata": {
    "id": "7Ggwgt9hhApQ"
   },
   "source": [
    "# **Libraries**"
   ]
  },
  {
   "cell_type": "code",
   "execution_count": 47,
   "metadata": {
    "id": "II3ngOKeuRyZ"
   },
   "outputs": [],
   "source": [
    "from pycaret.classification import * # Preprocessing, modelling, interpretation, deployment...\n",
    "import pandas as pd # Basic data manipulation\n",
    "import dabl as db # Summary plot\n",
    "from sklearn.model_selection import train_test_split # Data split\n",
    "from sdv.tabular import CopulaGAN # Synthetic data\n",
    "from sdv.evaluation import evaluate # Evaluate synthetic data\n",
    "from btb.tuning import Tunable, GCPTuner # CopulaGAN optimising\n",
    "from btb.tuning import hyperparams as hp  # Set hyperparameters for optimising\n",
    "import joblib # Saving preparation steps"
   ]
  },
  {
   "cell_type": "markdown",
   "metadata": {
    "id": "NVPzBL7w6Npu"
   },
   "source": [
    "# **Importing data**"
   ]
  },
  {
   "cell_type": "code",
   "execution_count": 169,
   "metadata": {
    "colab": {
     "base_uri": "https://localhost:8080/",
     "height": 313
    },
    "id": "5BbUIpQYu6mw",
    "outputId": "51226c2d-04bf-43ef-cc03-04fc8f371433"
   },
   "outputs": [
    {
     "name": "stdout",
     "output_type": "stream",
     "text": [
      "<class 'pandas.core.frame.DataFrame'>\n",
      "RangeIndex: 110527 entries, 0 to 110526\n",
      "Data columns (total 14 columns):\n",
      " #   Column          Non-Null Count   Dtype  \n",
      "---  ------          --------------   -----  \n",
      " 0   PatientId       110527 non-null  float64\n",
      " 1   AppointmentID   110527 non-null  int64  \n",
      " 2   Gender          110527 non-null  object \n",
      " 3   ScheduledDay    110527 non-null  object \n",
      " 4   AppointmentDay  110527 non-null  object \n",
      " 5   Age             110527 non-null  int64  \n",
      " 6   Neighbourhood   110527 non-null  object \n",
      " 7   Scholarship     110527 non-null  int64  \n",
      " 8   Hipertension    110527 non-null  int64  \n",
      " 9   Diabetes        110527 non-null  int64  \n",
      " 10  Alcoholism      110527 non-null  int64  \n",
      " 11  Handcap         110527 non-null  int64  \n",
      " 12  SMS_received    110527 non-null  int64  \n",
      " 13  No-show         110527 non-null  object \n",
      "dtypes: float64(1), int64(8), object(5)\n",
      "memory usage: 11.8+ MB\n"
     ]
    }
   ],
   "source": [
    "# Read and output the top 5 rows\n",
    "original_data = pd.read_csv('KaggleV2-May-2016.csv')\n",
    "original_data.info()"
   ]
  },
  {
   "cell_type": "markdown",
   "metadata": {
    "id": "4GZGPPFQW2Zh"
   },
   "source": [
    "# **Load synthetic data**"
   ]
  },
  {
   "cell_type": "code",
   "execution_count": 170,
   "metadata": {
    "id": "Ca1OSKv0TPL_",
    "tags": []
   },
   "outputs": [
    {
     "name": "stdout",
     "output_type": "stream",
     "text": [
      "<class 'pandas.core.frame.DataFrame'>\n",
      "RangeIndex: 40000 entries, 0 to 39999\n",
      "Data columns (total 14 columns):\n",
      " #   Column          Non-Null Count  Dtype  \n",
      "---  ------          --------------  -----  \n",
      " 0   PatientId       40000 non-null  float64\n",
      " 1   AppointmentID   40000 non-null  int64  \n",
      " 2   Gender          40000 non-null  object \n",
      " 3   RegisterDay     40000 non-null  object \n",
      " 4   AppointmentDay  40000 non-null  object \n",
      " 5   Age             40000 non-null  int64  \n",
      " 6   Neighbourhood   40000 non-null  object \n",
      " 7   Scholarship     40000 non-null  int64  \n",
      " 8   Hipertension    40000 non-null  int64  \n",
      " 9   Diabetes        40000 non-null  int64  \n",
      " 10  Alcoholism      40000 non-null  int64  \n",
      " 11  Handicap        40000 non-null  int64  \n",
      " 12  SMS_received    40000 non-null  int64  \n",
      " 13  No-show         40000 non-null  object \n",
      "dtypes: float64(1), int64(8), object(5)\n",
      "memory usage: 4.3+ MB\n"
     ]
    }
   ],
   "source": [
    "synth_data = pd.read_csv('synth_data.csv')\n",
    "synth_data.info()"
   ]
  },
  {
   "cell_type": "markdown",
   "metadata": {
    "id": "QNLZL9RDRkEX"
   },
   "source": [
    "# **Extract Features**\n",
    "Here I reformat the datetime variables ScheduleDay->RegisterDay and AppointmentDay, and add feature wait_time (the time between RegisterDay and AppointmentDay)."
   ]
  },
  {
   "cell_type": "code",
   "execution_count": 171,
   "metadata": {},
   "outputs": [],
   "source": [
    "\n",
    "# Add No-show column back into training + test set\n",
    "train[\"No-show\"] = target_train\n",
    "test[\"No-show\"] = target_test\n",
    "\n",
    "def extract_features(dataset):\n",
    "    # get month, day name and hour from Start Time after convert\n",
    "    dataset['Appointment_year'] = dataset['AppointmentDay'].dt.year\n",
    "    dataset['Appointment_month'] = dataset['AppointmentDay'].dt.month\n",
    "    dataset['Appointment_day'] = dataset['AppointmentDay'].dt.day\n",
    "    dataset['Appointment_day_name'] = dataset['AppointmentDay'].dt.day_name()\n",
    "    #appointment hour is always 0 so we leave it out\n",
    "    \n",
    "    # get month and day name and hour from Start Time after convert\n",
    "    dataset['Register_year'] = dataset['RegisterDay'].dt.year\n",
    "    dataset['Register_month'] = dataset['RegisterDay'].dt.month\n",
    "    dataset['Register_day'] = dataset['RegisterDay'].dt.day\n",
    "    dataset['Register_day_name'] = dataset['RegisterDay'].dt.day_name()\n",
    "    dataset['Register_hour'] = dataset['RegisterDay'].dt.hour\n",
    "    \n",
    "    dataset['waiting_time'] = (dataset['AppointmentDay']-dataset['RegisterDay']).dt.days\n",
    "    \n",
    "    dataset.drop('AppointmentDay', axis=1, inplace=True)\n",
    "    dataset.drop('RegisterDay', axis=1, inplace=True)\n",
    "    \n",
    "    \n",
    "def convert_datetime(dataset):\n",
    "    dataset.rename(columns={'Handcap':'Handicap'},inplace=True)\n",
    "    dataset.rename(columns={\"ScheduledDay\":\"RegisterDay\"},inplace=True)\n",
    "    dataset['AppointmentDay'] = pd.to_datetime(dataset['AppointmentDay']).dt.tz_localize(None)\n",
    "    dataset['RegisterDay'] = pd.to_datetime(dataset['RegisterDay']).dt.tz_localize(None)\n",
    "convert_datetime(original_data)\n",
    "extract_features(original_data)\n",
    "convert_datetime(synth_data)\n",
    "extract_features(synth_data)"
   ]
  },
  {
   "cell_type": "code",
   "execution_count": 172,
   "metadata": {},
   "outputs": [],
   "source": [
    "# Split real data into training + test set\n",
    "train, test, target_train, target_test = train_test_split(original_data.drop(\"No-show\", axis = 1), original_data[\"No-show\"], test_size = 0.4, random_state = 42)\n",
    "train[\"No-show\"] = target_train\n",
    "test[\"No-show\"] = target_test"
   ]
  },
  {
   "cell_type": "code",
   "execution_count": 173,
   "metadata": {},
   "outputs": [],
   "source": [
    "# Add the 40,000 synthetic rows of data to training data + remove dataset column\n",
    "synth_train = pd.concat([train, synth_data])"
   ]
  },
  {
   "cell_type": "code",
   "execution_count": 174,
   "metadata": {
    "colab": {
     "base_uri": "https://localhost:8080/"
    },
    "id": "4IzD2z5OPDJ6",
    "outputId": "139fa681-dc87-41eb-85d6-338769a44abb",
    "tags": []
   },
   "outputs": [
    {
     "name": "stdout",
     "output_type": "stream",
     "text": [
      "Training size (real): (66316, 22)\n",
      "Training size (fake + real): (106316, 22)\n",
      "Testing size (real: (44211, 22)\n"
     ]
    }
   ],
   "source": [
    "print(\"Training size (real):\", train.shape)\n",
    "print(\"Training size (fake + real):\", synth_train.shape)\n",
    "print(\"Testing size (real:\", test.shape)"
   ]
  },
  {
   "cell_type": "markdown",
   "metadata": {
    "id": "QNLZL9RDRkEX"
   },
   "source": [
    "# **Visualising Data**\n",
    "As mentioned the main problem with this dataset is a large class imbalance for the target feature `No-show`. I will model the data with the imbalance to see how it performs but there may be a way to improve it, synthetic data generation.\n",
    "\n",
    "The other features look somewhat normal except some which have zero variance hence will be ignored."
   ]
  },
  {
   "cell_type": "code",
   "execution_count": 175,
   "metadata": {},
   "outputs": [],
   "source": [
    "original = original_data.copy(deep=True)\n",
    "original['synthetic'] = 'No'\n",
    "synthetic = synth_data.copy(deep=True)\n",
    "synthetic['synthetic'] = 'Yes'\n",
    "compare = pd.concat([synthetic, original])"
   ]
  },
  {
   "cell_type": "code",
   "execution_count": 177,
   "metadata": {},
   "outputs": [
    {
     "name": "stdout",
     "output_type": "stream",
     "text": [
      "Target looks like classification\n"
     ]
    },
    {
     "data": {
      "image/png": "[encoded data removed]",
      "text/plain": [
       "<Figure size 432x288 with 1 Axes>"
      ]
     },
     "metadata": {
      "needs_background": "light"
     },
     "output_type": "display_data"
    },
    {
     "data": {
      "image/png": "[encoded data removed]",
      "text/plain": [
       "<Figure size 864x432 with 9 Axes>"
      ]
     },
     "metadata": {
      "needs_background": "light"
     },
     "output_type": "display_data"
    },
    {
     "data": {
      "image/png": "[encoded data removed]",
      "text/plain": [
       "<Figure size 864x1080 with 9 Axes>"
      ]
     },
     "metadata": {
      "needs_background": "light"
     },
     "output_type": "display_data"
    }
   ],
   "source": [
    "# Plot summaries of continuous + categorical features\n",
    "## Type hints are used to force types on certain features\n",
    "types = {\"Age\" : \"continuous\", \"Appointment_month\" : \"continuous\",\n",
    "         \"Register_hour\" : \"continuous\", \"Register_month\" : \"continuous\",\n",
    "        \"waiting_time\" : \"continuous\"}\n",
    "\n",
    "\n",
    "db.plot(compare, y = \"synthetic\", type_hints = types, plot_pairwise = False)"
   ]
  },
  {
   "cell_type": "code",
   "execution_count": 178,
   "metadata": {},
   "outputs": [
    {
     "name": "stdout",
     "output_type": "stream",
     "text": [
      "Target looks like classification\n"
     ]
    },
    {
     "data": {
      "image/png": "[encoded data removed]",
      "text/plain": [
       "<Figure size 432x288 with 1 Axes>"
      ]
     },
     "metadata": {
      "needs_background": "light"
     },
     "output_type": "display_data"
    },
    {
     "data": {
      "image/png": "[encoded data removed]",
      "text/plain": [
       "<Figure size 864x432 with 9 Axes>"
      ]
     },
     "metadata": {
      "needs_background": "light"
     },
     "output_type": "display_data"
    },
    {
     "data": {
      "image/png": "[encoded data removed]",
      "text/plain": [
       "<Figure size 864x1080 with 9 Axes>"
      ]
     },
     "metadata": {
      "needs_background": "light"
     },
     "output_type": "display_data"
    }
   ],
   "source": [
    "db.plot(compare, y = \"No-show\", type_hints = types, plot_pairwise = False)"
   ]
  },
  {
   "cell_type": "raw",
   "metadata": {
    "id": "QNLZL9RDRkEX"
   },
   "source": [
    "# **Visualising Original Data**"
   ]
  },
  {
   "cell_type": "code",
   "execution_count": 179,
   "metadata": {
    "colab": {
     "base_uri": "https://localhost:8080/",
     "height": 1000
    },
    "id": "CSin6YAcRmYx",
    "outputId": "d8d36165-33d1-481d-c84a-c1db4f3f0565"
   },
   "outputs": [
    {
     "name": "stdout",
     "output_type": "stream",
     "text": [
      "Target looks like classification\n"
     ]
    },
    {
     "data": {
      "image/png": "[encoded data removed]",
      "text/plain": [
       "<Figure size 432x288 with 1 Axes>"
      ]
     },
     "metadata": {
      "needs_background": "light"
     },
     "output_type": "display_data"
    },
    {
     "data": {
      "image/png": "[encoded data removed]",
      "text/plain": [
       "<Figure size 864x432 with 9 Axes>"
      ]
     },
     "metadata": {
      "needs_background": "light"
     },
     "output_type": "display_data"
    },
    {
     "data": {
      "image/png": "[encoded data removed]",
      "text/plain": [
       "<Figure size 1152x720 with 8 Axes>"
      ]
     },
     "metadata": {
      "needs_background": "light"
     },
     "output_type": "display_data"
    }
   ],
   "source": [
    "# Plot summaries of continuous + categorical features\n",
    "## Type hints are used to force types on certain features\n",
    "types = {\"Age\" : \"continuous\", \"Appointment_month\" : \"continuous\",\n",
    "         \"Register_hour\" : \"continuous\", \"Register_month\" : \"continuous\",\n",
    "        \"waiting_time\" : \"continuous\"}\n",
    "\n",
    "db.plot(original_data, y = \"No-show\", type_hints = types, plot_pairwise = False)"
   ]
  },
  {
   "cell_type": "markdown",
   "metadata": {
    "id": "M79_YUAS7EbO"
   },
   "source": [
    "# **First modelling w/original data**\n",
    "I'll use `Pycaret` to model the data given it's easy of use and speed. It can handle a lot of the preprocessing, modelling, evaluation and interpretation. Given the dataset is ~1.5k rows the processing isn't too intensive but if it increased in size thankfully Pycaret has GPU functionality.\n",
    "\n",
    "Ordinal features need to have their levels known and ordered using a dictionary which can quickly be done."
   ]
  },
  {
   "cell_type": "code",
   "execution_count": 98,
   "metadata": {},
   "outputs": [
    {
     "name": "stdout",
     "output_type": "stream",
     "text": [
      "<class 'pandas.core.frame.DataFrame'>\n",
      "RangeIndex: 110527 entries, 0 to 110526\n",
      "Data columns (total 22 columns):\n",
      " #   Column                Non-Null Count   Dtype  \n",
      "---  ------                --------------   -----  \n",
      " 0   PatientId             110527 non-null  float64\n",
      " 1   AppointmentID         110527 non-null  int64  \n",
      " 2   Gender                110527 non-null  object \n",
      " 3   Age                   110527 non-null  int64  \n",
      " 4   Neighbourhood         110527 non-null  object \n",
      " 5   Scholarship           110527 non-null  int64  \n",
      " 6   Hipertension          110527 non-null  int64  \n",
      " 7   Diabetes              110527 non-null  int64  \n",
      " 8   Alcoholism            110527 non-null  int64  \n",
      " 9   Handicap              110527 non-null  int64  \n",
      " 10  SMS_received          110527 non-null  int64  \n",
      " 11  No-show               110527 non-null  object \n",
      " 12  Appointment_year      110527 non-null  int64  \n",
      " 13  Appointment_month     110527 non-null  int64  \n",
      " 14  Appointment_day       110527 non-null  int64  \n",
      " 15  Appointment_day_name  110527 non-null  object \n",
      " 16  Register_year         110527 non-null  int64  \n",
      " 17  Register_month        110527 non-null  int64  \n",
      " 18  Register_day          110527 non-null  int64  \n",
      " 19  Register_day_name     110527 non-null  object \n",
      " 20  Register_hour         110527 non-null  int64  \n",
      " 21  waiting_time          110527 non-null  int64  \n",
      "dtypes: float64(1), int64(16), object(5)\n",
      "memory usage: 18.6+ MB\n"
     ]
    }
   ],
   "source": [
    "original_data.info()"
   ]
  },
  {
   "cell_type": "markdown",
   "metadata": {
    "id": "VYL0k-MZI0DD"
   },
   "source": [
    "A fairly simply ordering per feature. \n",
    "\n",
    "\n",
    "Now feature(s) can be initialised\n",
    "* Target feature\n",
    "* Continuous features\n",
    "* Ordinal features\n",
    "* Categorical features\n",
    "* Features to ignore"
   ]
  },
  {
   "cell_type": "code",
   "execution_count": 101,
   "metadata": {
    "id": "EQM2L6Z7eAJ4"
   },
   "outputs": [],
   "source": [
    "# Target feature\n",
    "target = \"No-show\"\n",
    "\n",
    "# Continuous/numeric features\n",
    "cont_feats = [\"Age\", \"Appointment_year\",  \"Appointment_month\", \"Appointment_day\",\n",
    "              \"Register_year\", \"Register_month\", \"Register_day\",\n",
    "              \"Register_hour\", \"waiting_time\"]\n",
    "\n",
    "# Ordinal features\n",
    "ord_feats = {}\n",
    "\n",
    "# Categorical geatures\n",
    "cat_feats = [\"Gender\", \"Scholarship\", \"Hipertension\", \n",
    "             \"Diabetes\", \"Alcoholism\", \"Handicap\", \"SMS_received\", \n",
    "             \"Appointment_day_name\", \"Register_day_name\"]\n",
    "\n",
    "# Features to ignore\n",
    "ignore = [\"PatientId\", \"AppointmentID\"]#ignore id variables and datetime type columns"
   ]
  },
  {
   "cell_type": "markdown",
   "metadata": {
    "id": "HwcOpZAxlfWm"
   },
   "source": [
    "Now with the features initalised they can be fed into pycaret's `setup` function involving steps...\n",
    "* Feed in data + features\n",
    "* Normalize continuous features + use `minimax` as the normalization method\n",
    "* Use stratified k folding on the data\n",
    "* Remove features with low variance\n",
    "* Split the data into 70:30 train:test\n",
    "\n",
    "There a lot on offer but not everything is used here."
   ]
  },
  {
   "cell_type": "code",
   "execution_count": 109,
   "metadata": {
    "id": "EkxOXxgjmnXi"
   },
   "outputs": [
    {
     "name": "stdout",
     "output_type": "stream",
     "text": [
      "setup complete!\n"
     ]
    }
   ],
   "source": [
    "# Run pycaret setup\n",
    "setup(train, \n",
    "      target = target, \n",
    "      test_data = test,\n",
    "      fold_strategy = \"stratifiedkfold\",\n",
    "      numeric_features = cont_feats,\n",
    "      categorical_features = cat_feats,\n",
    "      ordinal_features = ord_feats,\n",
    "      ignore_features = ignore,\n",
    "      normalize = True,\n",
    "      normalize_method = \"zscore\",\n",
    "      data_split_stratify = True,\n",
    "      ignore_low_variance = True,\n",
    "      silent = True, verbose = False)\n",
    "print(\"setup complete!\")"
   ]
  },
  {
   "cell_type": "markdown",
   "metadata": {
    "id": "8drjsC4JLjxE"
   },
   "source": [
    "Now it's \"setup\", I like to use `compare_models` to get a rough idea as to which model(s) might be best for this particular use case. The particular metrics I'm looking at are `AUC`, `Precision` and `Recall`. `Recall` is most important as we want to make sure we are correctly identifying the **true negatives** i.e. those that might leave in 6 months. Cross validation is also used."
   ]
  },
  {
   "cell_type": "code",
   "execution_count": 110,
   "metadata": {
    "colab": {
     "base_uri": "https://localhost:8080/",
     "height": 612,
     "referenced_widgets": [
      "efd526e96603472aa5926403d7aaab51",
      "307a2747200e4a7189f15039c8d147ef",
      "daef4644f9274987bc78d4ed7ef34560"
     ]
    },
    "id": "FCJq8SRWp_Ti",
    "outputId": "274b03e4-6147-4679-b735-288030211d1a"
   },
   "outputs": [
    {
     "data": {
      "text/html": [
       "<style  type=\"text/css\" >\n",
       "    #T_1e7b6fee_87f2_11eb_887b_acde48001122 th {\n",
       "          text-align: left;\n",
       "    }#T_1e7b6fee_87f2_11eb_887b_acde48001122row0_col0,#T_1e7b6fee_87f2_11eb_887b_acde48001122row0_col1,#T_1e7b6fee_87f2_11eb_887b_acde48001122row0_col2,#T_1e7b6fee_87f2_11eb_887b_acde48001122row0_col4,#T_1e7b6fee_87f2_11eb_887b_acde48001122row0_col6,#T_1e7b6fee_87f2_11eb_887b_acde48001122row0_col7,#T_1e7b6fee_87f2_11eb_887b_acde48001122row1_col0,#T_1e7b6fee_87f2_11eb_887b_acde48001122row1_col1,#T_1e7b6fee_87f2_11eb_887b_acde48001122row1_col2,#T_1e7b6fee_87f2_11eb_887b_acde48001122row1_col3,#T_1e7b6fee_87f2_11eb_887b_acde48001122row1_col4,#T_1e7b6fee_87f2_11eb_887b_acde48001122row1_col5,#T_1e7b6fee_87f2_11eb_887b_acde48001122row1_col6,#T_1e7b6fee_87f2_11eb_887b_acde48001122row1_col7,#T_1e7b6fee_87f2_11eb_887b_acde48001122row2_col0,#T_1e7b6fee_87f2_11eb_887b_acde48001122row2_col1,#T_1e7b6fee_87f2_11eb_887b_acde48001122row2_col2,#T_1e7b6fee_87f2_11eb_887b_acde48001122row2_col3,#T_1e7b6fee_87f2_11eb_887b_acde48001122row2_col4,#T_1e7b6fee_87f2_11eb_887b_acde48001122row2_col5,#T_1e7b6fee_87f2_11eb_887b_acde48001122row2_col6,#T_1e7b6fee_87f2_11eb_887b_acde48001122row2_col7,#T_1e7b6fee_87f2_11eb_887b_acde48001122row3_col0,#T_1e7b6fee_87f2_11eb_887b_acde48001122row3_col1,#T_1e7b6fee_87f2_11eb_887b_acde48001122row3_col2,#T_1e7b6fee_87f2_11eb_887b_acde48001122row3_col3,#T_1e7b6fee_87f2_11eb_887b_acde48001122row3_col4,#T_1e7b6fee_87f2_11eb_887b_acde48001122row3_col5,#T_1e7b6fee_87f2_11eb_887b_acde48001122row3_col6,#T_1e7b6fee_87f2_11eb_887b_acde48001122row3_col7,#T_1e7b6fee_87f2_11eb_887b_acde48001122row4_col0,#T_1e7b6fee_87f2_11eb_887b_acde48001122row4_col1,#T_1e7b6fee_87f2_11eb_887b_acde48001122row4_col2,#T_1e7b6fee_87f2_11eb_887b_acde48001122row4_col3,#T_1e7b6fee_87f2_11eb_887b_acde48001122row4_col4,#T_1e7b6fee_87f2_11eb_887b_acde48001122row4_col5,#T_1e7b6fee_87f2_11eb_887b_acde48001122row4_col7,#T_1e7b6fee_87f2_11eb_887b_acde48001122row5_col0,#T_1e7b6fee_87f2_11eb_887b_acde48001122row5_col1,#T_1e7b6fee_87f2_11eb_887b_acde48001122row5_col2,#T_1e7b6fee_87f2_11eb_887b_acde48001122row5_col3,#T_1e7b6fee_87f2_11eb_887b_acde48001122row5_col4,#T_1e7b6fee_87f2_11eb_887b_acde48001122row5_col5,#T_1e7b6fee_87f2_11eb_887b_acde48001122row5_col6,#T_1e7b6fee_87f2_11eb_887b_acde48001122row6_col0,#T_1e7b6fee_87f2_11eb_887b_acde48001122row6_col1,#T_1e7b6fee_87f2_11eb_887b_acde48001122row6_col2,#T_1e7b6fee_87f2_11eb_887b_acde48001122row6_col3,#T_1e7b6fee_87f2_11eb_887b_acde48001122row6_col4,#T_1e7b6fee_87f2_11eb_887b_acde48001122row6_col5,#T_1e7b6fee_87f2_11eb_887b_acde48001122row6_col6,#T_1e7b6fee_87f2_11eb_887b_acde48001122row6_col7,#T_1e7b6fee_87f2_11eb_887b_acde48001122row7_col0,#T_1e7b6fee_87f2_11eb_887b_acde48001122row7_col3,#T_1e7b6fee_87f2_11eb_887b_acde48001122row7_col4,#T_1e7b6fee_87f2_11eb_887b_acde48001122row7_col5,#T_1e7b6fee_87f2_11eb_887b_acde48001122row7_col6,#T_1e7b6fee_87f2_11eb_887b_acde48001122row7_col7,#T_1e7b6fee_87f2_11eb_887b_acde48001122row8_col0,#T_1e7b6fee_87f2_11eb_887b_acde48001122row8_col1,#T_1e7b6fee_87f2_11eb_887b_acde48001122row8_col2,#T_1e7b6fee_87f2_11eb_887b_acde48001122row8_col3,#T_1e7b6fee_87f2_11eb_887b_acde48001122row8_col4,#T_1e7b6fee_87f2_11eb_887b_acde48001122row8_col5,#T_1e7b6fee_87f2_11eb_887b_acde48001122row8_col6,#T_1e7b6fee_87f2_11eb_887b_acde48001122row8_col7,#T_1e7b6fee_87f2_11eb_887b_acde48001122row9_col0,#T_1e7b6fee_87f2_11eb_887b_acde48001122row9_col1,#T_1e7b6fee_87f2_11eb_887b_acde48001122row9_col2,#T_1e7b6fee_87f2_11eb_887b_acde48001122row9_col3,#T_1e7b6fee_87f2_11eb_887b_acde48001122row9_col5,#T_1e7b6fee_87f2_11eb_887b_acde48001122row9_col6,#T_1e7b6fee_87f2_11eb_887b_acde48001122row9_col7,#T_1e7b6fee_87f2_11eb_887b_acde48001122row10_col0,#T_1e7b6fee_87f2_11eb_887b_acde48001122row10_col1,#T_1e7b6fee_87f2_11eb_887b_acde48001122row10_col2,#T_1e7b6fee_87f2_11eb_887b_acde48001122row10_col3,#T_1e7b6fee_87f2_11eb_887b_acde48001122row10_col4,#T_1e7b6fee_87f2_11eb_887b_acde48001122row10_col5,#T_1e7b6fee_87f2_11eb_887b_acde48001122row10_col6,#T_1e7b6fee_87f2_11eb_887b_acde48001122row10_col7,#T_1e7b6fee_87f2_11eb_887b_acde48001122row11_col0,#T_1e7b6fee_87f2_11eb_887b_acde48001122row11_col1,#T_1e7b6fee_87f2_11eb_887b_acde48001122row11_col2,#T_1e7b6fee_87f2_11eb_887b_acde48001122row11_col3,#T_1e7b6fee_87f2_11eb_887b_acde48001122row11_col4,#T_1e7b6fee_87f2_11eb_887b_acde48001122row11_col5,#T_1e7b6fee_87f2_11eb_887b_acde48001122row11_col6,#T_1e7b6fee_87f2_11eb_887b_acde48001122row11_col7,#T_1e7b6fee_87f2_11eb_887b_acde48001122row12_col0,#T_1e7b6fee_87f2_11eb_887b_acde48001122row12_col1,#T_1e7b6fee_87f2_11eb_887b_acde48001122row12_col2,#T_1e7b6fee_87f2_11eb_887b_acde48001122row12_col3,#T_1e7b6fee_87f2_11eb_887b_acde48001122row12_col4,#T_1e7b6fee_87f2_11eb_887b_acde48001122row12_col5,#T_1e7b6fee_87f2_11eb_887b_acde48001122row12_col6,#T_1e7b6fee_87f2_11eb_887b_acde48001122row12_col7,#T_1e7b6fee_87f2_11eb_887b_acde48001122row13_col0,#T_1e7b6fee_87f2_11eb_887b_acde48001122row13_col1,#T_1e7b6fee_87f2_11eb_887b_acde48001122row13_col2,#T_1e7b6fee_87f2_11eb_887b_acde48001122row13_col3,#T_1e7b6fee_87f2_11eb_887b_acde48001122row13_col4,#T_1e7b6fee_87f2_11eb_887b_acde48001122row13_col5,#T_1e7b6fee_87f2_11eb_887b_acde48001122row13_col6,#T_1e7b6fee_87f2_11eb_887b_acde48001122row13_col7,#T_1e7b6fee_87f2_11eb_887b_acde48001122row14_col0,#T_1e7b6fee_87f2_11eb_887b_acde48001122row14_col1,#T_1e7b6fee_87f2_11eb_887b_acde48001122row14_col2,#T_1e7b6fee_87f2_11eb_887b_acde48001122row14_col3,#T_1e7b6fee_87f2_11eb_887b_acde48001122row14_col4,#T_1e7b6fee_87f2_11eb_887b_acde48001122row14_col5,#T_1e7b6fee_87f2_11eb_887b_acde48001122row14_col6,#T_1e7b6fee_87f2_11eb_887b_acde48001122row14_col7{\n",
       "            text-align:  left;\n",
       "            text-align:  left;\n",
       "        }#T_1e7b6fee_87f2_11eb_887b_acde48001122row0_col3,#T_1e7b6fee_87f2_11eb_887b_acde48001122row0_col5,#T_1e7b6fee_87f2_11eb_887b_acde48001122row4_col6,#T_1e7b6fee_87f2_11eb_887b_acde48001122row5_col7,#T_1e7b6fee_87f2_11eb_887b_acde48001122row7_col1,#T_1e7b6fee_87f2_11eb_887b_acde48001122row7_col2,#T_1e7b6fee_87f2_11eb_887b_acde48001122row9_col4{\n",
       "            text-align:  left;\n",
       "            text-align:  left;\n",
       "            background-color:  yellow;\n",
       "        }#T_1e7b6fee_87f2_11eb_887b_acde48001122row0_col8,#T_1e7b6fee_87f2_11eb_887b_acde48001122row1_col8,#T_1e7b6fee_87f2_11eb_887b_acde48001122row2_col8,#T_1e7b6fee_87f2_11eb_887b_acde48001122row3_col8,#T_1e7b6fee_87f2_11eb_887b_acde48001122row4_col8,#T_1e7b6fee_87f2_11eb_887b_acde48001122row5_col8,#T_1e7b6fee_87f2_11eb_887b_acde48001122row6_col8,#T_1e7b6fee_87f2_11eb_887b_acde48001122row7_col8,#T_1e7b6fee_87f2_11eb_887b_acde48001122row8_col8,#T_1e7b6fee_87f2_11eb_887b_acde48001122row9_col8,#T_1e7b6fee_87f2_11eb_887b_acde48001122row10_col8,#T_1e7b6fee_87f2_11eb_887b_acde48001122row11_col8,#T_1e7b6fee_87f2_11eb_887b_acde48001122row13_col8,#T_1e7b6fee_87f2_11eb_887b_acde48001122row14_col8{\n",
       "            text-align:  left;\n",
       "            text-align:  left;\n",
       "            background-color:  lightgrey;\n",
       "        }#T_1e7b6fee_87f2_11eb_887b_acde48001122row12_col8{\n",
       "            text-align:  left;\n",
       "            text-align:  left;\n",
       "            background-color:  yellow;\n",
       "            background-color:  lightgrey;\n",
       "        }</style><table id=\"T_1e7b6fee_87f2_11eb_887b_acde48001122\" ><thead>    <tr>        <th class=\"blank level0\" ></th>        <th class=\"col_heading level0 col0\" >Model</th>        <th class=\"col_heading level0 col1\" >Accuracy</th>        <th class=\"col_heading level0 col2\" >AUC</th>        <th class=\"col_heading level0 col3\" >Recall</th>        <th class=\"col_heading level0 col4\" >Prec.</th>        <th class=\"col_heading level0 col5\" >F1</th>        <th class=\"col_heading level0 col6\" >Kappa</th>        <th class=\"col_heading level0 col7\" >MCC</th>        <th class=\"col_heading level0 col8\" >TT (Sec)</th>    </tr></thead><tbody>\n",
       "                <tr>\n",
       "                        <th id=\"T_1e7b6fee_87f2_11eb_887b_acde48001122level0_row0\" class=\"row_heading level0 row0\" >nb</th>\n",
       "                        <td id=\"T_1e7b6fee_87f2_11eb_887b_acde48001122row0_col0\" class=\"data row0 col0\" >Naive Bayes</td>\n",
       "                        <td id=\"T_1e7b6fee_87f2_11eb_887b_acde48001122row0_col1\" class=\"data row0 col1\" >0.3404</td>\n",
       "                        <td id=\"T_1e7b6fee_87f2_11eb_887b_acde48001122row0_col2\" class=\"data row0 col2\" >0.5696</td>\n",
       "                        <td id=\"T_1e7b6fee_87f2_11eb_887b_acde48001122row0_col3\" class=\"data row0 col3\" >0.8432</td>\n",
       "                        <td id=\"T_1e7b6fee_87f2_11eb_887b_acde48001122row0_col4\" class=\"data row0 col4\" >0.2146</td>\n",
       "                        <td id=\"T_1e7b6fee_87f2_11eb_887b_acde48001122row0_col5\" class=\"data row0 col5\" >0.3420</td>\n",
       "                        <td id=\"T_1e7b6fee_87f2_11eb_887b_acde48001122row0_col6\" class=\"data row0 col6\" >0.0268</td>\n",
       "                        <td id=\"T_1e7b6fee_87f2_11eb_887b_acde48001122row0_col7\" class=\"data row0 col7\" >0.0547</td>\n",
       "                        <td id=\"T_1e7b6fee_87f2_11eb_887b_acde48001122row0_col8\" class=\"data row0 col8\" >0.0660</td>\n",
       "            </tr>\n",
       "            <tr>\n",
       "                        <th id=\"T_1e7b6fee_87f2_11eb_887b_acde48001122level0_row1\" class=\"row_heading level0 row1\" >dt</th>\n",
       "                        <td id=\"T_1e7b6fee_87f2_11eb_887b_acde48001122row1_col0\" class=\"data row1 col0\" >Decision Tree Classifier</td>\n",
       "                        <td id=\"T_1e7b6fee_87f2_11eb_887b_acde48001122row1_col1\" class=\"data row1 col1\" >0.7268</td>\n",
       "                        <td id=\"T_1e7b6fee_87f2_11eb_887b_acde48001122row1_col2\" class=\"data row1 col2\" >0.5789</td>\n",
       "                        <td id=\"T_1e7b6fee_87f2_11eb_887b_acde48001122row1_col3\" class=\"data row1 col3\" >0.3282</td>\n",
       "                        <td id=\"T_1e7b6fee_87f2_11eb_887b_acde48001122row1_col4\" class=\"data row1 col4\" >0.3281</td>\n",
       "                        <td id=\"T_1e7b6fee_87f2_11eb_887b_acde48001122row1_col5\" class=\"data row1 col5\" >0.3281</td>\n",
       "                        <td id=\"T_1e7b6fee_87f2_11eb_887b_acde48001122row1_col6\" class=\"data row1 col6\" >0.1566</td>\n",
       "                        <td id=\"T_1e7b6fee_87f2_11eb_887b_acde48001122row1_col7\" class=\"data row1 col7\" >0.1566</td>\n",
       "                        <td id=\"T_1e7b6fee_87f2_11eb_887b_acde48001122row1_col8\" class=\"data row1 col8\" >0.3710</td>\n",
       "            </tr>\n",
       "            <tr>\n",
       "                        <th id=\"T_1e7b6fee_87f2_11eb_887b_acde48001122level0_row2\" class=\"row_heading level0 row2\" >knn</th>\n",
       "                        <td id=\"T_1e7b6fee_87f2_11eb_887b_acde48001122row2_col0\" class=\"data row2 col0\" >K Neighbors Classifier</td>\n",
       "                        <td id=\"T_1e7b6fee_87f2_11eb_887b_acde48001122row2_col1\" class=\"data row2 col1\" >0.7749</td>\n",
       "                        <td id=\"T_1e7b6fee_87f2_11eb_887b_acde48001122row2_col2\" class=\"data row2 col2\" >0.6735</td>\n",
       "                        <td id=\"T_1e7b6fee_87f2_11eb_887b_acde48001122row2_col3\" class=\"data row2 col3\" >0.2076</td>\n",
       "                        <td id=\"T_1e7b6fee_87f2_11eb_887b_acde48001122row2_col4\" class=\"data row2 col4\" >0.3972</td>\n",
       "                        <td id=\"T_1e7b6fee_87f2_11eb_887b_acde48001122row2_col5\" class=\"data row2 col5\" >0.2726</td>\n",
       "                        <td id=\"T_1e7b6fee_87f2_11eb_887b_acde48001122row2_col6\" class=\"data row2 col6\" >0.1547</td>\n",
       "                        <td id=\"T_1e7b6fee_87f2_11eb_887b_acde48001122row2_col7\" class=\"data row2 col7\" >0.1661</td>\n",
       "                        <td id=\"T_1e7b6fee_87f2_11eb_887b_acde48001122row2_col8\" class=\"data row2 col8\" >7.5760</td>\n",
       "            </tr>\n",
       "            <tr>\n",
       "                        <th id=\"T_1e7b6fee_87f2_11eb_887b_acde48001122level0_row3\" class=\"row_heading level0 row3\" >qda</th>\n",
       "                        <td id=\"T_1e7b6fee_87f2_11eb_887b_acde48001122row3_col0\" class=\"data row3 col0\" >Quadratic Discriminant Analysis</td>\n",
       "                        <td id=\"T_1e7b6fee_87f2_11eb_887b_acde48001122row3_col1\" class=\"data row3 col1\" >0.5484</td>\n",
       "                        <td id=\"T_1e7b6fee_87f2_11eb_887b_acde48001122row3_col2\" class=\"data row3 col2\" >0.5004</td>\n",
       "                        <td id=\"T_1e7b6fee_87f2_11eb_887b_acde48001122row3_col3\" class=\"data row3 col3\" >0.4196</td>\n",
       "                        <td id=\"T_1e7b6fee_87f2_11eb_887b_acde48001122row3_col4\" class=\"data row3 col4\" >0.2047</td>\n",
       "                        <td id=\"T_1e7b6fee_87f2_11eb_887b_acde48001122row3_col5\" class=\"data row3 col5\" >0.2696</td>\n",
       "                        <td id=\"T_1e7b6fee_87f2_11eb_887b_acde48001122row3_col6\" class=\"data row3 col6\" >0.0017</td>\n",
       "                        <td id=\"T_1e7b6fee_87f2_11eb_887b_acde48001122row3_col7\" class=\"data row3 col7\" >0.0010</td>\n",
       "                        <td id=\"T_1e7b6fee_87f2_11eb_887b_acde48001122row3_col8\" class=\"data row3 col8\" >0.9410</td>\n",
       "            </tr>\n",
       "            <tr>\n",
       "                        <th id=\"T_1e7b6fee_87f2_11eb_887b_acde48001122level0_row4\" class=\"row_heading level0 row4\" >et</th>\n",
       "                        <td id=\"T_1e7b6fee_87f2_11eb_887b_acde48001122row4_col0\" class=\"data row4 col0\" >Extra Trees Classifier</td>\n",
       "                        <td id=\"T_1e7b6fee_87f2_11eb_887b_acde48001122row4_col1\" class=\"data row4 col1\" >0.7841</td>\n",
       "                        <td id=\"T_1e7b6fee_87f2_11eb_887b_acde48001122row4_col2\" class=\"data row4 col2\" >0.7182</td>\n",
       "                        <td id=\"T_1e7b6fee_87f2_11eb_887b_acde48001122row4_col3\" class=\"data row4 col3\" >0.1945</td>\n",
       "                        <td id=\"T_1e7b6fee_87f2_11eb_887b_acde48001122row4_col4\" class=\"data row4 col4\" >0.4310</td>\n",
       "                        <td id=\"T_1e7b6fee_87f2_11eb_887b_acde48001122row4_col5\" class=\"data row4 col5\" >0.2680</td>\n",
       "                        <td id=\"T_1e7b6fee_87f2_11eb_887b_acde48001122row4_col6\" class=\"data row4 col6\" >0.1621</td>\n",
       "                        <td id=\"T_1e7b6fee_87f2_11eb_887b_acde48001122row4_col7\" class=\"data row4 col7\" >0.1798</td>\n",
       "                        <td id=\"T_1e7b6fee_87f2_11eb_887b_acde48001122row4_col8\" class=\"data row4 col8\" >4.8390</td>\n",
       "            </tr>\n",
       "            <tr>\n",
       "                        <th id=\"T_1e7b6fee_87f2_11eb_887b_acde48001122level0_row5\" class=\"row_heading level0 row5\" >rf</th>\n",
       "                        <td id=\"T_1e7b6fee_87f2_11eb_887b_acde48001122row5_col0\" class=\"data row5 col0\" >Random Forest Classifier</td>\n",
       "                        <td id=\"T_1e7b6fee_87f2_11eb_887b_acde48001122row5_col1\" class=\"data row5 col1\" >0.7997</td>\n",
       "                        <td id=\"T_1e7b6fee_87f2_11eb_887b_acde48001122row5_col2\" class=\"data row5 col2\" >0.7359</td>\n",
       "                        <td id=\"T_1e7b6fee_87f2_11eb_887b_acde48001122row5_col3\" class=\"data row5 col3\" >0.1540</td>\n",
       "                        <td id=\"T_1e7b6fee_87f2_11eb_887b_acde48001122row5_col4\" class=\"data row5 col4\" >0.5248</td>\n",
       "                        <td id=\"T_1e7b6fee_87f2_11eb_887b_acde48001122row5_col5\" class=\"data row5 col5\" >0.2380</td>\n",
       "                        <td id=\"T_1e7b6fee_87f2_11eb_887b_acde48001122row5_col6\" class=\"data row5 col6\" >0.1605</td>\n",
       "                        <td id=\"T_1e7b6fee_87f2_11eb_887b_acde48001122row5_col7\" class=\"data row5 col7\" >0.2011</td>\n",
       "                        <td id=\"T_1e7b6fee_87f2_11eb_887b_acde48001122row5_col8\" class=\"data row5 col8\" >3.3530</td>\n",
       "            </tr>\n",
       "            <tr>\n",
       "                        <th id=\"T_1e7b6fee_87f2_11eb_887b_acde48001122level0_row6\" class=\"row_heading level0 row6\" >xgboost</th>\n",
       "                        <td id=\"T_1e7b6fee_87f2_11eb_887b_acde48001122row6_col0\" class=\"data row6 col0\" >Extreme Gradient Boosting</td>\n",
       "                        <td id=\"T_1e7b6fee_87f2_11eb_887b_acde48001122row6_col1\" class=\"data row6 col1\" >0.7985</td>\n",
       "                        <td id=\"T_1e7b6fee_87f2_11eb_887b_acde48001122row6_col2\" class=\"data row6 col2\" >0.7407</td>\n",
       "                        <td id=\"T_1e7b6fee_87f2_11eb_887b_acde48001122row6_col3\" class=\"data row6 col3\" >0.0971</td>\n",
       "                        <td id=\"T_1e7b6fee_87f2_11eb_887b_acde48001122row6_col4\" class=\"data row6 col4\" >0.5235</td>\n",
       "                        <td id=\"T_1e7b6fee_87f2_11eb_887b_acde48001122row6_col5\" class=\"data row6 col5\" >0.1637</td>\n",
       "                        <td id=\"T_1e7b6fee_87f2_11eb_887b_acde48001122row6_col6\" class=\"data row6 col6\" >0.1069</td>\n",
       "                        <td id=\"T_1e7b6fee_87f2_11eb_887b_acde48001122row6_col7\" class=\"data row6 col7\" >0.1574</td>\n",
       "                        <td id=\"T_1e7b6fee_87f2_11eb_887b_acde48001122row6_col8\" class=\"data row6 col8\" >4.9420</td>\n",
       "            </tr>\n",
       "            <tr>\n",
       "                        <th id=\"T_1e7b6fee_87f2_11eb_887b_acde48001122level0_row7\" class=\"row_heading level0 row7\" >catboost</th>\n",
       "                        <td id=\"T_1e7b6fee_87f2_11eb_887b_acde48001122row7_col0\" class=\"data row7 col0\" >CatBoost Classifier</td>\n",
       "                        <td id=\"T_1e7b6fee_87f2_11eb_887b_acde48001122row7_col1\" class=\"data row7 col1\" >0.8000</td>\n",
       "                        <td id=\"T_1e7b6fee_87f2_11eb_887b_acde48001122row7_col2\" class=\"data row7 col2\" >0.7432</td>\n",
       "                        <td id=\"T_1e7b6fee_87f2_11eb_887b_acde48001122row7_col3\" class=\"data row7 col3\" >0.0764</td>\n",
       "                        <td id=\"T_1e7b6fee_87f2_11eb_887b_acde48001122row7_col4\" class=\"data row7 col4\" >0.5600</td>\n",
       "                        <td id=\"T_1e7b6fee_87f2_11eb_887b_acde48001122row7_col5\" class=\"data row7 col5\" >0.1344</td>\n",
       "                        <td id=\"T_1e7b6fee_87f2_11eb_887b_acde48001122row7_col6\" class=\"data row7 col6\" >0.0899</td>\n",
       "                        <td id=\"T_1e7b6fee_87f2_11eb_887b_acde48001122row7_col7\" class=\"data row7 col7\" >0.1496</td>\n",
       "                        <td id=\"T_1e7b6fee_87f2_11eb_887b_acde48001122row7_col8\" class=\"data row7 col8\" >14.9060</td>\n",
       "            </tr>\n",
       "            <tr>\n",
       "                        <th id=\"T_1e7b6fee_87f2_11eb_887b_acde48001122level0_row8\" class=\"row_heading level0 row8\" >lda</th>\n",
       "                        <td id=\"T_1e7b6fee_87f2_11eb_887b_acde48001122row8_col0\" class=\"data row8 col0\" >Linear Discriminant Analysis</td>\n",
       "                        <td id=\"T_1e7b6fee_87f2_11eb_887b_acde48001122row8_col1\" class=\"data row8 col1\" >0.7897</td>\n",
       "                        <td id=\"T_1e7b6fee_87f2_11eb_887b_acde48001122row8_col2\" class=\"data row8 col2\" >0.6737</td>\n",
       "                        <td id=\"T_1e7b6fee_87f2_11eb_887b_acde48001122row8_col3\" class=\"data row8 col3\" >0.0369</td>\n",
       "                        <td id=\"T_1e7b6fee_87f2_11eb_887b_acde48001122row8_col4\" class=\"data row8 col4\" >0.3420</td>\n",
       "                        <td id=\"T_1e7b6fee_87f2_11eb_887b_acde48001122row8_col5\" class=\"data row8 col5\" >0.0665</td>\n",
       "                        <td id=\"T_1e7b6fee_87f2_11eb_887b_acde48001122row8_col6\" class=\"data row8 col6\" >0.0279</td>\n",
       "                        <td id=\"T_1e7b6fee_87f2_11eb_887b_acde48001122row8_col7\" class=\"data row8 col7\" >0.0514</td>\n",
       "                        <td id=\"T_1e7b6fee_87f2_11eb_887b_acde48001122row8_col8\" class=\"data row8 col8\" >1.2570</td>\n",
       "            </tr>\n",
       "            <tr>\n",
       "                        <th id=\"T_1e7b6fee_87f2_11eb_887b_acde48001122level0_row9\" class=\"row_heading level0 row9\" >lightgbm</th>\n",
       "                        <td id=\"T_1e7b6fee_87f2_11eb_887b_acde48001122row9_col0\" class=\"data row9 col0\" >Light Gradient Boosting Machine</td>\n",
       "                        <td id=\"T_1e7b6fee_87f2_11eb_887b_acde48001122row9_col1\" class=\"data row9 col1\" >0.7992</td>\n",
       "                        <td id=\"T_1e7b6fee_87f2_11eb_887b_acde48001122row9_col2\" class=\"data row9 col2\" >0.7420</td>\n",
       "                        <td id=\"T_1e7b6fee_87f2_11eb_887b_acde48001122row9_col3\" class=\"data row9 col3\" >0.0349</td>\n",
       "                        <td id=\"T_1e7b6fee_87f2_11eb_887b_acde48001122row9_col4\" class=\"data row9 col4\" >0.6053</td>\n",
       "                        <td id=\"T_1e7b6fee_87f2_11eb_887b_acde48001122row9_col5\" class=\"data row9 col5\" >0.0659</td>\n",
       "                        <td id=\"T_1e7b6fee_87f2_11eb_887b_acde48001122row9_col6\" class=\"data row9 col6\" >0.0448</td>\n",
       "                        <td id=\"T_1e7b6fee_87f2_11eb_887b_acde48001122row9_col7\" class=\"data row9 col7\" >0.1087</td>\n",
       "                        <td id=\"T_1e7b6fee_87f2_11eb_887b_acde48001122row9_col8\" class=\"data row9 col8\" >0.7410</td>\n",
       "            </tr>\n",
       "            <tr>\n",
       "                        <th id=\"T_1e7b6fee_87f2_11eb_887b_acde48001122level0_row10\" class=\"row_heading level0 row10\" >lr</th>\n",
       "                        <td id=\"T_1e7b6fee_87f2_11eb_887b_acde48001122row10_col0\" class=\"data row10 col0\" >Logistic Regression</td>\n",
       "                        <td id=\"T_1e7b6fee_87f2_11eb_887b_acde48001122row10_col1\" class=\"data row10 col1\" >0.7930</td>\n",
       "                        <td id=\"T_1e7b6fee_87f2_11eb_887b_acde48001122row10_col2\" class=\"data row10 col2\" >0.6702</td>\n",
       "                        <td id=\"T_1e7b6fee_87f2_11eb_887b_acde48001122row10_col3\" class=\"data row10 col3\" >0.0209</td>\n",
       "                        <td id=\"T_1e7b6fee_87f2_11eb_887b_acde48001122row10_col4\" class=\"data row10 col4\" >0.3487</td>\n",
       "                        <td id=\"T_1e7b6fee_87f2_11eb_887b_acde48001122row10_col5\" class=\"data row10 col5\" >0.0393</td>\n",
       "                        <td id=\"T_1e7b6fee_87f2_11eb_887b_acde48001122row10_col6\" class=\"data row10 col6\" >0.0166</td>\n",
       "                        <td id=\"T_1e7b6fee_87f2_11eb_887b_acde48001122row10_col7\" class=\"data row10 col7\" >0.0397</td>\n",
       "                        <td id=\"T_1e7b6fee_87f2_11eb_887b_acde48001122row10_col8\" class=\"data row10 col8\" >2.3570</td>\n",
       "            </tr>\n",
       "            <tr>\n",
       "                        <th id=\"T_1e7b6fee_87f2_11eb_887b_acde48001122level0_row11\" class=\"row_heading level0 row11\" >ada</th>\n",
       "                        <td id=\"T_1e7b6fee_87f2_11eb_887b_acde48001122row11_col0\" class=\"data row11 col0\" >Ada Boost Classifier</td>\n",
       "                        <td id=\"T_1e7b6fee_87f2_11eb_887b_acde48001122row11_col1\" class=\"data row11 col1\" >0.7961</td>\n",
       "                        <td id=\"T_1e7b6fee_87f2_11eb_887b_acde48001122row11_col2\" class=\"data row11 col2\" >0.7282</td>\n",
       "                        <td id=\"T_1e7b6fee_87f2_11eb_887b_acde48001122row11_col3\" class=\"data row11 col3\" >0.0134</td>\n",
       "                        <td id=\"T_1e7b6fee_87f2_11eb_887b_acde48001122row11_col4\" class=\"data row11 col4\" >0.4491</td>\n",
       "                        <td id=\"T_1e7b6fee_87f2_11eb_887b_acde48001122row11_col5\" class=\"data row11 col5\" >0.0259</td>\n",
       "                        <td id=\"T_1e7b6fee_87f2_11eb_887b_acde48001122row11_col6\" class=\"data row11 col6\" >0.0143</td>\n",
       "                        <td id=\"T_1e7b6fee_87f2_11eb_887b_acde48001122row11_col7\" class=\"data row11 col7\" >0.0472</td>\n",
       "                        <td id=\"T_1e7b6fee_87f2_11eb_887b_acde48001122row11_col8\" class=\"data row11 col8\" >0.7000</td>\n",
       "            </tr>\n",
       "            <tr>\n",
       "                        <th id=\"T_1e7b6fee_87f2_11eb_887b_acde48001122level0_row12\" class=\"row_heading level0 row12\" >ridge</th>\n",
       "                        <td id=\"T_1e7b6fee_87f2_11eb_887b_acde48001122row12_col0\" class=\"data row12 col0\" >Ridge Classifier</td>\n",
       "                        <td id=\"T_1e7b6fee_87f2_11eb_887b_acde48001122row12_col1\" class=\"data row12 col1\" >0.7944</td>\n",
       "                        <td id=\"T_1e7b6fee_87f2_11eb_887b_acde48001122row12_col2\" class=\"data row12 col2\" >0.0000</td>\n",
       "                        <td id=\"T_1e7b6fee_87f2_11eb_887b_acde48001122row12_col3\" class=\"data row12 col3\" >0.0099</td>\n",
       "                        <td id=\"T_1e7b6fee_87f2_11eb_887b_acde48001122row12_col4\" class=\"data row12 col4\" >0.3153</td>\n",
       "                        <td id=\"T_1e7b6fee_87f2_11eb_887b_acde48001122row12_col5\" class=\"data row12 col5\" >0.0191</td>\n",
       "                        <td id=\"T_1e7b6fee_87f2_11eb_887b_acde48001122row12_col6\" class=\"data row12 col6\" >0.0069</td>\n",
       "                        <td id=\"T_1e7b6fee_87f2_11eb_887b_acde48001122row12_col7\" class=\"data row12 col7\" >0.0222</td>\n",
       "                        <td id=\"T_1e7b6fee_87f2_11eb_887b_acde48001122row12_col8\" class=\"data row12 col8\" >0.0590</td>\n",
       "            </tr>\n",
       "            <tr>\n",
       "                        <th id=\"T_1e7b6fee_87f2_11eb_887b_acde48001122level0_row13\" class=\"row_heading level0 row13\" >gbc</th>\n",
       "                        <td id=\"T_1e7b6fee_87f2_11eb_887b_acde48001122row13_col0\" class=\"data row13 col0\" >Gradient Boosting Classifier</td>\n",
       "                        <td id=\"T_1e7b6fee_87f2_11eb_887b_acde48001122row13_col1\" class=\"data row13 col1\" >0.7971</td>\n",
       "                        <td id=\"T_1e7b6fee_87f2_11eb_887b_acde48001122row13_col2\" class=\"data row13 col2\" >0.7344</td>\n",
       "                        <td id=\"T_1e7b6fee_87f2_11eb_887b_acde48001122row13_col3\" class=\"data row13 col3\" >0.0073</td>\n",
       "                        <td id=\"T_1e7b6fee_87f2_11eb_887b_acde48001122row13_col4\" class=\"data row13 col4\" >0.5596</td>\n",
       "                        <td id=\"T_1e7b6fee_87f2_11eb_887b_acde48001122row13_col5\" class=\"data row13 col5\" >0.0144</td>\n",
       "                        <td id=\"T_1e7b6fee_87f2_11eb_887b_acde48001122row13_col6\" class=\"data row13 col6\" >0.0093</td>\n",
       "                        <td id=\"T_1e7b6fee_87f2_11eb_887b_acde48001122row13_col7\" class=\"data row13 col7\" >0.0456</td>\n",
       "                        <td id=\"T_1e7b6fee_87f2_11eb_887b_acde48001122row13_col8\" class=\"data row13 col8\" >2.8860</td>\n",
       "            </tr>\n",
       "            <tr>\n",
       "                        <th id=\"T_1e7b6fee_87f2_11eb_887b_acde48001122level0_row14\" class=\"row_heading level0 row14\" >svm</th>\n",
       "                        <td id=\"T_1e7b6fee_87f2_11eb_887b_acde48001122row14_col0\" class=\"data row14 col0\" >SVM - Linear Kernel</td>\n",
       "                        <td id=\"T_1e7b6fee_87f2_11eb_887b_acde48001122row14_col1\" class=\"data row14 col1\" >0.7968</td>\n",
       "                        <td id=\"T_1e7b6fee_87f2_11eb_887b_acde48001122row14_col2\" class=\"data row14 col2\" >0.0000</td>\n",
       "                        <td id=\"T_1e7b6fee_87f2_11eb_887b_acde48001122row14_col3\" class=\"data row14 col3\" >0.0001</td>\n",
       "                        <td id=\"T_1e7b6fee_87f2_11eb_887b_acde48001122row14_col4\" class=\"data row14 col4\" >0.0400</td>\n",
       "                        <td id=\"T_1e7b6fee_87f2_11eb_887b_acde48001122row14_col5\" class=\"data row14 col5\" >0.0003</td>\n",
       "                        <td id=\"T_1e7b6fee_87f2_11eb_887b_acde48001122row14_col6\" class=\"data row14 col6\" >0.0001</td>\n",
       "                        <td id=\"T_1e7b6fee_87f2_11eb_887b_acde48001122row14_col7\" class=\"data row14 col7\" >0.0013</td>\n",
       "                        <td id=\"T_1e7b6fee_87f2_11eb_887b_acde48001122row14_col8\" class=\"data row14 col8\" >0.1710</td>\n",
       "            </tr>\n",
       "    </tbody></table>"
      ],
      "text/plain": [
       "<pandas.io.formats.style.Styler at 0x7fbd5a2e1518>"
      ]
     },
     "metadata": {},
     "output_type": "display_data"
    },
    {
     "data": {
      "text/plain": [
       "GaussianNB(priors=None, var_smoothing=1e-09)"
      ]
     },
     "execution_count": 110,
     "metadata": {},
     "output_type": "execute_result"
    }
   ],
   "source": [
    "compare_models(sort = \"F1\")"
   ]
  },
  {
   "cell_type": "code",
   "execution_count": 104,
   "metadata": {},
   "outputs": [
    {
     "data": {
      "text/html": [
       "<style  type=\"text/css\" >\n",
       "#T_1d812dd0_87b2_11eb_b1a1_acde48001122row10_col0,#T_1d812dd0_87b2_11eb_b1a1_acde48001122row10_col1,#T_1d812dd0_87b2_11eb_b1a1_acde48001122row10_col2,#T_1d812dd0_87b2_11eb_b1a1_acde48001122row10_col3,#T_1d812dd0_87b2_11eb_b1a1_acde48001122row10_col4,#T_1d812dd0_87b2_11eb_b1a1_acde48001122row10_col5,#T_1d812dd0_87b2_11eb_b1a1_acde48001122row10_col6{\n",
       "            background:  yellow;\n",
       "        }</style><table id=\"T_1d812dd0_87b2_11eb_b1a1_acde48001122\" ><thead>    <tr>        <th class=\"blank level0\" ></th>        <th class=\"col_heading level0 col0\" >Accuracy</th>        <th class=\"col_heading level0 col1\" >AUC</th>        <th class=\"col_heading level0 col2\" >Recall</th>        <th class=\"col_heading level0 col3\" >Prec.</th>        <th class=\"col_heading level0 col4\" >F1</th>        <th class=\"col_heading level0 col5\" >Kappa</th>        <th class=\"col_heading level0 col6\" >MCC</th>    </tr></thead><tbody>\n",
       "                <tr>\n",
       "                        <th id=\"T_1d812dd0_87b2_11eb_b1a1_acde48001122level0_row0\" class=\"row_heading level0 row0\" >0</th>\n",
       "                        <td id=\"T_1d812dd0_87b2_11eb_b1a1_acde48001122row0_col0\" class=\"data row0 col0\" >0.7993</td>\n",
       "                        <td id=\"T_1d812dd0_87b2_11eb_b1a1_acde48001122row0_col1\" class=\"data row0 col1\" >0.7328</td>\n",
       "                        <td id=\"T_1d812dd0_87b2_11eb_b1a1_acde48001122row0_col2\" class=\"data row0 col2\" >0.0772</td>\n",
       "                        <td id=\"T_1d812dd0_87b2_11eb_b1a1_acde48001122row0_col3\" class=\"data row0 col3\" >0.5445</td>\n",
       "                        <td id=\"T_1d812dd0_87b2_11eb_b1a1_acde48001122row0_col4\" class=\"data row0 col4\" >0.1352</td>\n",
       "                        <td id=\"T_1d812dd0_87b2_11eb_b1a1_acde48001122row0_col5\" class=\"data row0 col5\" >0.0892</td>\n",
       "                        <td id=\"T_1d812dd0_87b2_11eb_b1a1_acde48001122row0_col6\" class=\"data row0 col6\" >0.1460</td>\n",
       "            </tr>\n",
       "            <tr>\n",
       "                        <th id=\"T_1d812dd0_87b2_11eb_b1a1_acde48001122level0_row1\" class=\"row_heading level0 row1\" >1</th>\n",
       "                        <td id=\"T_1d812dd0_87b2_11eb_b1a1_acde48001122row1_col0\" class=\"data row1 col0\" >0.7975</td>\n",
       "                        <td id=\"T_1d812dd0_87b2_11eb_b1a1_acde48001122row1_col1\" class=\"data row1 col1\" >0.7366</td>\n",
       "                        <td id=\"T_1d812dd0_87b2_11eb_b1a1_acde48001122row1_col2\" class=\"data row1 col2\" >0.0712</td>\n",
       "                        <td id=\"T_1d812dd0_87b2_11eb_b1a1_acde48001122row1_col3\" class=\"data row1 col3\" >0.5134</td>\n",
       "                        <td id=\"T_1d812dd0_87b2_11eb_b1a1_acde48001122row1_col4\" class=\"data row1 col4\" >0.1251</td>\n",
       "                        <td id=\"T_1d812dd0_87b2_11eb_b1a1_acde48001122row1_col5\" class=\"data row1 col5\" >0.0795</td>\n",
       "                        <td id=\"T_1d812dd0_87b2_11eb_b1a1_acde48001122row1_col6\" class=\"data row1 col6\" >0.1313</td>\n",
       "            </tr>\n",
       "            <tr>\n",
       "                        <th id=\"T_1d812dd0_87b2_11eb_b1a1_acde48001122level0_row2\" class=\"row_heading level0 row2\" >2</th>\n",
       "                        <td id=\"T_1d812dd0_87b2_11eb_b1a1_acde48001122row2_col0\" class=\"data row2 col0\" >0.8008</td>\n",
       "                        <td id=\"T_1d812dd0_87b2_11eb_b1a1_acde48001122row2_col1\" class=\"data row2 col1\" >0.7483</td>\n",
       "                        <td id=\"T_1d812dd0_87b2_11eb_b1a1_acde48001122row2_col2\" class=\"data row2 col2\" >0.0786</td>\n",
       "                        <td id=\"T_1d812dd0_87b2_11eb_b1a1_acde48001122row2_col3\" class=\"data row2 col3\" >0.5730</td>\n",
       "                        <td id=\"T_1d812dd0_87b2_11eb_b1a1_acde48001122row2_col4\" class=\"data row2 col4\" >0.1383</td>\n",
       "                        <td id=\"T_1d812dd0_87b2_11eb_b1a1_acde48001122row2_col5\" class=\"data row2 col5\" >0.0938</td>\n",
       "                        <td id=\"T_1d812dd0_87b2_11eb_b1a1_acde48001122row2_col6\" class=\"data row2 col6\" >0.1556</td>\n",
       "            </tr>\n",
       "            <tr>\n",
       "                        <th id=\"T_1d812dd0_87b2_11eb_b1a1_acde48001122level0_row3\" class=\"row_heading level0 row3\" >3</th>\n",
       "                        <td id=\"T_1d812dd0_87b2_11eb_b1a1_acde48001122row3_col0\" class=\"data row3 col0\" >0.8011</td>\n",
       "                        <td id=\"T_1d812dd0_87b2_11eb_b1a1_acde48001122row3_col1\" class=\"data row3 col1\" >0.7508</td>\n",
       "                        <td id=\"T_1d812dd0_87b2_11eb_b1a1_acde48001122row3_col2\" class=\"data row3 col2\" >0.0801</td>\n",
       "                        <td id=\"T_1d812dd0_87b2_11eb_b1a1_acde48001122row3_col3\" class=\"data row3 col3\" >0.5775</td>\n",
       "                        <td id=\"T_1d812dd0_87b2_11eb_b1a1_acde48001122row3_col4\" class=\"data row3 col4\" >0.1407</td>\n",
       "                        <td id=\"T_1d812dd0_87b2_11eb_b1a1_acde48001122row3_col5\" class=\"data row3 col5\" >0.0959</td>\n",
       "                        <td id=\"T_1d812dd0_87b2_11eb_b1a1_acde48001122row3_col6\" class=\"data row3 col6\" >0.1584</td>\n",
       "            </tr>\n",
       "            <tr>\n",
       "                        <th id=\"T_1d812dd0_87b2_11eb_b1a1_acde48001122level0_row4\" class=\"row_heading level0 row4\" >4</th>\n",
       "                        <td id=\"T_1d812dd0_87b2_11eb_b1a1_acde48001122row4_col0\" class=\"data row4 col0\" >0.8016</td>\n",
       "                        <td id=\"T_1d812dd0_87b2_11eb_b1a1_acde48001122row4_col1\" class=\"data row4 col1\" >0.7460</td>\n",
       "                        <td id=\"T_1d812dd0_87b2_11eb_b1a1_acde48001122row4_col2\" class=\"data row4 col2\" >0.0786</td>\n",
       "                        <td id=\"T_1d812dd0_87b2_11eb_b1a1_acde48001122row4_col3\" class=\"data row4 col3\" >0.5889</td>\n",
       "                        <td id=\"T_1d812dd0_87b2_11eb_b1a1_acde48001122row4_col4\" class=\"data row4 col4\" >0.1387</td>\n",
       "                        <td id=\"T_1d812dd0_87b2_11eb_b1a1_acde48001122row4_col5\" class=\"data row4 col5\" >0.0954</td>\n",
       "                        <td id=\"T_1d812dd0_87b2_11eb_b1a1_acde48001122row4_col6\" class=\"data row4 col6\" >0.1601</td>\n",
       "            </tr>\n",
       "            <tr>\n",
       "                        <th id=\"T_1d812dd0_87b2_11eb_b1a1_acde48001122level0_row5\" class=\"row_heading level0 row5\" >5</th>\n",
       "                        <td id=\"T_1d812dd0_87b2_11eb_b1a1_acde48001122row5_col0\" class=\"data row5 col0\" >0.8044</td>\n",
       "                        <td id=\"T_1d812dd0_87b2_11eb_b1a1_acde48001122row5_col1\" class=\"data row5 col1\" >0.7539</td>\n",
       "                        <td id=\"T_1d812dd0_87b2_11eb_b1a1_acde48001122row5_col2\" class=\"data row5 col2\" >0.0809</td>\n",
       "                        <td id=\"T_1d812dd0_87b2_11eb_b1a1_acde48001122row5_col3\" class=\"data row5 col3\" >0.6527</td>\n",
       "                        <td id=\"T_1d812dd0_87b2_11eb_b1a1_acde48001122row5_col4\" class=\"data row5 col4\" >0.1439</td>\n",
       "                        <td id=\"T_1d812dd0_87b2_11eb_b1a1_acde48001122row5_col5\" class=\"data row5 col5\" >0.1037</td>\n",
       "                        <td id=\"T_1d812dd0_87b2_11eb_b1a1_acde48001122row5_col6\" class=\"data row5 col6\" >0.1795</td>\n",
       "            </tr>\n",
       "            <tr>\n",
       "                        <th id=\"T_1d812dd0_87b2_11eb_b1a1_acde48001122level0_row6\" class=\"row_heading level0 row6\" >6</th>\n",
       "                        <td id=\"T_1d812dd0_87b2_11eb_b1a1_acde48001122row6_col0\" class=\"data row6 col0\" >0.8009</td>\n",
       "                        <td id=\"T_1d812dd0_87b2_11eb_b1a1_acde48001122row6_col1\" class=\"data row6 col1\" >0.7403</td>\n",
       "                        <td id=\"T_1d812dd0_87b2_11eb_b1a1_acde48001122row6_col2\" class=\"data row6 col2\" >0.0720</td>\n",
       "                        <td id=\"T_1d812dd0_87b2_11eb_b1a1_acde48001122row6_col3\" class=\"data row6 col3\" >0.5808</td>\n",
       "                        <td id=\"T_1d812dd0_87b2_11eb_b1a1_acde48001122row6_col4\" class=\"data row6 col4\" >0.1281</td>\n",
       "                        <td id=\"T_1d812dd0_87b2_11eb_b1a1_acde48001122row6_col5\" class=\"data row6 col5\" >0.0872</td>\n",
       "                        <td id=\"T_1d812dd0_87b2_11eb_b1a1_acde48001122row6_col6\" class=\"data row6 col6\" >0.1509</td>\n",
       "            </tr>\n",
       "            <tr>\n",
       "                        <th id=\"T_1d812dd0_87b2_11eb_b1a1_acde48001122level0_row7\" class=\"row_heading level0 row7\" >7</th>\n",
       "                        <td id=\"T_1d812dd0_87b2_11eb_b1a1_acde48001122row7_col0\" class=\"data row7 col0\" >0.7982</td>\n",
       "                        <td id=\"T_1d812dd0_87b2_11eb_b1a1_acde48001122row7_col1\" class=\"data row7 col1\" >0.7365</td>\n",
       "                        <td id=\"T_1d812dd0_87b2_11eb_b1a1_acde48001122row7_col2\" class=\"data row7 col2\" >0.0787</td>\n",
       "                        <td id=\"T_1d812dd0_87b2_11eb_b1a1_acde48001122row7_col3\" class=\"data row7 col3\" >0.5222</td>\n",
       "                        <td id=\"T_1d812dd0_87b2_11eb_b1a1_acde48001122row7_col4\" class=\"data row7 col4\" >0.1368</td>\n",
       "                        <td id=\"T_1d812dd0_87b2_11eb_b1a1_acde48001122row7_col5\" class=\"data row7 col5\" >0.0883</td>\n",
       "                        <td id=\"T_1d812dd0_87b2_11eb_b1a1_acde48001122row7_col6\" class=\"data row7 col6\" >0.1409</td>\n",
       "            </tr>\n",
       "            <tr>\n",
       "                        <th id=\"T_1d812dd0_87b2_11eb_b1a1_acde48001122level0_row8\" class=\"row_heading level0 row8\" >8</th>\n",
       "                        <td id=\"T_1d812dd0_87b2_11eb_b1a1_acde48001122row8_col0\" class=\"data row8 col0\" >0.8020</td>\n",
       "                        <td id=\"T_1d812dd0_87b2_11eb_b1a1_acde48001122row8_col1\" class=\"data row8 col1\" >0.7421</td>\n",
       "                        <td id=\"T_1d812dd0_87b2_11eb_b1a1_acde48001122row8_col2\" class=\"data row8 col2\" >0.0787</td>\n",
       "                        <td id=\"T_1d812dd0_87b2_11eb_b1a1_acde48001122row8_col3\" class=\"data row8 col3\" >0.5955</td>\n",
       "                        <td id=\"T_1d812dd0_87b2_11eb_b1a1_acde48001122row8_col4\" class=\"data row8 col4\" >0.1390</td>\n",
       "                        <td id=\"T_1d812dd0_87b2_11eb_b1a1_acde48001122row8_col5\" class=\"data row8 col5\" >0.0962</td>\n",
       "                        <td id=\"T_1d812dd0_87b2_11eb_b1a1_acde48001122row8_col6\" class=\"data row8 col6\" >0.1620</td>\n",
       "            </tr>\n",
       "            <tr>\n",
       "                        <th id=\"T_1d812dd0_87b2_11eb_b1a1_acde48001122level0_row9\" class=\"row_heading level0 row9\" >9</th>\n",
       "                        <td id=\"T_1d812dd0_87b2_11eb_b1a1_acde48001122row9_col0\" class=\"data row9 col0\" >0.8002</td>\n",
       "                        <td id=\"T_1d812dd0_87b2_11eb_b1a1_acde48001122row9_col1\" class=\"data row9 col1\" >0.7472</td>\n",
       "                        <td id=\"T_1d812dd0_87b2_11eb_b1a1_acde48001122row9_col2\" class=\"data row9 col2\" >0.0720</td>\n",
       "                        <td id=\"T_1d812dd0_87b2_11eb_b1a1_acde48001122row9_col3\" class=\"data row9 col3\" >0.5673</td>\n",
       "                        <td id=\"T_1d812dd0_87b2_11eb_b1a1_acde48001122row9_col4\" class=\"data row9 col4\" >0.1277</td>\n",
       "                        <td id=\"T_1d812dd0_87b2_11eb_b1a1_acde48001122row9_col5\" class=\"data row9 col5\" >0.0859</td>\n",
       "                        <td id=\"T_1d812dd0_87b2_11eb_b1a1_acde48001122row9_col6\" class=\"data row9 col6\" >0.1471</td>\n",
       "            </tr>\n",
       "            <tr>\n",
       "                        <th id=\"T_1d812dd0_87b2_11eb_b1a1_acde48001122level0_row10\" class=\"row_heading level0 row10\" >Mean</th>\n",
       "                        <td id=\"T_1d812dd0_87b2_11eb_b1a1_acde48001122row10_col0\" class=\"data row10 col0\" >0.8006</td>\n",
       "                        <td id=\"T_1d812dd0_87b2_11eb_b1a1_acde48001122row10_col1\" class=\"data row10 col1\" >0.7434</td>\n",
       "                        <td id=\"T_1d812dd0_87b2_11eb_b1a1_acde48001122row10_col2\" class=\"data row10 col2\" >0.0768</td>\n",
       "                        <td id=\"T_1d812dd0_87b2_11eb_b1a1_acde48001122row10_col3\" class=\"data row10 col3\" >0.5716</td>\n",
       "                        <td id=\"T_1d812dd0_87b2_11eb_b1a1_acde48001122row10_col4\" class=\"data row10 col4\" >0.1354</td>\n",
       "                        <td id=\"T_1d812dd0_87b2_11eb_b1a1_acde48001122row10_col5\" class=\"data row10 col5\" >0.0915</td>\n",
       "                        <td id=\"T_1d812dd0_87b2_11eb_b1a1_acde48001122row10_col6\" class=\"data row10 col6\" >0.1532</td>\n",
       "            </tr>\n",
       "            <tr>\n",
       "                        <th id=\"T_1d812dd0_87b2_11eb_b1a1_acde48001122level0_row11\" class=\"row_heading level0 row11\" >SD</th>\n",
       "                        <td id=\"T_1d812dd0_87b2_11eb_b1a1_acde48001122row11_col0\" class=\"data row11 col0\" >0.0019</td>\n",
       "                        <td id=\"T_1d812dd0_87b2_11eb_b1a1_acde48001122row11_col1\" class=\"data row11 col1\" >0.0065</td>\n",
       "                        <td id=\"T_1d812dd0_87b2_11eb_b1a1_acde48001122row11_col2\" class=\"data row11 col2\" >0.0035</td>\n",
       "                        <td id=\"T_1d812dd0_87b2_11eb_b1a1_acde48001122row11_col3\" class=\"data row11 col3\" >0.0376</td>\n",
       "                        <td id=\"T_1d812dd0_87b2_11eb_b1a1_acde48001122row11_col4\" class=\"data row11 col4\" >0.0059</td>\n",
       "                        <td id=\"T_1d812dd0_87b2_11eb_b1a1_acde48001122row11_col5\" class=\"data row11 col5\" >0.0065</td>\n",
       "                        <td id=\"T_1d812dd0_87b2_11eb_b1a1_acde48001122row11_col6\" class=\"data row11 col6\" >0.0125</td>\n",
       "            </tr>\n",
       "    </tbody></table>"
      ],
      "text/plain": [
       "<pandas.io.formats.style.Styler at 0x7fbd541d86a0>"
      ]
     },
     "metadata": {},
     "output_type": "display_data"
    }
   ],
   "source": [
    "catboost = create_model(\"catboost\") # Create the catboost classifier"
   ]
  },
  {
   "cell_type": "code",
   "execution_count": 111,
   "metadata": {},
   "outputs": [
    {
     "data": {
      "text/html": [
       "<style  type=\"text/css\" >\n",
       "</style><table id=\"T_bd5a267a_87f5_11eb_867d_acde48001122\" ><thead>    <tr>        <th class=\"blank level0\" ></th>        <th class=\"col_heading level0 col0\" >Model</th>        <th class=\"col_heading level0 col1\" >Accuracy</th>        <th class=\"col_heading level0 col2\" >AUC</th>        <th class=\"col_heading level0 col3\" >Recall</th>        <th class=\"col_heading level0 col4\" >Prec.</th>        <th class=\"col_heading level0 col5\" >F1</th>        <th class=\"col_heading level0 col6\" >Kappa</th>        <th class=\"col_heading level0 col7\" >MCC</th>    </tr></thead><tbody>\n",
       "                <tr>\n",
       "                        <th id=\"T_bd5a267a_87f5_11eb_867d_acde48001122level0_row0\" class=\"row_heading level0 row0\" >0</th>\n",
       "                        <td id=\"T_bd5a267a_87f5_11eb_867d_acde48001122row0_col0\" class=\"data row0 col0\" >CatBoost Classifier</td>\n",
       "                        <td id=\"T_bd5a267a_87f5_11eb_867d_acde48001122row0_col1\" class=\"data row0 col1\" >0.8031</td>\n",
       "                        <td id=\"T_bd5a267a_87f5_11eb_867d_acde48001122row0_col2\" class=\"data row0 col2\" >0.7464</td>\n",
       "                        <td id=\"T_bd5a267a_87f5_11eb_867d_acde48001122row0_col3\" class=\"data row0 col3\" >0.0723</td>\n",
       "                        <td id=\"T_bd5a267a_87f5_11eb_867d_acde48001122row0_col4\" class=\"data row0 col4\" >0.5600</td>\n",
       "                        <td id=\"T_bd5a267a_87f5_11eb_867d_acde48001122row0_col5\" class=\"data row0 col5\" >0.1280</td>\n",
       "                        <td id=\"T_bd5a267a_87f5_11eb_867d_acde48001122row0_col6\" class=\"data row0 col6\" >0.0862</td>\n",
       "                        <td id=\"T_bd5a267a_87f5_11eb_867d_acde48001122row0_col7\" class=\"data row0 col7\" >0.1465</td>\n",
       "            </tr>\n",
       "    </tbody></table>"
      ],
      "text/plain": [
       "<pandas.io.formats.style.Styler at 0x7fbd5a2d7828>"
      ]
     },
     "metadata": {},
     "output_type": "display_data"
    }
   ],
   "source": [
    "pred_holdout = predict_model(catboost)"
   ]
  },
  {
   "cell_type": "code",
   "execution_count": 112,
   "metadata": {},
   "outputs": [
    {
     "data": {
      "text/html": [
       "<style  type=\"text/css\" >\n",
       "#T_ce798f90_87f5_11eb_b10c_acde48001122row10_col0,#T_ce798f90_87f5_11eb_b10c_acde48001122row10_col1,#T_ce798f90_87f5_11eb_b10c_acde48001122row10_col2,#T_ce798f90_87f5_11eb_b10c_acde48001122row10_col3,#T_ce798f90_87f5_11eb_b10c_acde48001122row10_col4,#T_ce798f90_87f5_11eb_b10c_acde48001122row10_col5,#T_ce798f90_87f5_11eb_b10c_acde48001122row10_col6{\n",
       "            background:  yellow;\n",
       "        }</style><table id=\"T_ce798f90_87f5_11eb_b10c_acde48001122\" ><thead>    <tr>        <th class=\"blank level0\" ></th>        <th class=\"col_heading level0 col0\" >Accuracy</th>        <th class=\"col_heading level0 col1\" >AUC</th>        <th class=\"col_heading level0 col2\" >Recall</th>        <th class=\"col_heading level0 col3\" >Prec.</th>        <th class=\"col_heading level0 col4\" >F1</th>        <th class=\"col_heading level0 col5\" >Kappa</th>        <th class=\"col_heading level0 col6\" >MCC</th>    </tr></thead><tbody>\n",
       "                <tr>\n",
       "                        <th id=\"T_ce798f90_87f5_11eb_b10c_acde48001122level0_row0\" class=\"row_heading level0 row0\" >0</th>\n",
       "                        <td id=\"T_ce798f90_87f5_11eb_b10c_acde48001122row0_col0\" class=\"data row0 col0\" >0.7312</td>\n",
       "                        <td id=\"T_ce798f90_87f5_11eb_b10c_acde48001122row0_col1\" class=\"data row0 col1\" >0.5806</td>\n",
       "                        <td id=\"T_ce798f90_87f5_11eb_b10c_acde48001122row0_col2\" class=\"data row0 col2\" >0.3272</td>\n",
       "                        <td id=\"T_ce798f90_87f5_11eb_b10c_acde48001122row0_col3\" class=\"data row0 col3\" >0.3349</td>\n",
       "                        <td id=\"T_ce798f90_87f5_11eb_b10c_acde48001122row0_col4\" class=\"data row0 col4\" >0.3310</td>\n",
       "                        <td id=\"T_ce798f90_87f5_11eb_b10c_acde48001122row0_col5\" class=\"data row0 col5\" >0.1628</td>\n",
       "                        <td id=\"T_ce798f90_87f5_11eb_b10c_acde48001122row0_col6\" class=\"data row0 col6\" >0.1628</td>\n",
       "            </tr>\n",
       "            <tr>\n",
       "                        <th id=\"T_ce798f90_87f5_11eb_b10c_acde48001122level0_row1\" class=\"row_heading level0 row1\" >1</th>\n",
       "                        <td id=\"T_ce798f90_87f5_11eb_b10c_acde48001122row1_col0\" class=\"data row1 col0\" >0.7272</td>\n",
       "                        <td id=\"T_ce798f90_87f5_11eb_b10c_acde48001122row1_col1\" class=\"data row1 col1\" >0.5778</td>\n",
       "                        <td id=\"T_ce798f90_87f5_11eb_b10c_acde48001122row1_col2\" class=\"data row1 col2\" >0.3242</td>\n",
       "                        <td id=\"T_ce798f90_87f5_11eb_b10c_acde48001122row1_col3\" class=\"data row1 col3\" >0.3273</td>\n",
       "                        <td id=\"T_ce798f90_87f5_11eb_b10c_acde48001122row1_col4\" class=\"data row1 col4\" >0.3258</td>\n",
       "                        <td id=\"T_ce798f90_87f5_11eb_b10c_acde48001122row1_col5\" class=\"data row1 col5\" >0.1548</td>\n",
       "                        <td id=\"T_ce798f90_87f5_11eb_b10c_acde48001122row1_col6\" class=\"data row1 col6\" >0.1548</td>\n",
       "            </tr>\n",
       "            <tr>\n",
       "                        <th id=\"T_ce798f90_87f5_11eb_b10c_acde48001122level0_row2\" class=\"row_heading level0 row2\" >2</th>\n",
       "                        <td id=\"T_ce798f90_87f5_11eb_b10c_acde48001122row2_col0\" class=\"data row2 col0\" >0.7229</td>\n",
       "                        <td id=\"T_ce798f90_87f5_11eb_b10c_acde48001122row2_col1\" class=\"data row2 col1\" >0.5747</td>\n",
       "                        <td id=\"T_ce798f90_87f5_11eb_b10c_acde48001122row2_col2\" class=\"data row2 col2\" >0.3234</td>\n",
       "                        <td id=\"T_ce798f90_87f5_11eb_b10c_acde48001122row2_col3\" class=\"data row2 col3\" >0.3201</td>\n",
       "                        <td id=\"T_ce798f90_87f5_11eb_b10c_acde48001122row2_col4\" class=\"data row2 col4\" >0.3218</td>\n",
       "                        <td id=\"T_ce798f90_87f5_11eb_b10c_acde48001122row2_col5\" class=\"data row2 col5\" >0.1476</td>\n",
       "                        <td id=\"T_ce798f90_87f5_11eb_b10c_acde48001122row2_col6\" class=\"data row2 col6\" >0.1476</td>\n",
       "            </tr>\n",
       "            <tr>\n",
       "                        <th id=\"T_ce798f90_87f5_11eb_b10c_acde48001122level0_row3\" class=\"row_heading level0 row3\" >3</th>\n",
       "                        <td id=\"T_ce798f90_87f5_11eb_b10c_acde48001122row3_col0\" class=\"data row3 col0\" >0.7295</td>\n",
       "                        <td id=\"T_ce798f90_87f5_11eb_b10c_acde48001122row3_col1\" class=\"data row3 col1\" >0.5822</td>\n",
       "                        <td id=\"T_ce798f90_87f5_11eb_b10c_acde48001122row3_col2\" class=\"data row3 col2\" >0.3338</td>\n",
       "                        <td id=\"T_ce798f90_87f5_11eb_b10c_acde48001122row3_col3\" class=\"data row3 col3\" >0.3343</td>\n",
       "                        <td id=\"T_ce798f90_87f5_11eb_b10c_acde48001122row3_col4\" class=\"data row3 col4\" >0.3341</td>\n",
       "                        <td id=\"T_ce798f90_87f5_11eb_b10c_acde48001122row3_col5\" class=\"data row3 col5\" >0.1644</td>\n",
       "                        <td id=\"T_ce798f90_87f5_11eb_b10c_acde48001122row3_col6\" class=\"data row3 col6\" >0.1644</td>\n",
       "            </tr>\n",
       "            <tr>\n",
       "                        <th id=\"T_ce798f90_87f5_11eb_b10c_acde48001122level0_row4\" class=\"row_heading level0 row4\" >4</th>\n",
       "                        <td id=\"T_ce798f90_87f5_11eb_b10c_acde48001122row4_col0\" class=\"data row4 col0\" >0.7275</td>\n",
       "                        <td id=\"T_ce798f90_87f5_11eb_b10c_acde48001122row4_col1\" class=\"data row4 col1\" >0.5768</td>\n",
       "                        <td id=\"T_ce798f90_87f5_11eb_b10c_acde48001122row4_col2\" class=\"data row4 col2\" >0.3190</td>\n",
       "                        <td id=\"T_ce798f90_87f5_11eb_b10c_acde48001122row4_col3\" class=\"data row4 col3\" >0.3260</td>\n",
       "                        <td id=\"T_ce798f90_87f5_11eb_b10c_acde48001122row4_col4\" class=\"data row4 col4\" >0.3225</td>\n",
       "                        <td id=\"T_ce798f90_87f5_11eb_b10c_acde48001122row4_col5\" class=\"data row4 col5\" >0.1520</td>\n",
       "                        <td id=\"T_ce798f90_87f5_11eb_b10c_acde48001122row4_col6\" class=\"data row4 col6\" >0.1520</td>\n",
       "            </tr>\n",
       "            <tr>\n",
       "                        <th id=\"T_ce798f90_87f5_11eb_b10c_acde48001122level0_row5\" class=\"row_heading level0 row5\" >5</th>\n",
       "                        <td id=\"T_ce798f90_87f5_11eb_b10c_acde48001122row5_col0\" class=\"data row5 col0\" >0.7192</td>\n",
       "                        <td id=\"T_ce798f90_87f5_11eb_b10c_acde48001122row5_col1\" class=\"data row5 col1\" >0.5745</td>\n",
       "                        <td id=\"T_ce798f90_87f5_11eb_b10c_acde48001122row5_col2\" class=\"data row5 col2\" >0.3279</td>\n",
       "                        <td id=\"T_ce798f90_87f5_11eb_b10c_acde48001122row5_col3\" class=\"data row5 col3\" >0.3162</td>\n",
       "                        <td id=\"T_ce798f90_87f5_11eb_b10c_acde48001122row5_col4\" class=\"data row5 col4\" >0.3219</td>\n",
       "                        <td id=\"T_ce798f90_87f5_11eb_b10c_acde48001122row5_col5\" class=\"data row5 col5\" >0.1450</td>\n",
       "                        <td id=\"T_ce798f90_87f5_11eb_b10c_acde48001122row5_col6\" class=\"data row5 col6\" >0.1450</td>\n",
       "            </tr>\n",
       "            <tr>\n",
       "                        <th id=\"T_ce798f90_87f5_11eb_b10c_acde48001122level0_row6\" class=\"row_heading level0 row6\" >6</th>\n",
       "                        <td id=\"T_ce798f90_87f5_11eb_b10c_acde48001122row6_col0\" class=\"data row6 col0\" >0.7358</td>\n",
       "                        <td id=\"T_ce798f90_87f5_11eb_b10c_acde48001122row6_col1\" class=\"data row6 col1\" >0.5874</td>\n",
       "                        <td id=\"T_ce798f90_87f5_11eb_b10c_acde48001122row6_col2\" class=\"data row6 col2\" >0.3311</td>\n",
       "                        <td id=\"T_ce798f90_87f5_11eb_b10c_acde48001122row6_col3\" class=\"data row6 col3\" >0.3439</td>\n",
       "                        <td id=\"T_ce798f90_87f5_11eb_b10c_acde48001122row6_col4\" class=\"data row6 col4\" >0.3374</td>\n",
       "                        <td id=\"T_ce798f90_87f5_11eb_b10c_acde48001122row6_col5\" class=\"data row6 col5\" >0.1724</td>\n",
       "                        <td id=\"T_ce798f90_87f5_11eb_b10c_acde48001122row6_col6\" class=\"data row6 col6\" >0.1725</td>\n",
       "            </tr>\n",
       "            <tr>\n",
       "                        <th id=\"T_ce798f90_87f5_11eb_b10c_acde48001122level0_row7\" class=\"row_heading level0 row7\" >7</th>\n",
       "                        <td id=\"T_ce798f90_87f5_11eb_b10c_acde48001122row7_col0\" class=\"data row7 col0\" >0.7287</td>\n",
       "                        <td id=\"T_ce798f90_87f5_11eb_b10c_acde48001122row7_col1\" class=\"data row7 col1\" >0.5855</td>\n",
       "                        <td id=\"T_ce798f90_87f5_11eb_b10c_acde48001122row7_col2\" class=\"data row7 col2\" >0.3445</td>\n",
       "                        <td id=\"T_ce798f90_87f5_11eb_b10c_acde48001122row7_col3\" class=\"data row7 col3\" >0.3362</td>\n",
       "                        <td id=\"T_ce798f90_87f5_11eb_b10c_acde48001122row7_col4\" class=\"data row7 col4\" >0.3403</td>\n",
       "                        <td id=\"T_ce798f90_87f5_11eb_b10c_acde48001122row7_col5\" class=\"data row7 col5\" >0.1696</td>\n",
       "                        <td id=\"T_ce798f90_87f5_11eb_b10c_acde48001122row7_col6\" class=\"data row7 col6\" >0.1696</td>\n",
       "            </tr>\n",
       "            <tr>\n",
       "                        <th id=\"T_ce798f90_87f5_11eb_b10c_acde48001122level0_row8\" class=\"row_heading level0 row8\" >8</th>\n",
       "                        <td id=\"T_ce798f90_87f5_11eb_b10c_acde48001122row8_col0\" class=\"data row8 col0\" >0.7212</td>\n",
       "                        <td id=\"T_ce798f90_87f5_11eb_b10c_acde48001122row8_col1\" class=\"data row8 col1\" >0.5746</td>\n",
       "                        <td id=\"T_ce798f90_87f5_11eb_b10c_acde48001122row8_col2\" class=\"data row8 col2\" >0.3274</td>\n",
       "                        <td id=\"T_ce798f90_87f5_11eb_b10c_acde48001122row8_col3\" class=\"data row8 col3\" >0.3186</td>\n",
       "                        <td id=\"T_ce798f90_87f5_11eb_b10c_acde48001122row8_col4\" class=\"data row8 col4\" >0.3230</td>\n",
       "                        <td id=\"T_ce798f90_87f5_11eb_b10c_acde48001122row8_col5\" class=\"data row8 col5\" >0.1474</td>\n",
       "                        <td id=\"T_ce798f90_87f5_11eb_b10c_acde48001122row8_col6\" class=\"data row8 col6\" >0.1474</td>\n",
       "            </tr>\n",
       "            <tr>\n",
       "                        <th id=\"T_ce798f90_87f5_11eb_b10c_acde48001122level0_row9\" class=\"row_heading level0 row9\" >9</th>\n",
       "                        <td id=\"T_ce798f90_87f5_11eb_b10c_acde48001122row9_col0\" class=\"data row9 col0\" >0.7246</td>\n",
       "                        <td id=\"T_ce798f90_87f5_11eb_b10c_acde48001122row9_col1\" class=\"data row9 col1\" >0.5752</td>\n",
       "                        <td id=\"T_ce798f90_87f5_11eb_b10c_acde48001122row9_col2\" class=\"data row9 col2\" >0.3234</td>\n",
       "                        <td id=\"T_ce798f90_87f5_11eb_b10c_acde48001122row9_col3\" class=\"data row9 col3\" >0.3230</td>\n",
       "                        <td id=\"T_ce798f90_87f5_11eb_b10c_acde48001122row9_col4\" class=\"data row9 col4\" >0.3232</td>\n",
       "                        <td id=\"T_ce798f90_87f5_11eb_b10c_acde48001122row9_col5\" class=\"data row9 col5\" >0.1504</td>\n",
       "                        <td id=\"T_ce798f90_87f5_11eb_b10c_acde48001122row9_col6\" class=\"data row9 col6\" >0.1504</td>\n",
       "            </tr>\n",
       "            <tr>\n",
       "                        <th id=\"T_ce798f90_87f5_11eb_b10c_acde48001122level0_row10\" class=\"row_heading level0 row10\" >Mean</th>\n",
       "                        <td id=\"T_ce798f90_87f5_11eb_b10c_acde48001122row10_col0\" class=\"data row10 col0\" >0.7268</td>\n",
       "                        <td id=\"T_ce798f90_87f5_11eb_b10c_acde48001122row10_col1\" class=\"data row10 col1\" >0.5789</td>\n",
       "                        <td id=\"T_ce798f90_87f5_11eb_b10c_acde48001122row10_col2\" class=\"data row10 col2\" >0.3282</td>\n",
       "                        <td id=\"T_ce798f90_87f5_11eb_b10c_acde48001122row10_col3\" class=\"data row10 col3\" >0.3281</td>\n",
       "                        <td id=\"T_ce798f90_87f5_11eb_b10c_acde48001122row10_col4\" class=\"data row10 col4\" >0.3281</td>\n",
       "                        <td id=\"T_ce798f90_87f5_11eb_b10c_acde48001122row10_col5\" class=\"data row10 col5\" >0.1566</td>\n",
       "                        <td id=\"T_ce798f90_87f5_11eb_b10c_acde48001122row10_col6\" class=\"data row10 col6\" >0.1566</td>\n",
       "            </tr>\n",
       "            <tr>\n",
       "                        <th id=\"T_ce798f90_87f5_11eb_b10c_acde48001122level0_row11\" class=\"row_heading level0 row11\" >SD</th>\n",
       "                        <td id=\"T_ce798f90_87f5_11eb_b10c_acde48001122row11_col0\" class=\"data row11 col0\" >0.0047</td>\n",
       "                        <td id=\"T_ce798f90_87f5_11eb_b10c_acde48001122row11_col1\" class=\"data row11 col1\" >0.0045</td>\n",
       "                        <td id=\"T_ce798f90_87f5_11eb_b10c_acde48001122row11_col2\" class=\"data row11 col2\" >0.0067</td>\n",
       "                        <td id=\"T_ce798f90_87f5_11eb_b10c_acde48001122row11_col3\" class=\"data row11 col3\" >0.0085</td>\n",
       "                        <td id=\"T_ce798f90_87f5_11eb_b10c_acde48001122row11_col4\" class=\"data row11 col4\" >0.0067</td>\n",
       "                        <td id=\"T_ce798f90_87f5_11eb_b10c_acde48001122row11_col5\" class=\"data row11 col5\" >0.0094</td>\n",
       "                        <td id=\"T_ce798f90_87f5_11eb_b10c_acde48001122row11_col6\" class=\"data row11 col6\" >0.0094</td>\n",
       "            </tr>\n",
       "    </tbody></table>"
      ],
      "text/plain": [
       "<pandas.io.formats.style.Styler at 0x7fbf84c1c320>"
      ]
     },
     "metadata": {},
     "output_type": "display_data"
    }
   ],
   "source": [
    "dt = create_model(\"dt\") # Create the dt classifier"
   ]
  },
  {
   "cell_type": "code",
   "execution_count": 113,
   "metadata": {},
   "outputs": [
    {
     "data": {
      "text/html": [
       "<style  type=\"text/css\" >\n",
       "</style><table id=\"T_d5a22930_87f5_11eb_9af7_acde48001122\" ><thead>    <tr>        <th class=\"blank level0\" ></th>        <th class=\"col_heading level0 col0\" >Model</th>        <th class=\"col_heading level0 col1\" >Accuracy</th>        <th class=\"col_heading level0 col2\" >AUC</th>        <th class=\"col_heading level0 col3\" >Recall</th>        <th class=\"col_heading level0 col4\" >Prec.</th>        <th class=\"col_heading level0 col5\" >F1</th>        <th class=\"col_heading level0 col6\" >Kappa</th>        <th class=\"col_heading level0 col7\" >MCC</th>    </tr></thead><tbody>\n",
       "                <tr>\n",
       "                        <th id=\"T_d5a22930_87f5_11eb_9af7_acde48001122level0_row0\" class=\"row_heading level0 row0\" >0</th>\n",
       "                        <td id=\"T_d5a22930_87f5_11eb_9af7_acde48001122row0_col0\" class=\"data row0 col0\" >Decision Tree Classifier</td>\n",
       "                        <td id=\"T_d5a22930_87f5_11eb_9af7_acde48001122row0_col1\" class=\"data row0 col1\" >0.7338</td>\n",
       "                        <td id=\"T_d5a22930_87f5_11eb_9af7_acde48001122row0_col2\" class=\"data row0 col2\" >0.5900</td>\n",
       "                        <td id=\"T_d5a22930_87f5_11eb_9af7_acde48001122row0_col3\" class=\"data row0 col3\" >0.3489</td>\n",
       "                        <td id=\"T_d5a22930_87f5_11eb_9af7_acde48001122row0_col4\" class=\"data row0 col4\" >0.3392</td>\n",
       "                        <td id=\"T_d5a22930_87f5_11eb_9af7_acde48001122row0_col5\" class=\"data row0 col5\" >0.3440</td>\n",
       "                        <td id=\"T_d5a22930_87f5_11eb_9af7_acde48001122row0_col6\" class=\"data row0 col6\" >0.1770</td>\n",
       "                        <td id=\"T_d5a22930_87f5_11eb_9af7_acde48001122row0_col7\" class=\"data row0 col7\" >0.1771</td>\n",
       "            </tr>\n",
       "    </tbody></table>"
      ],
      "text/plain": [
       "<pandas.io.formats.style.Styler at 0x7fbd54356278>"
      ]
     },
     "metadata": {},
     "output_type": "display_data"
    }
   ],
   "source": [
    "pred_holdout = predict_model(dt)"
   ]
  },
  {
   "cell_type": "markdown",
   "metadata": {
    "id": "BMPgcZAEnhmW"
   },
   "source": [
    "# **Setting up data for round 2**\n",
    "The real dataset can be split into 60:40 training/test. Once this has been split the synthetic data can be added to the training data. This in a way doesn't \"waste\" the real dataset in the training."
   ]
  },
  {
   "cell_type": "code",
   "execution_count": null,
   "metadata": {},
   "outputs": [],
   "source": []
  },
  {
   "cell_type": "code",
   "execution_count": 105,
   "metadata": {
    "id": "wI0wDDI3yRIb"
   },
   "outputs": [],
   "source": [
    "ord_feats = {}"
   ]
  },
  {
   "cell_type": "markdown",
   "metadata": {
    "id": "MWErwjuvvPqJ"
   },
   "source": [
    "If we use pycaret without shuffling the test data we see strange kfold validation stats."
   ]
  },
  {
   "cell_type": "code",
   "execution_count": 183,
   "metadata": {},
   "outputs": [
    {
     "name": "stdout",
     "output_type": "stream",
     "text": [
      "setup complete!\n"
     ]
    }
   ],
   "source": [
    "setup(synth_train, \n",
    "      target = target, \n",
    "      test_data = test,\n",
    "      fold_strategy = \"stratifiedkfold\",\n",
    "      numeric_features = cont_feats,\n",
    "      categorical_features = cat_feats,\n",
    "      ordinal_features = ord_feats,\n",
    "      ignore_features = ignore,\n",
    "      normalize = True,\n",
    "      normalize_method = \"zscore\",\n",
    "      data_split_stratify = True,\n",
    "      ignore_low_variance = True,\n",
    "      silent = True, verbose = False)\n",
    "print(\"setup complete!\")"
   ]
  },
  {
   "cell_type": "code",
   "execution_count": 184,
   "metadata": {},
   "outputs": [
    {
     "data": {
      "text/html": [
       "<style  type=\"text/css\" >\n",
       "#T_5003704a_8845_11eb_9de6_acde48001122row10_col0,#T_5003704a_8845_11eb_9de6_acde48001122row10_col1,#T_5003704a_8845_11eb_9de6_acde48001122row10_col2,#T_5003704a_8845_11eb_9de6_acde48001122row10_col3,#T_5003704a_8845_11eb_9de6_acde48001122row10_col4,#T_5003704a_8845_11eb_9de6_acde48001122row10_col5,#T_5003704a_8845_11eb_9de6_acde48001122row10_col6{\n",
       "            background:  yellow;\n",
       "        }</style><table id=\"T_5003704a_8845_11eb_9de6_acde48001122\" ><thead>    <tr>        <th class=\"blank level0\" ></th>        <th class=\"col_heading level0 col0\" >Accuracy</th>        <th class=\"col_heading level0 col1\" >AUC</th>        <th class=\"col_heading level0 col2\" >Recall</th>        <th class=\"col_heading level0 col3\" >Prec.</th>        <th class=\"col_heading level0 col4\" >F1</th>        <th class=\"col_heading level0 col5\" >Kappa</th>        <th class=\"col_heading level0 col6\" >MCC</th>    </tr></thead><tbody>\n",
       "                <tr>\n",
       "                        <th id=\"T_5003704a_8845_11eb_9de6_acde48001122level0_row0\" class=\"row_heading level0 row0\" >0</th>\n",
       "                        <td id=\"T_5003704a_8845_11eb_9de6_acde48001122row0_col0\" class=\"data row0 col0\" >0.5685</td>\n",
       "                        <td id=\"T_5003704a_8845_11eb_9de6_acde48001122row0_col1\" class=\"data row0 col1\" >0.7086</td>\n",
       "                        <td id=\"T_5003704a_8845_11eb_9de6_acde48001122row0_col2\" class=\"data row0 col2\" >0.2292</td>\n",
       "                        <td id=\"T_5003704a_8845_11eb_9de6_acde48001122row0_col3\" class=\"data row0 col3\" >0.7246</td>\n",
       "                        <td id=\"T_5003704a_8845_11eb_9de6_acde48001122row0_col4\" class=\"data row0 col4\" >0.3483</td>\n",
       "                        <td id=\"T_5003704a_8845_11eb_9de6_acde48001122row0_col5\" class=\"data row0 col5\" >0.1405</td>\n",
       "                        <td id=\"T_5003704a_8845_11eb_9de6_acde48001122row0_col6\" class=\"data row0 col6\" >0.1928</td>\n",
       "            </tr>\n",
       "            <tr>\n",
       "                        <th id=\"T_5003704a_8845_11eb_9de6_acde48001122level0_row1\" class=\"row_heading level0 row1\" >1</th>\n",
       "                        <td id=\"T_5003704a_8845_11eb_9de6_acde48001122row1_col0\" class=\"data row1 col0\" >0.5654</td>\n",
       "                        <td id=\"T_5003704a_8845_11eb_9de6_acde48001122row1_col1\" class=\"data row1 col1\" >0.7122</td>\n",
       "                        <td id=\"T_5003704a_8845_11eb_9de6_acde48001122row1_col2\" class=\"data row1 col2\" >0.2306</td>\n",
       "                        <td id=\"T_5003704a_8845_11eb_9de6_acde48001122row1_col3\" class=\"data row1 col3\" >0.7090</td>\n",
       "                        <td id=\"T_5003704a_8845_11eb_9de6_acde48001122row1_col4\" class=\"data row1 col4\" >0.3480</td>\n",
       "                        <td id=\"T_5003704a_8845_11eb_9de6_acde48001122row1_col5\" class=\"data row1 col5\" >0.1342</td>\n",
       "                        <td id=\"T_5003704a_8845_11eb_9de6_acde48001122row1_col6\" class=\"data row1 col6\" >0.1822</td>\n",
       "            </tr>\n",
       "            <tr>\n",
       "                        <th id=\"T_5003704a_8845_11eb_9de6_acde48001122level0_row2\" class=\"row_heading level0 row2\" >2</th>\n",
       "                        <td id=\"T_5003704a_8845_11eb_9de6_acde48001122row2_col0\" class=\"data row2 col0\" >0.7445</td>\n",
       "                        <td id=\"T_5003704a_8845_11eb_9de6_acde48001122row2_col1\" class=\"data row2 col1\" >0.8444</td>\n",
       "                        <td id=\"T_5003704a_8845_11eb_9de6_acde48001122row2_col2\" class=\"data row2 col2\" >0.5967</td>\n",
       "                        <td id=\"T_5003704a_8845_11eb_9de6_acde48001122row2_col3\" class=\"data row2 col3\" >0.8507</td>\n",
       "                        <td id=\"T_5003704a_8845_11eb_9de6_acde48001122row2_col4\" class=\"data row2 col4\" >0.7014</td>\n",
       "                        <td id=\"T_5003704a_8845_11eb_9de6_acde48001122row2_col5\" class=\"data row2 col5\" >0.4898</td>\n",
       "                        <td id=\"T_5003704a_8845_11eb_9de6_acde48001122row2_col6\" class=\"data row2 col6\" >0.5134</td>\n",
       "            </tr>\n",
       "            <tr>\n",
       "                        <th id=\"T_5003704a_8845_11eb_9de6_acde48001122level0_row3\" class=\"row_heading level0 row3\" >3</th>\n",
       "                        <td id=\"T_5003704a_8845_11eb_9de6_acde48001122row3_col0\" class=\"data row3 col0\" >0.9091</td>\n",
       "                        <td id=\"T_5003704a_8845_11eb_9de6_acde48001122row3_col1\" class=\"data row3 col1\" >0.9788</td>\n",
       "                        <td id=\"T_5003704a_8845_11eb_9de6_acde48001122row3_col2\" class=\"data row3 col2\" >0.9598</td>\n",
       "                        <td id=\"T_5003704a_8845_11eb_9de6_acde48001122row3_col3\" class=\"data row3 col3\" >0.8724</td>\n",
       "                        <td id=\"T_5003704a_8845_11eb_9de6_acde48001122row3_col4\" class=\"data row3 col4\" >0.9140</td>\n",
       "                        <td id=\"T_5003704a_8845_11eb_9de6_acde48001122row3_col5\" class=\"data row3 col5\" >0.8182</td>\n",
       "                        <td id=\"T_5003704a_8845_11eb_9de6_acde48001122row3_col6\" class=\"data row3 col6\" >0.8224</td>\n",
       "            </tr>\n",
       "            <tr>\n",
       "                        <th id=\"T_5003704a_8845_11eb_9de6_acde48001122level0_row4\" class=\"row_heading level0 row4\" >4</th>\n",
       "                        <td id=\"T_5003704a_8845_11eb_9de6_acde48001122row4_col0\" class=\"data row4 col0\" >0.9131</td>\n",
       "                        <td id=\"T_5003704a_8845_11eb_9de6_acde48001122row4_col1\" class=\"data row4 col1\" >0.9820</td>\n",
       "                        <td id=\"T_5003704a_8845_11eb_9de6_acde48001122row4_col2\" class=\"data row4 col2\" >0.9648</td>\n",
       "                        <td id=\"T_5003704a_8845_11eb_9de6_acde48001122row4_col3\" class=\"data row4 col3\" >0.8752</td>\n",
       "                        <td id=\"T_5003704a_8845_11eb_9de6_acde48001122row4_col4\" class=\"data row4 col4\" >0.9178</td>\n",
       "                        <td id=\"T_5003704a_8845_11eb_9de6_acde48001122row4_col5\" class=\"data row4 col5\" >0.8261</td>\n",
       "                        <td id=\"T_5003704a_8845_11eb_9de6_acde48001122row4_col6\" class=\"data row4 col6\" >0.8305</td>\n",
       "            </tr>\n",
       "            <tr>\n",
       "                        <th id=\"T_5003704a_8845_11eb_9de6_acde48001122level0_row5\" class=\"row_heading level0 row5\" >5</th>\n",
       "                        <td id=\"T_5003704a_8845_11eb_9de6_acde48001122row5_col0\" class=\"data row5 col0\" >0.9122</td>\n",
       "                        <td id=\"T_5003704a_8845_11eb_9de6_acde48001122row5_col1\" class=\"data row5 col1\" >0.9787</td>\n",
       "                        <td id=\"T_5003704a_8845_11eb_9de6_acde48001122row5_col2\" class=\"data row5 col2\" >0.9611</td>\n",
       "                        <td id=\"T_5003704a_8845_11eb_9de6_acde48001122row5_col3\" class=\"data row5 col3\" >0.8764</td>\n",
       "                        <td id=\"T_5003704a_8845_11eb_9de6_acde48001122row5_col4\" class=\"data row5 col4\" >0.9168</td>\n",
       "                        <td id=\"T_5003704a_8845_11eb_9de6_acde48001122row5_col5\" class=\"data row5 col5\" >0.8244</td>\n",
       "                        <td id=\"T_5003704a_8845_11eb_9de6_acde48001122row5_col6\" class=\"data row5 col6\" >0.8283</td>\n",
       "            </tr>\n",
       "            <tr>\n",
       "                        <th id=\"T_5003704a_8845_11eb_9de6_acde48001122level0_row6\" class=\"row_heading level0 row6\" >6</th>\n",
       "                        <td id=\"T_5003704a_8845_11eb_9de6_acde48001122row6_col0\" class=\"data row6 col0\" >0.9127</td>\n",
       "                        <td id=\"T_5003704a_8845_11eb_9de6_acde48001122row6_col1\" class=\"data row6 col1\" >0.9785</td>\n",
       "                        <td id=\"T_5003704a_8845_11eb_9de6_acde48001122row6_col2\" class=\"data row6 col2\" >0.9635</td>\n",
       "                        <td id=\"T_5003704a_8845_11eb_9de6_acde48001122row6_col3\" class=\"data row6 col3\" >0.8754</td>\n",
       "                        <td id=\"T_5003704a_8845_11eb_9de6_acde48001122row6_col4\" class=\"data row6 col4\" >0.9174</td>\n",
       "                        <td id=\"T_5003704a_8845_11eb_9de6_acde48001122row6_col5\" class=\"data row6 col5\" >0.8253</td>\n",
       "                        <td id=\"T_5003704a_8845_11eb_9de6_acde48001122row6_col6\" class=\"data row6 col6\" >0.8296</td>\n",
       "            </tr>\n",
       "            <tr>\n",
       "                        <th id=\"T_5003704a_8845_11eb_9de6_acde48001122level0_row7\" class=\"row_heading level0 row7\" >7</th>\n",
       "                        <td id=\"T_5003704a_8845_11eb_9de6_acde48001122row7_col0\" class=\"data row7 col0\" >0.9096</td>\n",
       "                        <td id=\"T_5003704a_8845_11eb_9de6_acde48001122row7_col1\" class=\"data row7 col1\" >0.9791</td>\n",
       "                        <td id=\"T_5003704a_8845_11eb_9de6_acde48001122row7_col2\" class=\"data row7 col2\" >0.9596</td>\n",
       "                        <td id=\"T_5003704a_8845_11eb_9de6_acde48001122row7_col3\" class=\"data row7 col3\" >0.8732</td>\n",
       "                        <td id=\"T_5003704a_8845_11eb_9de6_acde48001122row7_col4\" class=\"data row7 col4\" >0.9144</td>\n",
       "                        <td id=\"T_5003704a_8845_11eb_9de6_acde48001122row7_col5\" class=\"data row7 col5\" >0.8191</td>\n",
       "                        <td id=\"T_5003704a_8845_11eb_9de6_acde48001122row7_col6\" class=\"data row7 col6\" >0.8232</td>\n",
       "            </tr>\n",
       "            <tr>\n",
       "                        <th id=\"T_5003704a_8845_11eb_9de6_acde48001122level0_row8\" class=\"row_heading level0 row8\" >8</th>\n",
       "                        <td id=\"T_5003704a_8845_11eb_9de6_acde48001122row8_col0\" class=\"data row8 col0\" >0.9097</td>\n",
       "                        <td id=\"T_5003704a_8845_11eb_9de6_acde48001122row8_col1\" class=\"data row8 col1\" >0.9781</td>\n",
       "                        <td id=\"T_5003704a_8845_11eb_9de6_acde48001122row8_col2\" class=\"data row8 col2\" >0.9583</td>\n",
       "                        <td id=\"T_5003704a_8845_11eb_9de6_acde48001122row8_col3\" class=\"data row8 col3\" >0.8743</td>\n",
       "                        <td id=\"T_5003704a_8845_11eb_9de6_acde48001122row8_col4\" class=\"data row8 col4\" >0.9143</td>\n",
       "                        <td id=\"T_5003704a_8845_11eb_9de6_acde48001122row8_col5\" class=\"data row8 col5\" >0.8193</td>\n",
       "                        <td id=\"T_5003704a_8845_11eb_9de6_acde48001122row8_col6\" class=\"data row8 col6\" >0.8231</td>\n",
       "            </tr>\n",
       "            <tr>\n",
       "                        <th id=\"T_5003704a_8845_11eb_9de6_acde48001122level0_row9\" class=\"row_heading level0 row9\" >9</th>\n",
       "                        <td id=\"T_5003704a_8845_11eb_9de6_acde48001122row9_col0\" class=\"data row9 col0\" >0.9117</td>\n",
       "                        <td id=\"T_5003704a_8845_11eb_9de6_acde48001122row9_col1\" class=\"data row9 col1\" >0.9789</td>\n",
       "                        <td id=\"T_5003704a_8845_11eb_9de6_acde48001122row9_col2\" class=\"data row9 col2\" >0.9596</td>\n",
       "                        <td id=\"T_5003704a_8845_11eb_9de6_acde48001122row9_col3\" class=\"data row9 col3\" >0.8765</td>\n",
       "                        <td id=\"T_5003704a_8845_11eb_9de6_acde48001122row9_col4\" class=\"data row9 col4\" >0.9162</td>\n",
       "                        <td id=\"T_5003704a_8845_11eb_9de6_acde48001122row9_col5\" class=\"data row9 col5\" >0.8232</td>\n",
       "                        <td id=\"T_5003704a_8845_11eb_9de6_acde48001122row9_col6\" class=\"data row9 col6\" >0.8270</td>\n",
       "            </tr>\n",
       "            <tr>\n",
       "                        <th id=\"T_5003704a_8845_11eb_9de6_acde48001122level0_row10\" class=\"row_heading level0 row10\" >Mean</th>\n",
       "                        <td id=\"T_5003704a_8845_11eb_9de6_acde48001122row10_col0\" class=\"data row10 col0\" >0.8256</td>\n",
       "                        <td id=\"T_5003704a_8845_11eb_9de6_acde48001122row10_col1\" class=\"data row10 col1\" >0.9119</td>\n",
       "                        <td id=\"T_5003704a_8845_11eb_9de6_acde48001122row10_col2\" class=\"data row10 col2\" >0.7783</td>\n",
       "                        <td id=\"T_5003704a_8845_11eb_9de6_acde48001122row10_col3\" class=\"data row10 col3\" >0.8408</td>\n",
       "                        <td id=\"T_5003704a_8845_11eb_9de6_acde48001122row10_col4\" class=\"data row10 col4\" >0.7809</td>\n",
       "                        <td id=\"T_5003704a_8845_11eb_9de6_acde48001122row10_col5\" class=\"data row10 col5\" >0.6520</td>\n",
       "                        <td id=\"T_5003704a_8845_11eb_9de6_acde48001122row10_col6\" class=\"data row10 col6\" >0.6673</td>\n",
       "            </tr>\n",
       "            <tr>\n",
       "                        <th id=\"T_5003704a_8845_11eb_9de6_acde48001122level0_row11\" class=\"row_heading level0 row11\" >SD</th>\n",
       "                        <td id=\"T_5003704a_8845_11eb_9de6_acde48001122row11_col0\" class=\"data row11 col0\" >0.1385</td>\n",
       "                        <td id=\"T_5003704a_8845_11eb_9de6_acde48001122row11_col1\" class=\"data row11 col1\" >0.1084</td>\n",
       "                        <td id=\"T_5003704a_8845_11eb_9de6_acde48001122row11_col2\" class=\"data row11 col2\" >0.2946</td>\n",
       "                        <td id=\"T_5003704a_8845_11eb_9de6_acde48001122row11_col3\" class=\"data row11 col3\" >0.0625</td>\n",
       "                        <td id=\"T_5003704a_8845_11eb_9de6_acde48001122row11_col4\" class=\"data row11 col4\" >0.2255</td>\n",
       "                        <td id=\"T_5003704a_8845_11eb_9de6_acde48001122row11_col5\" class=\"data row11 col5\" >0.2755</td>\n",
       "                        <td id=\"T_5003704a_8845_11eb_9de6_acde48001122row11_col6\" class=\"data row11 col6\" >0.2571</td>\n",
       "            </tr>\n",
       "    </tbody></table>"
      ],
      "text/plain": [
       "<pandas.io.formats.style.Styler at 0x7fbd555b9d68>"
      ]
     },
     "metadata": {},
     "output_type": "display_data"
    }
   ],
   "source": [
    "et = create_model(\"et\") # Create the catboost classifier"
   ]
  },
  {
   "cell_type": "code",
   "execution_count": 180,
   "metadata": {
    "id": "iN00u7Dtv25p"
   },
   "outputs": [
    {
     "name": "stdout",
     "output_type": "stream",
     "text": [
      "setup complete!\n"
     ]
    }
   ],
   "source": [
    "# Run pycaret setup w/synthetic data\n",
    "# https://pycaret.readthedocs.io/en/latest/api/classification.html?highlight=setup#pycaret.classification.setup \n",
    "#test_data is the hold out set, we run 10 fol cross validation\n",
    "setup(synth_train.sample(frac=1), \n",
    "      target = target, \n",
    "      test_data = test,\n",
    "      fold_strategy = \"stratifiedkfold\",\n",
    "      numeric_features = cont_feats,\n",
    "      categorical_features = cat_feats,\n",
    "      ordinal_features = ord_feats,\n",
    "      ignore_features = ignore,\n",
    "      normalize = True,\n",
    "      normalize_method = \"zscore\",\n",
    "      data_split_stratify = True,\n",
    "      ignore_low_variance = True,\n",
    "      silent = True, verbose = False)\n",
    "print(\"setup complete!\")"
   ]
  },
  {
   "cell_type": "markdown",
   "metadata": {
    "id": "PzNjV-KA1tN8"
   },
   "source": [
    "Now setup the `compare_models` can be checked again. Interestingly the `AUC`, `Recall` and `Precision` all went up considerably. `Recall` nearly doubled!"
   ]
  },
  {
   "cell_type": "code",
   "execution_count": 107,
   "metadata": {
    "colab": {
     "base_uri": "https://localhost:8080/",
     "height": 538,
     "referenced_widgets": [
      "f22ffd90d3364169ba67e6eb5920b092",
      "d01f30c83f114157b0c22e2cd2b9bb46",
      "4f81e8d444e2464cbe28a6b86ff871b5"
     ]
    },
    "id": "98UZMlcEwBhi",
    "outputId": "24c14ac4-dc4d-42f7-c09f-955da7270a67",
    "tags": []
   },
   "outputs": [
    {
     "data": {
      "text/html": [
       "<style  type=\"text/css\" >\n",
       "    #T_27f7b58c_87b4_11eb_8014_acde48001122 th {\n",
       "          text-align: left;\n",
       "    }#T_27f7b58c_87b4_11eb_8014_acde48001122row0_col0,#T_27f7b58c_87b4_11eb_8014_acde48001122row0_col1,#T_27f7b58c_87b4_11eb_8014_acde48001122row0_col2,#T_27f7b58c_87b4_11eb_8014_acde48001122row0_col3,#T_27f7b58c_87b4_11eb_8014_acde48001122row0_col4,#T_27f7b58c_87b4_11eb_8014_acde48001122row0_col6,#T_27f7b58c_87b4_11eb_8014_acde48001122row0_col7,#T_27f7b58c_87b4_11eb_8014_acde48001122row1_col0,#T_27f7b58c_87b4_11eb_8014_acde48001122row1_col1,#T_27f7b58c_87b4_11eb_8014_acde48001122row1_col2,#T_27f7b58c_87b4_11eb_8014_acde48001122row1_col3,#T_27f7b58c_87b4_11eb_8014_acde48001122row1_col4,#T_27f7b58c_87b4_11eb_8014_acde48001122row1_col5,#T_27f7b58c_87b4_11eb_8014_acde48001122row1_col6,#T_27f7b58c_87b4_11eb_8014_acde48001122row1_col7,#T_27f7b58c_87b4_11eb_8014_acde48001122row2_col0,#T_27f7b58c_87b4_11eb_8014_acde48001122row2_col1,#T_27f7b58c_87b4_11eb_8014_acde48001122row2_col2,#T_27f7b58c_87b4_11eb_8014_acde48001122row2_col4,#T_27f7b58c_87b4_11eb_8014_acde48001122row2_col5,#T_27f7b58c_87b4_11eb_8014_acde48001122row2_col6,#T_27f7b58c_87b4_11eb_8014_acde48001122row2_col7,#T_27f7b58c_87b4_11eb_8014_acde48001122row3_col0,#T_27f7b58c_87b4_11eb_8014_acde48001122row3_col3,#T_27f7b58c_87b4_11eb_8014_acde48001122row3_col4,#T_27f7b58c_87b4_11eb_8014_acde48001122row3_col5,#T_27f7b58c_87b4_11eb_8014_acde48001122row4_col0,#T_27f7b58c_87b4_11eb_8014_acde48001122row4_col1,#T_27f7b58c_87b4_11eb_8014_acde48001122row4_col2,#T_27f7b58c_87b4_11eb_8014_acde48001122row4_col3,#T_27f7b58c_87b4_11eb_8014_acde48001122row4_col4,#T_27f7b58c_87b4_11eb_8014_acde48001122row4_col5,#T_27f7b58c_87b4_11eb_8014_acde48001122row4_col6,#T_27f7b58c_87b4_11eb_8014_acde48001122row4_col7,#T_27f7b58c_87b4_11eb_8014_acde48001122row5_col0,#T_27f7b58c_87b4_11eb_8014_acde48001122row5_col1,#T_27f7b58c_87b4_11eb_8014_acde48001122row5_col2,#T_27f7b58c_87b4_11eb_8014_acde48001122row5_col3,#T_27f7b58c_87b4_11eb_8014_acde48001122row5_col4,#T_27f7b58c_87b4_11eb_8014_acde48001122row5_col5,#T_27f7b58c_87b4_11eb_8014_acde48001122row5_col6,#T_27f7b58c_87b4_11eb_8014_acde48001122row5_col7,#T_27f7b58c_87b4_11eb_8014_acde48001122row6_col0,#T_27f7b58c_87b4_11eb_8014_acde48001122row6_col1,#T_27f7b58c_87b4_11eb_8014_acde48001122row6_col2,#T_27f7b58c_87b4_11eb_8014_acde48001122row6_col3,#T_27f7b58c_87b4_11eb_8014_acde48001122row6_col4,#T_27f7b58c_87b4_11eb_8014_acde48001122row6_col5,#T_27f7b58c_87b4_11eb_8014_acde48001122row6_col6,#T_27f7b58c_87b4_11eb_8014_acde48001122row6_col7,#T_27f7b58c_87b4_11eb_8014_acde48001122row7_col0,#T_27f7b58c_87b4_11eb_8014_acde48001122row7_col1,#T_27f7b58c_87b4_11eb_8014_acde48001122row7_col2,#T_27f7b58c_87b4_11eb_8014_acde48001122row7_col3,#T_27f7b58c_87b4_11eb_8014_acde48001122row7_col5,#T_27f7b58c_87b4_11eb_8014_acde48001122row7_col6,#T_27f7b58c_87b4_11eb_8014_acde48001122row7_col7,#T_27f7b58c_87b4_11eb_8014_acde48001122row8_col0,#T_27f7b58c_87b4_11eb_8014_acde48001122row8_col1,#T_27f7b58c_87b4_11eb_8014_acde48001122row8_col2,#T_27f7b58c_87b4_11eb_8014_acde48001122row8_col3,#T_27f7b58c_87b4_11eb_8014_acde48001122row8_col4,#T_27f7b58c_87b4_11eb_8014_acde48001122row8_col5,#T_27f7b58c_87b4_11eb_8014_acde48001122row8_col6,#T_27f7b58c_87b4_11eb_8014_acde48001122row8_col7,#T_27f7b58c_87b4_11eb_8014_acde48001122row9_col0,#T_27f7b58c_87b4_11eb_8014_acde48001122row9_col1,#T_27f7b58c_87b4_11eb_8014_acde48001122row9_col2,#T_27f7b58c_87b4_11eb_8014_acde48001122row9_col3,#T_27f7b58c_87b4_11eb_8014_acde48001122row9_col4,#T_27f7b58c_87b4_11eb_8014_acde48001122row9_col5,#T_27f7b58c_87b4_11eb_8014_acde48001122row9_col6,#T_27f7b58c_87b4_11eb_8014_acde48001122row9_col7,#T_27f7b58c_87b4_11eb_8014_acde48001122row10_col0,#T_27f7b58c_87b4_11eb_8014_acde48001122row10_col1,#T_27f7b58c_87b4_11eb_8014_acde48001122row10_col2,#T_27f7b58c_87b4_11eb_8014_acde48001122row10_col3,#T_27f7b58c_87b4_11eb_8014_acde48001122row10_col4,#T_27f7b58c_87b4_11eb_8014_acde48001122row10_col5,#T_27f7b58c_87b4_11eb_8014_acde48001122row10_col6,#T_27f7b58c_87b4_11eb_8014_acde48001122row10_col7,#T_27f7b58c_87b4_11eb_8014_acde48001122row11_col0,#T_27f7b58c_87b4_11eb_8014_acde48001122row11_col1,#T_27f7b58c_87b4_11eb_8014_acde48001122row11_col2,#T_27f7b58c_87b4_11eb_8014_acde48001122row11_col3,#T_27f7b58c_87b4_11eb_8014_acde48001122row11_col4,#T_27f7b58c_87b4_11eb_8014_acde48001122row11_col5,#T_27f7b58c_87b4_11eb_8014_acde48001122row11_col6,#T_27f7b58c_87b4_11eb_8014_acde48001122row11_col7,#T_27f7b58c_87b4_11eb_8014_acde48001122row12_col0,#T_27f7b58c_87b4_11eb_8014_acde48001122row12_col1,#T_27f7b58c_87b4_11eb_8014_acde48001122row12_col2,#T_27f7b58c_87b4_11eb_8014_acde48001122row12_col3,#T_27f7b58c_87b4_11eb_8014_acde48001122row12_col4,#T_27f7b58c_87b4_11eb_8014_acde48001122row12_col5,#T_27f7b58c_87b4_11eb_8014_acde48001122row12_col6,#T_27f7b58c_87b4_11eb_8014_acde48001122row12_col7,#T_27f7b58c_87b4_11eb_8014_acde48001122row13_col0,#T_27f7b58c_87b4_11eb_8014_acde48001122row13_col1,#T_27f7b58c_87b4_11eb_8014_acde48001122row13_col2,#T_27f7b58c_87b4_11eb_8014_acde48001122row13_col3,#T_27f7b58c_87b4_11eb_8014_acde48001122row13_col4,#T_27f7b58c_87b4_11eb_8014_acde48001122row13_col5,#T_27f7b58c_87b4_11eb_8014_acde48001122row13_col6,#T_27f7b58c_87b4_11eb_8014_acde48001122row13_col7,#T_27f7b58c_87b4_11eb_8014_acde48001122row14_col0,#T_27f7b58c_87b4_11eb_8014_acde48001122row14_col1,#T_27f7b58c_87b4_11eb_8014_acde48001122row14_col2,#T_27f7b58c_87b4_11eb_8014_acde48001122row14_col3,#T_27f7b58c_87b4_11eb_8014_acde48001122row14_col4,#T_27f7b58c_87b4_11eb_8014_acde48001122row14_col5,#T_27f7b58c_87b4_11eb_8014_acde48001122row14_col6,#T_27f7b58c_87b4_11eb_8014_acde48001122row14_col7{\n",
       "            text-align:  left;\n",
       "            text-align:  left;\n",
       "        }#T_27f7b58c_87b4_11eb_8014_acde48001122row0_col5,#T_27f7b58c_87b4_11eb_8014_acde48001122row2_col3,#T_27f7b58c_87b4_11eb_8014_acde48001122row3_col1,#T_27f7b58c_87b4_11eb_8014_acde48001122row3_col2,#T_27f7b58c_87b4_11eb_8014_acde48001122row3_col6,#T_27f7b58c_87b4_11eb_8014_acde48001122row3_col7,#T_27f7b58c_87b4_11eb_8014_acde48001122row7_col4{\n",
       "            text-align:  left;\n",
       "            text-align:  left;\n",
       "            background-color:  yellow;\n",
       "        }#T_27f7b58c_87b4_11eb_8014_acde48001122row0_col8,#T_27f7b58c_87b4_11eb_8014_acde48001122row1_col8,#T_27f7b58c_87b4_11eb_8014_acde48001122row2_col8,#T_27f7b58c_87b4_11eb_8014_acde48001122row3_col8,#T_27f7b58c_87b4_11eb_8014_acde48001122row4_col8,#T_27f7b58c_87b4_11eb_8014_acde48001122row5_col8,#T_27f7b58c_87b4_11eb_8014_acde48001122row6_col8,#T_27f7b58c_87b4_11eb_8014_acde48001122row7_col8,#T_27f7b58c_87b4_11eb_8014_acde48001122row8_col8,#T_27f7b58c_87b4_11eb_8014_acde48001122row9_col8,#T_27f7b58c_87b4_11eb_8014_acde48001122row11_col8,#T_27f7b58c_87b4_11eb_8014_acde48001122row12_col8,#T_27f7b58c_87b4_11eb_8014_acde48001122row13_col8,#T_27f7b58c_87b4_11eb_8014_acde48001122row14_col8{\n",
       "            text-align:  left;\n",
       "            text-align:  left;\n",
       "            background-color:  lightgrey;\n",
       "        }#T_27f7b58c_87b4_11eb_8014_acde48001122row10_col8{\n",
       "            text-align:  left;\n",
       "            text-align:  left;\n",
       "            background-color:  yellow;\n",
       "            background-color:  lightgrey;\n",
       "        }</style><table id=\"T_27f7b58c_87b4_11eb_8014_acde48001122\" ><thead>    <tr>        <th class=\"blank level0\" ></th>        <th class=\"col_heading level0 col0\" >Model</th>        <th class=\"col_heading level0 col1\" >Accuracy</th>        <th class=\"col_heading level0 col2\" >AUC</th>        <th class=\"col_heading level0 col3\" >Recall</th>        <th class=\"col_heading level0 col4\" >Prec.</th>        <th class=\"col_heading level0 col5\" >F1</th>        <th class=\"col_heading level0 col6\" >Kappa</th>        <th class=\"col_heading level0 col7\" >MCC</th>        <th class=\"col_heading level0 col8\" >TT (Sec)</th>    </tr></thead><tbody>\n",
       "                <tr>\n",
       "                        <th id=\"T_27f7b58c_87b4_11eb_8014_acde48001122level0_row0\" class=\"row_heading level0 row0\" >et</th>\n",
       "                        <td id=\"T_27f7b58c_87b4_11eb_8014_acde48001122row0_col0\" class=\"data row0 col0\" >Extra Trees Classifier</td>\n",
       "                        <td id=\"T_27f7b58c_87b4_11eb_8014_acde48001122row0_col1\" class=\"data row0 col1\" >0.8255</td>\n",
       "                        <td id=\"T_27f7b58c_87b4_11eb_8014_acde48001122row0_col2\" class=\"data row0 col2\" >0.9117</td>\n",
       "                        <td id=\"T_27f7b58c_87b4_11eb_8014_acde48001122row0_col3\" class=\"data row0 col3\" >0.7788</td>\n",
       "                        <td id=\"T_27f7b58c_87b4_11eb_8014_acde48001122row0_col4\" class=\"data row0 col4\" >0.8414</td>\n",
       "                        <td id=\"T_27f7b58c_87b4_11eb_8014_acde48001122row0_col5\" class=\"data row0 col5\" >0.7813</td>\n",
       "                        <td id=\"T_27f7b58c_87b4_11eb_8014_acde48001122row0_col6\" class=\"data row0 col6\" >0.6516</td>\n",
       "                        <td id=\"T_27f7b58c_87b4_11eb_8014_acde48001122row0_col7\" class=\"data row0 col7\" >0.6672</td>\n",
       "                        <td id=\"T_27f7b58c_87b4_11eb_8014_acde48001122row0_col8\" class=\"data row0 col8\" >7.0960</td>\n",
       "            </tr>\n",
       "            <tr>\n",
       "                        <th id=\"T_27f7b58c_87b4_11eb_8014_acde48001122level0_row1\" class=\"row_heading level0 row1\" >rf</th>\n",
       "                        <td id=\"T_27f7b58c_87b4_11eb_8014_acde48001122row1_col0\" class=\"data row1 col0\" >Random Forest Classifier</td>\n",
       "                        <td id=\"T_27f7b58c_87b4_11eb_8014_acde48001122row1_col1\" class=\"data row1 col1\" >0.8373</td>\n",
       "                        <td id=\"T_27f7b58c_87b4_11eb_8014_acde48001122row1_col2\" class=\"data row1 col2\" >0.9214</td>\n",
       "                        <td id=\"T_27f7b58c_87b4_11eb_8014_acde48001122row1_col3\" class=\"data row1 col3\" >0.7666</td>\n",
       "                        <td id=\"T_27f7b58c_87b4_11eb_8014_acde48001122row1_col4\" class=\"data row1 col4\" >0.8738</td>\n",
       "                        <td id=\"T_27f7b58c_87b4_11eb_8014_acde48001122row1_col5\" class=\"data row1 col5\" >0.7808</td>\n",
       "                        <td id=\"T_27f7b58c_87b4_11eb_8014_acde48001122row1_col6\" class=\"data row1 col6\" >0.6754</td>\n",
       "                        <td id=\"T_27f7b58c_87b4_11eb_8014_acde48001122row1_col7\" class=\"data row1 col7\" >0.6935</td>\n",
       "                        <td id=\"T_27f7b58c_87b4_11eb_8014_acde48001122row1_col8\" class=\"data row1 col8\" >4.6150</td>\n",
       "            </tr>\n",
       "            <tr>\n",
       "                        <th id=\"T_27f7b58c_87b4_11eb_8014_acde48001122level0_row2\" class=\"row_heading level0 row2\" >dt</th>\n",
       "                        <td id=\"T_27f7b58c_87b4_11eb_8014_acde48001122row2_col0\" class=\"data row2 col0\" >Decision Tree Classifier</td>\n",
       "                        <td id=\"T_27f7b58c_87b4_11eb_8014_acde48001122row2_col1\" class=\"data row2 col1\" >0.7976</td>\n",
       "                        <td id=\"T_27f7b58c_87b4_11eb_8014_acde48001122row2_col2\" class=\"data row2 col2\" >0.7978</td>\n",
       "                        <td id=\"T_27f7b58c_87b4_11eb_8014_acde48001122row2_col3\" class=\"data row2 col3\" >0.7872</td>\n",
       "                        <td id=\"T_27f7b58c_87b4_11eb_8014_acde48001122row2_col4\" class=\"data row2 col4\" >0.7877</td>\n",
       "                        <td id=\"T_27f7b58c_87b4_11eb_8014_acde48001122row2_col5\" class=\"data row2 col5\" >0.7700</td>\n",
       "                        <td id=\"T_27f7b58c_87b4_11eb_8014_acde48001122row2_col6\" class=\"data row2 col6\" >0.5956</td>\n",
       "                        <td id=\"T_27f7b58c_87b4_11eb_8014_acde48001122row2_col7\" class=\"data row2 col7\" >0.6081</td>\n",
       "                        <td id=\"T_27f7b58c_87b4_11eb_8014_acde48001122row2_col8\" class=\"data row2 col8\" >0.4570</td>\n",
       "            </tr>\n",
       "            <tr>\n",
       "                        <th id=\"T_27f7b58c_87b4_11eb_8014_acde48001122level0_row3\" class=\"row_heading level0 row3\" >catboost</th>\n",
       "                        <td id=\"T_27f7b58c_87b4_11eb_8014_acde48001122row3_col0\" class=\"data row3 col0\" >CatBoost Classifier</td>\n",
       "                        <td id=\"T_27f7b58c_87b4_11eb_8014_acde48001122row3_col1\" class=\"data row3 col1\" >0.8419</td>\n",
       "                        <td id=\"T_27f7b58c_87b4_11eb_8014_acde48001122row3_col2\" class=\"data row3 col2\" >0.9250</td>\n",
       "                        <td id=\"T_27f7b58c_87b4_11eb_8014_acde48001122row3_col3\" class=\"data row3 col3\" >0.7475</td>\n",
       "                        <td id=\"T_27f7b58c_87b4_11eb_8014_acde48001122row3_col4\" class=\"data row3 col4\" >0.8952</td>\n",
       "                        <td id=\"T_27f7b58c_87b4_11eb_8014_acde48001122row3_col5\" class=\"data row3 col5\" >0.7683</td>\n",
       "                        <td id=\"T_27f7b58c_87b4_11eb_8014_acde48001122row3_col6\" class=\"data row3 col6\" >0.6848</td>\n",
       "                        <td id=\"T_27f7b58c_87b4_11eb_8014_acde48001122row3_col7\" class=\"data row3 col7\" >0.7038</td>\n",
       "                        <td id=\"T_27f7b58c_87b4_11eb_8014_acde48001122row3_col8\" class=\"data row3 col8\" >16.0910</td>\n",
       "            </tr>\n",
       "            <tr>\n",
       "                        <th id=\"T_27f7b58c_87b4_11eb_8014_acde48001122level0_row4\" class=\"row_heading level0 row4\" >xgboost</th>\n",
       "                        <td id=\"T_27f7b58c_87b4_11eb_8014_acde48001122row4_col0\" class=\"data row4 col0\" >Extreme Gradient Boosting</td>\n",
       "                        <td id=\"T_27f7b58c_87b4_11eb_8014_acde48001122row4_col1\" class=\"data row4 col1\" >0.8409</td>\n",
       "                        <td id=\"T_27f7b58c_87b4_11eb_8014_acde48001122row4_col2\" class=\"data row4 col2\" >0.9240</td>\n",
       "                        <td id=\"T_27f7b58c_87b4_11eb_8014_acde48001122row4_col3\" class=\"data row4 col3\" >0.7443</td>\n",
       "                        <td id=\"T_27f7b58c_87b4_11eb_8014_acde48001122row4_col4\" class=\"data row4 col4\" >0.8912</td>\n",
       "                        <td id=\"T_27f7b58c_87b4_11eb_8014_acde48001122row4_col5\" class=\"data row4 col5\" >0.7653</td>\n",
       "                        <td id=\"T_27f7b58c_87b4_11eb_8014_acde48001122row4_col6\" class=\"data row4 col6\" >0.6829</td>\n",
       "                        <td id=\"T_27f7b58c_87b4_11eb_8014_acde48001122row4_col7\" class=\"data row4 col7\" >0.7005</td>\n",
       "                        <td id=\"T_27f7b58c_87b4_11eb_8014_acde48001122row4_col8\" class=\"data row4 col8\" >7.7090</td>\n",
       "            </tr>\n",
       "            <tr>\n",
       "                        <th id=\"T_27f7b58c_87b4_11eb_8014_acde48001122level0_row5\" class=\"row_heading level0 row5\" >gbc</th>\n",
       "                        <td id=\"T_27f7b58c_87b4_11eb_8014_acde48001122row5_col0\" class=\"data row5 col0\" >Gradient Boosting Classifier</td>\n",
       "                        <td id=\"T_27f7b58c_87b4_11eb_8014_acde48001122row5_col1\" class=\"data row5 col1\" >0.8335</td>\n",
       "                        <td id=\"T_27f7b58c_87b4_11eb_8014_acde48001122row5_col2\" class=\"data row5 col2\" >0.9190</td>\n",
       "                        <td id=\"T_27f7b58c_87b4_11eb_8014_acde48001122row5_col3\" class=\"data row5 col3\" >0.7449</td>\n",
       "                        <td id=\"T_27f7b58c_87b4_11eb_8014_acde48001122row5_col4\" class=\"data row5 col4\" >0.8746</td>\n",
       "                        <td id=\"T_27f7b58c_87b4_11eb_8014_acde48001122row5_col5\" class=\"data row5 col5\" >0.7622</td>\n",
       "                        <td id=\"T_27f7b58c_87b4_11eb_8014_acde48001122row5_col6\" class=\"data row5 col6\" >0.6681</td>\n",
       "                        <td id=\"T_27f7b58c_87b4_11eb_8014_acde48001122row5_col7\" class=\"data row5 col7\" >0.6846</td>\n",
       "                        <td id=\"T_27f7b58c_87b4_11eb_8014_acde48001122row5_col8\" class=\"data row5 col8\" >5.0530</td>\n",
       "            </tr>\n",
       "            <tr>\n",
       "                        <th id=\"T_27f7b58c_87b4_11eb_8014_acde48001122level0_row6\" class=\"row_heading level0 row6\" >ada</th>\n",
       "                        <td id=\"T_27f7b58c_87b4_11eb_8014_acde48001122row6_col0\" class=\"data row6 col0\" >Ada Boost Classifier</td>\n",
       "                        <td id=\"T_27f7b58c_87b4_11eb_8014_acde48001122row6_col1\" class=\"data row6 col1\" >0.8208</td>\n",
       "                        <td id=\"T_27f7b58c_87b4_11eb_8014_acde48001122row6_col2\" class=\"data row6 col2\" >0.9106</td>\n",
       "                        <td id=\"T_27f7b58c_87b4_11eb_8014_acde48001122row6_col3\" class=\"data row6 col3\" >0.7439</td>\n",
       "                        <td id=\"T_27f7b58c_87b4_11eb_8014_acde48001122row6_col4\" class=\"data row6 col4\" >0.8524</td>\n",
       "                        <td id=\"T_27f7b58c_87b4_11eb_8014_acde48001122row6_col5\" class=\"data row6 col5\" >0.7612</td>\n",
       "                        <td id=\"T_27f7b58c_87b4_11eb_8014_acde48001122row6_col6\" class=\"data row6 col6\" >0.6426</td>\n",
       "                        <td id=\"T_27f7b58c_87b4_11eb_8014_acde48001122row6_col7\" class=\"data row6 col7\" >0.6571</td>\n",
       "                        <td id=\"T_27f7b58c_87b4_11eb_8014_acde48001122row6_col8\" class=\"data row6 col8\" >1.0880</td>\n",
       "            </tr>\n",
       "            <tr>\n",
       "                        <th id=\"T_27f7b58c_87b4_11eb_8014_acde48001122level0_row7\" class=\"row_heading level0 row7\" >lightgbm</th>\n",
       "                        <td id=\"T_27f7b58c_87b4_11eb_8014_acde48001122row7_col0\" class=\"data row7 col0\" >Light Gradient Boosting Machine</td>\n",
       "                        <td id=\"T_27f7b58c_87b4_11eb_8014_acde48001122row7_col1\" class=\"data row7 col1\" >0.8410</td>\n",
       "                        <td id=\"T_27f7b58c_87b4_11eb_8014_acde48001122row7_col2\" class=\"data row7 col2\" >0.9239</td>\n",
       "                        <td id=\"T_27f7b58c_87b4_11eb_8014_acde48001122row7_col3\" class=\"data row7 col3\" >0.7350</td>\n",
       "                        <td id=\"T_27f7b58c_87b4_11eb_8014_acde48001122row7_col4\" class=\"data row7 col4\" >0.9017</td>\n",
       "                        <td id=\"T_27f7b58c_87b4_11eb_8014_acde48001122row7_col5\" class=\"data row7 col5\" >0.7590</td>\n",
       "                        <td id=\"T_27f7b58c_87b4_11eb_8014_acde48001122row7_col6\" class=\"data row7 col6\" >0.6831</td>\n",
       "                        <td id=\"T_27f7b58c_87b4_11eb_8014_acde48001122row7_col7\" class=\"data row7 col7\" >0.7018</td>\n",
       "                        <td id=\"T_27f7b58c_87b4_11eb_8014_acde48001122row7_col8\" class=\"data row7 col8\" >1.0200</td>\n",
       "            </tr>\n",
       "            <tr>\n",
       "                        <th id=\"T_27f7b58c_87b4_11eb_8014_acde48001122level0_row8\" class=\"row_heading level0 row8\" >knn</th>\n",
       "                        <td id=\"T_27f7b58c_87b4_11eb_8014_acde48001122row8_col0\" class=\"data row8 col0\" >K Neighbors Classifier</td>\n",
       "                        <td id=\"T_27f7b58c_87b4_11eb_8014_acde48001122row8_col1\" class=\"data row8 col1\" >0.8044</td>\n",
       "                        <td id=\"T_27f7b58c_87b4_11eb_8014_acde48001122row8_col2\" class=\"data row8 col2\" >0.8816</td>\n",
       "                        <td id=\"T_27f7b58c_87b4_11eb_8014_acde48001122row8_col3\" class=\"data row8 col3\" >0.7269</td>\n",
       "                        <td id=\"T_27f7b58c_87b4_11eb_8014_acde48001122row8_col4\" class=\"data row8 col4\" >0.8425</td>\n",
       "                        <td id=\"T_27f7b58c_87b4_11eb_8014_acde48001122row8_col5\" class=\"data row8 col5\" >0.7520</td>\n",
       "                        <td id=\"T_27f7b58c_87b4_11eb_8014_acde48001122row8_col6\" class=\"data row8 col6\" >0.6096</td>\n",
       "                        <td id=\"T_27f7b58c_87b4_11eb_8014_acde48001122row8_col7\" class=\"data row8 col7\" >0.6240</td>\n",
       "                        <td id=\"T_27f7b58c_87b4_11eb_8014_acde48001122row8_col8\" class=\"data row8 col8\" >19.4760</td>\n",
       "            </tr>\n",
       "            <tr>\n",
       "                        <th id=\"T_27f7b58c_87b4_11eb_8014_acde48001122level0_row9\" class=\"row_heading level0 row9\" >svm</th>\n",
       "                        <td id=\"T_27f7b58c_87b4_11eb_8014_acde48001122row9_col0\" class=\"data row9 col0\" >SVM - Linear Kernel</td>\n",
       "                        <td id=\"T_27f7b58c_87b4_11eb_8014_acde48001122row9_col1\" class=\"data row9 col1\" >0.7537</td>\n",
       "                        <td id=\"T_27f7b58c_87b4_11eb_8014_acde48001122row9_col2\" class=\"data row9 col2\" >0.0000</td>\n",
       "                        <td id=\"T_27f7b58c_87b4_11eb_8014_acde48001122row9_col3\" class=\"data row9 col3\" >0.6970</td>\n",
       "                        <td id=\"T_27f7b58c_87b4_11eb_8014_acde48001122row9_col4\" class=\"data row9 col4\" >0.7708</td>\n",
       "                        <td id=\"T_27f7b58c_87b4_11eb_8014_acde48001122row9_col5\" class=\"data row9 col5\" >0.7200</td>\n",
       "                        <td id=\"T_27f7b58c_87b4_11eb_8014_acde48001122row9_col6\" class=\"data row9 col6\" >0.5080</td>\n",
       "                        <td id=\"T_27f7b58c_87b4_11eb_8014_acde48001122row9_col7\" class=\"data row9 col7\" >0.5139</td>\n",
       "                        <td id=\"T_27f7b58c_87b4_11eb_8014_acde48001122row9_col8\" class=\"data row9 col8\" >0.2440</td>\n",
       "            </tr>\n",
       "            <tr>\n",
       "                        <th id=\"T_27f7b58c_87b4_11eb_8014_acde48001122level0_row10\" class=\"row_heading level0 row10\" >ridge</th>\n",
       "                        <td id=\"T_27f7b58c_87b4_11eb_8014_acde48001122row10_col0\" class=\"data row10 col0\" >Ridge Classifier</td>\n",
       "                        <td id=\"T_27f7b58c_87b4_11eb_8014_acde48001122row10_col1\" class=\"data row10 col1\" >0.7600</td>\n",
       "                        <td id=\"T_27f7b58c_87b4_11eb_8014_acde48001122row10_col2\" class=\"data row10 col2\" >0.0000</td>\n",
       "                        <td id=\"T_27f7b58c_87b4_11eb_8014_acde48001122row10_col3\" class=\"data row10 col3\" >0.6900</td>\n",
       "                        <td id=\"T_27f7b58c_87b4_11eb_8014_acde48001122row10_col4\" class=\"data row10 col4\" >0.7850</td>\n",
       "                        <td id=\"T_27f7b58c_87b4_11eb_8014_acde48001122row10_col5\" class=\"data row10 col5\" >0.7195</td>\n",
       "                        <td id=\"T_27f7b58c_87b4_11eb_8014_acde48001122row10_col6\" class=\"data row10 col6\" >0.5207</td>\n",
       "                        <td id=\"T_27f7b58c_87b4_11eb_8014_acde48001122row10_col7\" class=\"data row10 col7\" >0.5282</td>\n",
       "                        <td id=\"T_27f7b58c_87b4_11eb_8014_acde48001122row10_col8\" class=\"data row10 col8\" >0.0820</td>\n",
       "            </tr>\n",
       "            <tr>\n",
       "                        <th id=\"T_27f7b58c_87b4_11eb_8014_acde48001122level0_row11\" class=\"row_heading level0 row11\" >lda</th>\n",
       "                        <td id=\"T_27f7b58c_87b4_11eb_8014_acde48001122row11_col0\" class=\"data row11 col0\" >Linear Discriminant Analysis</td>\n",
       "                        <td id=\"T_27f7b58c_87b4_11eb_8014_acde48001122row11_col1\" class=\"data row11 col1\" >0.7600</td>\n",
       "                        <td id=\"T_27f7b58c_87b4_11eb_8014_acde48001122row11_col2\" class=\"data row11 col2\" >0.8396</td>\n",
       "                        <td id=\"T_27f7b58c_87b4_11eb_8014_acde48001122row11_col3\" class=\"data row11 col3\" >0.6900</td>\n",
       "                        <td id=\"T_27f7b58c_87b4_11eb_8014_acde48001122row11_col4\" class=\"data row11 col4\" >0.7850</td>\n",
       "                        <td id=\"T_27f7b58c_87b4_11eb_8014_acde48001122row11_col5\" class=\"data row11 col5\" >0.7195</td>\n",
       "                        <td id=\"T_27f7b58c_87b4_11eb_8014_acde48001122row11_col6\" class=\"data row11 col6\" >0.5206</td>\n",
       "                        <td id=\"T_27f7b58c_87b4_11eb_8014_acde48001122row11_col7\" class=\"data row11 col7\" >0.5282</td>\n",
       "                        <td id=\"T_27f7b58c_87b4_11eb_8014_acde48001122row11_col8\" class=\"data row11 col8\" >1.7340</td>\n",
       "            </tr>\n",
       "            <tr>\n",
       "                        <th id=\"T_27f7b58c_87b4_11eb_8014_acde48001122level0_row12\" class=\"row_heading level0 row12\" >lr</th>\n",
       "                        <td id=\"T_27f7b58c_87b4_11eb_8014_acde48001122row12_col0\" class=\"data row12 col0\" >Logistic Regression</td>\n",
       "                        <td id=\"T_27f7b58c_87b4_11eb_8014_acde48001122row12_col1\" class=\"data row12 col1\" >0.7595</td>\n",
       "                        <td id=\"T_27f7b58c_87b4_11eb_8014_acde48001122row12_col2\" class=\"data row12 col2\" >0.8404</td>\n",
       "                        <td id=\"T_27f7b58c_87b4_11eb_8014_acde48001122row12_col3\" class=\"data row12 col3\" >0.6882</td>\n",
       "                        <td id=\"T_27f7b58c_87b4_11eb_8014_acde48001122row12_col4\" class=\"data row12 col4\" >0.7857</td>\n",
       "                        <td id=\"T_27f7b58c_87b4_11eb_8014_acde48001122row12_col5\" class=\"data row12 col5\" >0.7191</td>\n",
       "                        <td id=\"T_27f7b58c_87b4_11eb_8014_acde48001122row12_col6\" class=\"data row12 col6\" >0.5197</td>\n",
       "                        <td id=\"T_27f7b58c_87b4_11eb_8014_acde48001122row12_col7\" class=\"data row12 col7\" >0.5273</td>\n",
       "                        <td id=\"T_27f7b58c_87b4_11eb_8014_acde48001122row12_col8\" class=\"data row12 col8\" >4.6760</td>\n",
       "            </tr>\n",
       "            <tr>\n",
       "                        <th id=\"T_27f7b58c_87b4_11eb_8014_acde48001122level0_row13\" class=\"row_heading level0 row13\" >qda</th>\n",
       "                        <td id=\"T_27f7b58c_87b4_11eb_8014_acde48001122row13_col0\" class=\"data row13 col0\" >Quadratic Discriminant Analysis</td>\n",
       "                        <td id=\"T_27f7b58c_87b4_11eb_8014_acde48001122row13_col1\" class=\"data row13 col1\" >0.5556</td>\n",
       "                        <td id=\"T_27f7b58c_87b4_11eb_8014_acde48001122row13_col2\" class=\"data row13 col2\" >0.5549</td>\n",
       "                        <td id=\"T_27f7b58c_87b4_11eb_8014_acde48001122row13_col3\" class=\"data row13 col3\" >0.6696</td>\n",
       "                        <td id=\"T_27f7b58c_87b4_11eb_8014_acde48001122row13_col4\" class=\"data row13 col4\" >0.5482</td>\n",
       "                        <td id=\"T_27f7b58c_87b4_11eb_8014_acde48001122row13_col5\" class=\"data row13 col5\" >0.5961</td>\n",
       "                        <td id=\"T_27f7b58c_87b4_11eb_8014_acde48001122row13_col6\" class=\"data row13 col6\" >0.1100</td>\n",
       "                        <td id=\"T_27f7b58c_87b4_11eb_8014_acde48001122row13_col7\" class=\"data row13 col7\" >0.1175</td>\n",
       "                        <td id=\"T_27f7b58c_87b4_11eb_8014_acde48001122row13_col8\" class=\"data row13 col8\" >1.5910</td>\n",
       "            </tr>\n",
       "            <tr>\n",
       "                        <th id=\"T_27f7b58c_87b4_11eb_8014_acde48001122level0_row14\" class=\"row_heading level0 row14\" >nb</th>\n",
       "                        <td id=\"T_27f7b58c_87b4_11eb_8014_acde48001122row14_col0\" class=\"data row14 col0\" >Naive Bayes</td>\n",
       "                        <td id=\"T_27f7b58c_87b4_11eb_8014_acde48001122row14_col1\" class=\"data row14 col1\" >0.6987</td>\n",
       "                        <td id=\"T_27f7b58c_87b4_11eb_8014_acde48001122row14_col2\" class=\"data row14 col2\" >0.7906</td>\n",
       "                        <td id=\"T_27f7b58c_87b4_11eb_8014_acde48001122row14_col3\" class=\"data row14 col3\" >0.4515</td>\n",
       "                        <td id=\"T_27f7b58c_87b4_11eb_8014_acde48001122row14_col4\" class=\"data row14 col4\" >0.8308</td>\n",
       "                        <td id=\"T_27f7b58c_87b4_11eb_8014_acde48001122row14_col5\" class=\"data row14 col5\" >0.5664</td>\n",
       "                        <td id=\"T_27f7b58c_87b4_11eb_8014_acde48001122row14_col6\" class=\"data row14 col6\" >0.3995</td>\n",
       "                        <td id=\"T_27f7b58c_87b4_11eb_8014_acde48001122row14_col7\" class=\"data row14 col7\" >0.4349</td>\n",
       "                        <td id=\"T_27f7b58c_87b4_11eb_8014_acde48001122row14_col8\" class=\"data row14 col8\" >0.0910</td>\n",
       "            </tr>\n",
       "    </tbody></table>"
      ],
      "text/plain": [
       "<pandas.io.formats.style.Styler at 0x7fbd5147b7b8>"
      ]
     },
     "metadata": {},
     "output_type": "display_data"
    },
    {
     "data": {
      "text/plain": [
       "ExtraTreesClassifier(bootstrap=False, ccp_alpha=0.0, class_weight=None,\n",
       "                     criterion='gini', max_depth=None, max_features='auto',\n",
       "                     max_leaf_nodes=None, max_samples=None,\n",
       "                     min_impurity_decrease=0.0, min_impurity_split=None,\n",
       "                     min_samples_leaf=1, min_samples_split=2,\n",
       "                     min_weight_fraction_leaf=0.0, n_estimators=100, n_jobs=-1,\n",
       "                     oob_score=False, random_state=2002, verbose=0,\n",
       "                     warm_start=False)"
      ]
     },
     "execution_count": 107,
     "metadata": {},
     "output_type": "execute_result"
    }
   ],
   "source": [
    "#Models sorted by f1 score\n",
    "compare_models(sort = \"F1\")"
   ]
  },
  {
   "cell_type": "markdown",
   "metadata": {},
   "source": [
    "A CatBoost Classifier performed best:"
   ]
  },
  {
   "cell_type": "code",
   "execution_count": 181,
   "metadata": {},
   "outputs": [
    {
     "data": {
      "text/html": [
       "<style  type=\"text/css\" >\n",
       "#T_db7c5692_8844_11eb_a2d8_acde48001122row10_col0,#T_db7c5692_8844_11eb_a2d8_acde48001122row10_col1,#T_db7c5692_8844_11eb_a2d8_acde48001122row10_col2,#T_db7c5692_8844_11eb_a2d8_acde48001122row10_col3,#T_db7c5692_8844_11eb_a2d8_acde48001122row10_col4,#T_db7c5692_8844_11eb_a2d8_acde48001122row10_col5,#T_db7c5692_8844_11eb_a2d8_acde48001122row10_col6{\n",
       "            background:  yellow;\n",
       "        }</style><table id=\"T_db7c5692_8844_11eb_a2d8_acde48001122\" ><thead>    <tr>        <th class=\"blank level0\" ></th>        <th class=\"col_heading level0 col0\" >Accuracy</th>        <th class=\"col_heading level0 col1\" >AUC</th>        <th class=\"col_heading level0 col2\" >Recall</th>        <th class=\"col_heading level0 col3\" >Prec.</th>        <th class=\"col_heading level0 col4\" >F1</th>        <th class=\"col_heading level0 col5\" >Kappa</th>        <th class=\"col_heading level0 col6\" >MCC</th>    </tr></thead><tbody>\n",
       "                <tr>\n",
       "                        <th id=\"T_db7c5692_8844_11eb_a2d8_acde48001122level0_row0\" class=\"row_heading level0 row0\" >0</th>\n",
       "                        <td id=\"T_db7c5692_8844_11eb_a2d8_acde48001122row0_col0\" class=\"data row0 col0\" >0.8362</td>\n",
       "                        <td id=\"T_db7c5692_8844_11eb_a2d8_acde48001122row0_col1\" class=\"data row0 col1\" >0.9174</td>\n",
       "                        <td id=\"T_db7c5692_8844_11eb_a2d8_acde48001122row0_col2\" class=\"data row0 col2\" >0.8001</td>\n",
       "                        <td id=\"T_db7c5692_8844_11eb_a2d8_acde48001122row0_col3\" class=\"data row0 col3\" >0.8643</td>\n",
       "                        <td id=\"T_db7c5692_8844_11eb_a2d8_acde48001122row0_col4\" class=\"data row0 col4\" >0.8310</td>\n",
       "                        <td id=\"T_db7c5692_8844_11eb_a2d8_acde48001122row0_col5\" class=\"data row0 col5\" >0.6726</td>\n",
       "                        <td id=\"T_db7c5692_8844_11eb_a2d8_acde48001122row0_col6\" class=\"data row0 col6\" >0.6745</td>\n",
       "            </tr>\n",
       "            <tr>\n",
       "                        <th id=\"T_db7c5692_8844_11eb_a2d8_acde48001122level0_row1\" class=\"row_heading level0 row1\" >1</th>\n",
       "                        <td id=\"T_db7c5692_8844_11eb_a2d8_acde48001122row1_col0\" class=\"data row1 col0\" >0.8299</td>\n",
       "                        <td id=\"T_db7c5692_8844_11eb_a2d8_acde48001122row1_col1\" class=\"data row1 col1\" >0.9141</td>\n",
       "                        <td id=\"T_db7c5692_8844_11eb_a2d8_acde48001122row1_col2\" class=\"data row1 col2\" >0.7966</td>\n",
       "                        <td id=\"T_db7c5692_8844_11eb_a2d8_acde48001122row1_col3\" class=\"data row1 col3\" >0.8552</td>\n",
       "                        <td id=\"T_db7c5692_8844_11eb_a2d8_acde48001122row1_col4\" class=\"data row1 col4\" >0.8249</td>\n",
       "                        <td id=\"T_db7c5692_8844_11eb_a2d8_acde48001122row1_col5\" class=\"data row1 col5\" >0.6598</td>\n",
       "                        <td id=\"T_db7c5692_8844_11eb_a2d8_acde48001122row1_col6\" class=\"data row1 col6\" >0.6614</td>\n",
       "            </tr>\n",
       "            <tr>\n",
       "                        <th id=\"T_db7c5692_8844_11eb_a2d8_acde48001122level0_row2\" class=\"row_heading level0 row2\" >2</th>\n",
       "                        <td id=\"T_db7c5692_8844_11eb_a2d8_acde48001122row2_col0\" class=\"data row2 col0\" >0.8337</td>\n",
       "                        <td id=\"T_db7c5692_8844_11eb_a2d8_acde48001122row2_col1\" class=\"data row2 col1\" >0.9109</td>\n",
       "                        <td id=\"T_db7c5692_8844_11eb_a2d8_acde48001122row2_col2\" class=\"data row2 col2\" >0.7924</td>\n",
       "                        <td id=\"T_db7c5692_8844_11eb_a2d8_acde48001122row2_col3\" class=\"data row2 col3\" >0.8656</td>\n",
       "                        <td id=\"T_db7c5692_8844_11eb_a2d8_acde48001122row2_col4\" class=\"data row2 col4\" >0.8274</td>\n",
       "                        <td id=\"T_db7c5692_8844_11eb_a2d8_acde48001122row2_col5\" class=\"data row2 col5\" >0.6676</td>\n",
       "                        <td id=\"T_db7c5692_8844_11eb_a2d8_acde48001122row2_col6\" class=\"data row2 col6\" >0.6700</td>\n",
       "            </tr>\n",
       "            <tr>\n",
       "                        <th id=\"T_db7c5692_8844_11eb_a2d8_acde48001122level0_row3\" class=\"row_heading level0 row3\" >3</th>\n",
       "                        <td id=\"T_db7c5692_8844_11eb_a2d8_acde48001122row3_col0\" class=\"data row3 col0\" >0.8339</td>\n",
       "                        <td id=\"T_db7c5692_8844_11eb_a2d8_acde48001122row3_col1\" class=\"data row3 col1\" >0.9138</td>\n",
       "                        <td id=\"T_db7c5692_8844_11eb_a2d8_acde48001122row3_col2\" class=\"data row3 col2\" >0.7941</td>\n",
       "                        <td id=\"T_db7c5692_8844_11eb_a2d8_acde48001122row3_col3\" class=\"data row3 col3\" >0.8646</td>\n",
       "                        <td id=\"T_db7c5692_8844_11eb_a2d8_acde48001122row3_col4\" class=\"data row3 col4\" >0.8279</td>\n",
       "                        <td id=\"T_db7c5692_8844_11eb_a2d8_acde48001122row3_col5\" class=\"data row3 col5\" >0.6679</td>\n",
       "                        <td id=\"T_db7c5692_8844_11eb_a2d8_acde48001122row3_col6\" class=\"data row3 col6\" >0.6702</td>\n",
       "            </tr>\n",
       "            <tr>\n",
       "                        <th id=\"T_db7c5692_8844_11eb_a2d8_acde48001122level0_row4\" class=\"row_heading level0 row4\" >4</th>\n",
       "                        <td id=\"T_db7c5692_8844_11eb_a2d8_acde48001122row4_col0\" class=\"data row4 col0\" >0.8296</td>\n",
       "                        <td id=\"T_db7c5692_8844_11eb_a2d8_acde48001122row4_col1\" class=\"data row4 col1\" >0.9110</td>\n",
       "                        <td id=\"T_db7c5692_8844_11eb_a2d8_acde48001122row4_col2\" class=\"data row4 col2\" >0.7885</td>\n",
       "                        <td id=\"T_db7c5692_8844_11eb_a2d8_acde48001122row4_col3\" class=\"data row4 col3\" >0.8610</td>\n",
       "                        <td id=\"T_db7c5692_8844_11eb_a2d8_acde48001122row4_col4\" class=\"data row4 col4\" >0.8232</td>\n",
       "                        <td id=\"T_db7c5692_8844_11eb_a2d8_acde48001122row4_col5\" class=\"data row4 col5\" >0.6593</td>\n",
       "                        <td id=\"T_db7c5692_8844_11eb_a2d8_acde48001122row4_col6\" class=\"data row4 col6\" >0.6617</td>\n",
       "            </tr>\n",
       "            <tr>\n",
       "                        <th id=\"T_db7c5692_8844_11eb_a2d8_acde48001122level0_row5\" class=\"row_heading level0 row5\" >5</th>\n",
       "                        <td id=\"T_db7c5692_8844_11eb_a2d8_acde48001122row5_col0\" class=\"data row5 col0\" >0.8335</td>\n",
       "                        <td id=\"T_db7c5692_8844_11eb_a2d8_acde48001122row5_col1\" class=\"data row5 col1\" >0.9148</td>\n",
       "                        <td id=\"T_db7c5692_8844_11eb_a2d8_acde48001122row5_col2\" class=\"data row5 col2\" >0.7945</td>\n",
       "                        <td id=\"T_db7c5692_8844_11eb_a2d8_acde48001122row5_col3\" class=\"data row5 col3\" >0.8636</td>\n",
       "                        <td id=\"T_db7c5692_8844_11eb_a2d8_acde48001122row5_col4\" class=\"data row5 col4\" >0.8276</td>\n",
       "                        <td id=\"T_db7c5692_8844_11eb_a2d8_acde48001122row5_col5\" class=\"data row5 col5\" >0.6672</td>\n",
       "                        <td id=\"T_db7c5692_8844_11eb_a2d8_acde48001122row5_col6\" class=\"data row5 col6\" >0.6694</td>\n",
       "            </tr>\n",
       "            <tr>\n",
       "                        <th id=\"T_db7c5692_8844_11eb_a2d8_acde48001122level0_row6\" class=\"row_heading level0 row6\" >6</th>\n",
       "                        <td id=\"T_db7c5692_8844_11eb_a2d8_acde48001122row6_col0\" class=\"data row6 col0\" >0.8353</td>\n",
       "                        <td id=\"T_db7c5692_8844_11eb_a2d8_acde48001122row6_col1\" class=\"data row6 col1\" >0.9132</td>\n",
       "                        <td id=\"T_db7c5692_8844_11eb_a2d8_acde48001122row6_col2\" class=\"data row6 col2\" >0.7941</td>\n",
       "                        <td id=\"T_db7c5692_8844_11eb_a2d8_acde48001122row6_col3\" class=\"data row6 col3\" >0.8672</td>\n",
       "                        <td id=\"T_db7c5692_8844_11eb_a2d8_acde48001122row6_col4\" class=\"data row6 col4\" >0.8291</td>\n",
       "                        <td id=\"T_db7c5692_8844_11eb_a2d8_acde48001122row6_col5\" class=\"data row6 col5\" >0.6707</td>\n",
       "                        <td id=\"T_db7c5692_8844_11eb_a2d8_acde48001122row6_col6\" class=\"data row6 col6\" >0.6732</td>\n",
       "            </tr>\n",
       "            <tr>\n",
       "                        <th id=\"T_db7c5692_8844_11eb_a2d8_acde48001122level0_row7\" class=\"row_heading level0 row7\" >7</th>\n",
       "                        <td id=\"T_db7c5692_8844_11eb_a2d8_acde48001122row7_col0\" class=\"data row7 col0\" >0.8322</td>\n",
       "                        <td id=\"T_db7c5692_8844_11eb_a2d8_acde48001122row7_col1\" class=\"data row7 col1\" >0.9101</td>\n",
       "                        <td id=\"T_db7c5692_8844_11eb_a2d8_acde48001122row7_col2\" class=\"data row7 col2\" >0.7883</td>\n",
       "                        <td id=\"T_db7c5692_8844_11eb_a2d8_acde48001122row7_col3\" class=\"data row7 col3\" >0.8660</td>\n",
       "                        <td id=\"T_db7c5692_8844_11eb_a2d8_acde48001122row7_col4\" class=\"data row7 col4\" >0.8253</td>\n",
       "                        <td id=\"T_db7c5692_8844_11eb_a2d8_acde48001122row7_col5\" class=\"data row7 col5\" >0.6645</td>\n",
       "                        <td id=\"T_db7c5692_8844_11eb_a2d8_acde48001122row7_col6\" class=\"data row7 col6\" >0.6673</td>\n",
       "            </tr>\n",
       "            <tr>\n",
       "                        <th id=\"T_db7c5692_8844_11eb_a2d8_acde48001122level0_row8\" class=\"row_heading level0 row8\" >8</th>\n",
       "                        <td id=\"T_db7c5692_8844_11eb_a2d8_acde48001122row8_col0\" class=\"data row8 col0\" >0.8414</td>\n",
       "                        <td id=\"T_db7c5692_8844_11eb_a2d8_acde48001122row8_col1\" class=\"data row8 col1\" >0.9194</td>\n",
       "                        <td id=\"T_db7c5692_8844_11eb_a2d8_acde48001122row8_col2\" class=\"data row8 col2\" >0.8104</td>\n",
       "                        <td id=\"T_db7c5692_8844_11eb_a2d8_acde48001122row8_col3\" class=\"data row8 col3\" >0.8657</td>\n",
       "                        <td id=\"T_db7c5692_8844_11eb_a2d8_acde48001122row8_col4\" class=\"data row8 col4\" >0.8371</td>\n",
       "                        <td id=\"T_db7c5692_8844_11eb_a2d8_acde48001122row8_col5\" class=\"data row8 col5\" >0.6829</td>\n",
       "                        <td id=\"T_db7c5692_8844_11eb_a2d8_acde48001122row8_col6\" class=\"data row8 col6\" >0.6843</td>\n",
       "            </tr>\n",
       "            <tr>\n",
       "                        <th id=\"T_db7c5692_8844_11eb_a2d8_acde48001122level0_row9\" class=\"row_heading level0 row9\" >9</th>\n",
       "                        <td id=\"T_db7c5692_8844_11eb_a2d8_acde48001122row9_col0\" class=\"data row9 col0\" >0.8401</td>\n",
       "                        <td id=\"T_db7c5692_8844_11eb_a2d8_acde48001122row9_col1\" class=\"data row9 col1\" >0.9126</td>\n",
       "                        <td id=\"T_db7c5692_8844_11eb_a2d8_acde48001122row9_col2\" class=\"data row9 col2\" >0.7962</td>\n",
       "                        <td id=\"T_db7c5692_8844_11eb_a2d8_acde48001122row9_col3\" class=\"data row9 col3\" >0.8747</td>\n",
       "                        <td id=\"T_db7c5692_8844_11eb_a2d8_acde48001122row9_col4\" class=\"data row9 col4\" >0.8336</td>\n",
       "                        <td id=\"T_db7c5692_8844_11eb_a2d8_acde48001122row9_col5\" class=\"data row9 col5\" >0.6803</td>\n",
       "                        <td id=\"T_db7c5692_8844_11eb_a2d8_acde48001122row9_col6\" class=\"data row9 col6\" >0.6831</td>\n",
       "            </tr>\n",
       "            <tr>\n",
       "                        <th id=\"T_db7c5692_8844_11eb_a2d8_acde48001122level0_row10\" class=\"row_heading level0 row10\" >Mean</th>\n",
       "                        <td id=\"T_db7c5692_8844_11eb_a2d8_acde48001122row10_col0\" class=\"data row10 col0\" >0.8346</td>\n",
       "                        <td id=\"T_db7c5692_8844_11eb_a2d8_acde48001122row10_col1\" class=\"data row10 col1\" >0.9137</td>\n",
       "                        <td id=\"T_db7c5692_8844_11eb_a2d8_acde48001122row10_col2\" class=\"data row10 col2\" >0.7955</td>\n",
       "                        <td id=\"T_db7c5692_8844_11eb_a2d8_acde48001122row10_col3\" class=\"data row10 col3\" >0.8648</td>\n",
       "                        <td id=\"T_db7c5692_8844_11eb_a2d8_acde48001122row10_col4\" class=\"data row10 col4\" >0.8287</td>\n",
       "                        <td id=\"T_db7c5692_8844_11eb_a2d8_acde48001122row10_col5\" class=\"data row10 col5\" >0.6693</td>\n",
       "                        <td id=\"T_db7c5692_8844_11eb_a2d8_acde48001122row10_col6\" class=\"data row10 col6\" >0.6715</td>\n",
       "            </tr>\n",
       "            <tr>\n",
       "                        <th id=\"T_db7c5692_8844_11eb_a2d8_acde48001122level0_row11\" class=\"row_heading level0 row11\" >SD</th>\n",
       "                        <td id=\"T_db7c5692_8844_11eb_a2d8_acde48001122row11_col0\" class=\"data row11 col0\" >0.0037</td>\n",
       "                        <td id=\"T_db7c5692_8844_11eb_a2d8_acde48001122row11_col1\" class=\"data row11 col1\" >0.0028</td>\n",
       "                        <td id=\"T_db7c5692_8844_11eb_a2d8_acde48001122row11_col2\" class=\"data row11 col2\" >0.0060</td>\n",
       "                        <td id=\"T_db7c5692_8844_11eb_a2d8_acde48001122row11_col3\" class=\"data row11 col3\" >0.0046</td>\n",
       "                        <td id=\"T_db7c5692_8844_11eb_a2d8_acde48001122row11_col4\" class=\"data row11 col4\" >0.0040</td>\n",
       "                        <td id=\"T_db7c5692_8844_11eb_a2d8_acde48001122row11_col5\" class=\"data row11 col5\" >0.0074</td>\n",
       "                        <td id=\"T_db7c5692_8844_11eb_a2d8_acde48001122row11_col6\" class=\"data row11 col6\" >0.0073</td>\n",
       "            </tr>\n",
       "    </tbody></table>"
      ],
      "text/plain": [
       "<pandas.io.formats.style.Styler at 0x7fbf9c75d6a0>"
      ]
     },
     "metadata": {},
     "output_type": "display_data"
    }
   ],
   "source": [
    "#sorted by accuracy, each row corresponds to a cross validation\n",
    "#https://pycaret.readthedocs.io/en/latest/api/classification.html?highlight=create_model#pycaret.classification.create_model\n",
    "et = create_model(\"et\") # Create the catboost classifier"
   ]
  },
  {
   "cell_type": "markdown",
   "metadata": {
    "id": "FA6MN9WjWkrS"
   },
   "source": [
    "A gradient boosting classifier was decided upon."
   ]
  },
  {
   "cell_type": "code",
   "execution_count": 182,
   "metadata": {},
   "outputs": [
    {
     "data": {
      "text/html": [
       "<style  type=\"text/css\" >\n",
       "</style><table id=\"T_feba9588_8844_11eb_bee2_acde48001122\" ><thead>    <tr>        <th class=\"blank level0\" ></th>        <th class=\"col_heading level0 col0\" >Model</th>        <th class=\"col_heading level0 col1\" >Accuracy</th>        <th class=\"col_heading level0 col2\" >AUC</th>        <th class=\"col_heading level0 col3\" >Recall</th>        <th class=\"col_heading level0 col4\" >Prec.</th>        <th class=\"col_heading level0 col5\" >F1</th>        <th class=\"col_heading level0 col6\" >Kappa</th>        <th class=\"col_heading level0 col7\" >MCC</th>    </tr></thead><tbody>\n",
       "                <tr>\n",
       "                        <th id=\"T_feba9588_8844_11eb_bee2_acde48001122level0_row0\" class=\"row_heading level0 row0\" >0</th>\n",
       "                        <td id=\"T_feba9588_8844_11eb_bee2_acde48001122row0_col0\" class=\"data row0 col0\" >Extra Trees Classifier</td>\n",
       "                        <td id=\"T_feba9588_8844_11eb_bee2_acde48001122row0_col1\" class=\"data row0 col1\" >0.7634</td>\n",
       "                        <td id=\"T_feba9588_8844_11eb_bee2_acde48001122row0_col2\" class=\"data row0 col2\" >0.7188</td>\n",
       "                        <td id=\"T_feba9588_8844_11eb_bee2_acde48001122row0_col3\" class=\"data row0 col3\" >0.3134</td>\n",
       "                        <td id=\"T_feba9588_8844_11eb_bee2_acde48001122row0_col4\" class=\"data row0 col4\" >0.3869</td>\n",
       "                        <td id=\"T_feba9588_8844_11eb_bee2_acde48001122row0_col5\" class=\"data row0 col5\" >0.3463</td>\n",
       "                        <td id=\"T_feba9588_8844_11eb_bee2_acde48001122row0_col6\" class=\"data row0 col6\" >0.2038</td>\n",
       "                        <td id=\"T_feba9588_8844_11eb_bee2_acde48001122row0_col7\" class=\"data row0 col7\" >0.2054</td>\n",
       "            </tr>\n",
       "    </tbody></table>"
      ],
      "text/plain": [
       "<pandas.io.formats.style.Styler at 0x7fbf9c893ba8>"
      ]
     },
     "metadata": {},
     "output_type": "display_data"
    }
   ],
   "source": [
    "pred_holdout = predict_model(et)"
   ]
  },
  {
   "cell_type": "code",
   "execution_count": 117,
   "metadata": {},
   "outputs": [
    {
     "data": {
      "text/html": [
       "<style  type=\"text/css\" >\n",
       "#T_85299046_87f6_11eb_878e_acde48001122row10_col0,#T_85299046_87f6_11eb_878e_acde48001122row10_col1,#T_85299046_87f6_11eb_878e_acde48001122row10_col2,#T_85299046_87f6_11eb_878e_acde48001122row10_col3,#T_85299046_87f6_11eb_878e_acde48001122row10_col4,#T_85299046_87f6_11eb_878e_acde48001122row10_col5,#T_85299046_87f6_11eb_878e_acde48001122row10_col6{\n",
       "            background:  yellow;\n",
       "        }</style><table id=\"T_85299046_87f6_11eb_878e_acde48001122\" ><thead>    <tr>        <th class=\"blank level0\" ></th>        <th class=\"col_heading level0 col0\" >Accuracy</th>        <th class=\"col_heading level0 col1\" >AUC</th>        <th class=\"col_heading level0 col2\" >Recall</th>        <th class=\"col_heading level0 col3\" >Prec.</th>        <th class=\"col_heading level0 col4\" >F1</th>        <th class=\"col_heading level0 col5\" >Kappa</th>        <th class=\"col_heading level0 col6\" >MCC</th>    </tr></thead><tbody>\n",
       "                <tr>\n",
       "                        <th id=\"T_85299046_87f6_11eb_878e_acde48001122level0_row0\" class=\"row_heading level0 row0\" >0</th>\n",
       "                        <td id=\"T_85299046_87f6_11eb_878e_acde48001122row0_col0\" class=\"data row0 col0\" >0.5345</td>\n",
       "                        <td id=\"T_85299046_87f6_11eb_878e_acde48001122row0_col1\" class=\"data row0 col1\" >0.7280</td>\n",
       "                        <td id=\"T_85299046_87f6_11eb_878e_acde48001122row0_col2\" class=\"data row0 col2\" >0.1122</td>\n",
       "                        <td id=\"T_85299046_87f6_11eb_878e_acde48001122row0_col3\" class=\"data row0 col3\" >0.7491</td>\n",
       "                        <td id=\"T_85299046_87f6_11eb_878e_acde48001122row0_col4\" class=\"data row0 col4\" >0.1952</td>\n",
       "                        <td id=\"T_85299046_87f6_11eb_878e_acde48001122row0_col5\" class=\"data row0 col5\" >0.0738</td>\n",
       "                        <td id=\"T_85299046_87f6_11eb_878e_acde48001122row0_col6\" class=\"data row0 col6\" >0.1405</td>\n",
       "            </tr>\n",
       "            <tr>\n",
       "                        <th id=\"T_85299046_87f6_11eb_878e_acde48001122level0_row1\" class=\"row_heading level0 row1\" >1</th>\n",
       "                        <td id=\"T_85299046_87f6_11eb_878e_acde48001122row1_col0\" class=\"data row1 col0\" >0.5356</td>\n",
       "                        <td id=\"T_85299046_87f6_11eb_878e_acde48001122row1_col1\" class=\"data row1 col1\" >0.7333</td>\n",
       "                        <td id=\"T_85299046_87f6_11eb_878e_acde48001122row1_col2\" class=\"data row1 col2\" >0.1133</td>\n",
       "                        <td id=\"T_85299046_87f6_11eb_878e_acde48001122row1_col3\" class=\"data row1 col3\" >0.7556</td>\n",
       "                        <td id=\"T_85299046_87f6_11eb_878e_acde48001122row1_col4\" class=\"data row1 col4\" >0.1971</td>\n",
       "                        <td id=\"T_85299046_87f6_11eb_878e_acde48001122row1_col5\" class=\"data row1 col5\" >0.0758</td>\n",
       "                        <td id=\"T_85299046_87f6_11eb_878e_acde48001122row1_col6\" class=\"data row1 col6\" >0.1443</td>\n",
       "            </tr>\n",
       "            <tr>\n",
       "                        <th id=\"T_85299046_87f6_11eb_878e_acde48001122level0_row2\" class=\"row_heading level0 row2\" >2</th>\n",
       "                        <td id=\"T_85299046_87f6_11eb_878e_acde48001122row2_col0\" class=\"data row2 col0\" >0.7434</td>\n",
       "                        <td id=\"T_85299046_87f6_11eb_878e_acde48001122row2_col1\" class=\"data row2 col1\" >0.8596</td>\n",
       "                        <td id=\"T_85299046_87f6_11eb_878e_acde48001122row2_col2\" class=\"data row2 col2\" >0.5357</td>\n",
       "                        <td id=\"T_85299046_87f6_11eb_878e_acde48001122row2_col3\" class=\"data row2 col3\" >0.9212</td>\n",
       "                        <td id=\"T_85299046_87f6_11eb_878e_acde48001122row2_col4\" class=\"data row2 col4\" >0.6775</td>\n",
       "                        <td id=\"T_85299046_87f6_11eb_878e_acde48001122row2_col5\" class=\"data row2 col5\" >0.4881</td>\n",
       "                        <td id=\"T_85299046_87f6_11eb_878e_acde48001122row2_col6\" class=\"data row2 col6\" >0.5378</td>\n",
       "            </tr>\n",
       "            <tr>\n",
       "                        <th id=\"T_85299046_87f6_11eb_878e_acde48001122level0_row3\" class=\"row_heading level0 row3\" >3</th>\n",
       "                        <td id=\"T_85299046_87f6_11eb_878e_acde48001122row3_col0\" class=\"data row3 col0\" >0.9424</td>\n",
       "                        <td id=\"T_85299046_87f6_11eb_878e_acde48001122row3_col1\" class=\"data row3 col1\" >0.9895</td>\n",
       "                        <td id=\"T_85299046_87f6_11eb_878e_acde48001122row3_col2\" class=\"data row3 col2\" >0.9568</td>\n",
       "                        <td id=\"T_85299046_87f6_11eb_878e_acde48001122row3_col3\" class=\"data row3 col3\" >0.9307</td>\n",
       "                        <td id=\"T_85299046_87f6_11eb_878e_acde48001122row3_col4\" class=\"data row3 col4\" >0.9436</td>\n",
       "                        <td id=\"T_85299046_87f6_11eb_878e_acde48001122row3_col5\" class=\"data row3 col5\" >0.8849</td>\n",
       "                        <td id=\"T_85299046_87f6_11eb_878e_acde48001122row3_col6\" class=\"data row3 col6\" >0.8852</td>\n",
       "            </tr>\n",
       "            <tr>\n",
       "                        <th id=\"T_85299046_87f6_11eb_878e_acde48001122level0_row4\" class=\"row_heading level0 row4\" >4</th>\n",
       "                        <td id=\"T_85299046_87f6_11eb_878e_acde48001122row4_col0\" class=\"data row4 col0\" >0.9437</td>\n",
       "                        <td id=\"T_85299046_87f6_11eb_878e_acde48001122row4_col1\" class=\"data row4 col1\" >0.9907</td>\n",
       "                        <td id=\"T_85299046_87f6_11eb_878e_acde48001122row4_col2\" class=\"data row4 col2\" >0.9632</td>\n",
       "                        <td id=\"T_85299046_87f6_11eb_878e_acde48001122row4_col3\" class=\"data row4 col3\" >0.9276</td>\n",
       "                        <td id=\"T_85299046_87f6_11eb_878e_acde48001122row4_col4\" class=\"data row4 col4\" >0.9451</td>\n",
       "                        <td id=\"T_85299046_87f6_11eb_878e_acde48001122row4_col5\" class=\"data row4 col5\" >0.8873</td>\n",
       "                        <td id=\"T_85299046_87f6_11eb_878e_acde48001122row4_col6\" class=\"data row4 col6\" >0.8880</td>\n",
       "            </tr>\n",
       "            <tr>\n",
       "                        <th id=\"T_85299046_87f6_11eb_878e_acde48001122level0_row5\" class=\"row_heading level0 row5\" >5</th>\n",
       "                        <td id=\"T_85299046_87f6_11eb_878e_acde48001122row5_col0\" class=\"data row5 col0\" >0.9470</td>\n",
       "                        <td id=\"T_85299046_87f6_11eb_878e_acde48001122row5_col1\" class=\"data row5 col1\" >0.9907</td>\n",
       "                        <td id=\"T_85299046_87f6_11eb_878e_acde48001122row5_col2\" class=\"data row5 col2\" >0.9619</td>\n",
       "                        <td id=\"T_85299046_87f6_11eb_878e_acde48001122row5_col3\" class=\"data row5 col3\" >0.9346</td>\n",
       "                        <td id=\"T_85299046_87f6_11eb_878e_acde48001122row5_col4\" class=\"data row5 col4\" >0.9480</td>\n",
       "                        <td id=\"T_85299046_87f6_11eb_878e_acde48001122row5_col5\" class=\"data row5 col5\" >0.8939</td>\n",
       "                        <td id=\"T_85299046_87f6_11eb_878e_acde48001122row5_col6\" class=\"data row5 col6\" >0.8943</td>\n",
       "            </tr>\n",
       "            <tr>\n",
       "                        <th id=\"T_85299046_87f6_11eb_878e_acde48001122level0_row6\" class=\"row_heading level0 row6\" >6</th>\n",
       "                        <td id=\"T_85299046_87f6_11eb_878e_acde48001122row6_col0\" class=\"data row6 col0\" >0.9471</td>\n",
       "                        <td id=\"T_85299046_87f6_11eb_878e_acde48001122row6_col1\" class=\"data row6 col1\" >0.9904</td>\n",
       "                        <td id=\"T_85299046_87f6_11eb_878e_acde48001122row6_col2\" class=\"data row6 col2\" >0.9630</td>\n",
       "                        <td id=\"T_85299046_87f6_11eb_878e_acde48001122row6_col3\" class=\"data row6 col3\" >0.9340</td>\n",
       "                        <td id=\"T_85299046_87f6_11eb_878e_acde48001122row6_col4\" class=\"data row6 col4\" >0.9483</td>\n",
       "                        <td id=\"T_85299046_87f6_11eb_878e_acde48001122row6_col5\" class=\"data row6 col5\" >0.8942</td>\n",
       "                        <td id=\"T_85299046_87f6_11eb_878e_acde48001122row6_col6\" class=\"data row6 col6\" >0.8947</td>\n",
       "            </tr>\n",
       "            <tr>\n",
       "                        <th id=\"T_85299046_87f6_11eb_878e_acde48001122level0_row7\" class=\"row_heading level0 row7\" >7</th>\n",
       "                        <td id=\"T_85299046_87f6_11eb_878e_acde48001122row7_col0\" class=\"data row7 col0\" >0.9408</td>\n",
       "                        <td id=\"T_85299046_87f6_11eb_878e_acde48001122row7_col1\" class=\"data row7 col1\" >0.9891</td>\n",
       "                        <td id=\"T_85299046_87f6_11eb_878e_acde48001122row7_col2\" class=\"data row7 col2\" >0.9583</td>\n",
       "                        <td id=\"T_85299046_87f6_11eb_878e_acde48001122row7_col3\" class=\"data row7 col3\" >0.9266</td>\n",
       "                        <td id=\"T_85299046_87f6_11eb_878e_acde48001122row7_col4\" class=\"data row7 col4\" >0.9422</td>\n",
       "                        <td id=\"T_85299046_87f6_11eb_878e_acde48001122row7_col5\" class=\"data row7 col5\" >0.8816</td>\n",
       "                        <td id=\"T_85299046_87f6_11eb_878e_acde48001122row7_col6\" class=\"data row7 col6\" >0.8822</td>\n",
       "            </tr>\n",
       "            <tr>\n",
       "                        <th id=\"T_85299046_87f6_11eb_878e_acde48001122level0_row8\" class=\"row_heading level0 row8\" >8</th>\n",
       "                        <td id=\"T_85299046_87f6_11eb_878e_acde48001122row8_col0\" class=\"data row8 col0\" >0.9412</td>\n",
       "                        <td id=\"T_85299046_87f6_11eb_878e_acde48001122row8_col1\" class=\"data row8 col1\" >0.9889</td>\n",
       "                        <td id=\"T_85299046_87f6_11eb_878e_acde48001122row8_col2\" class=\"data row8 col2\" >0.9562</td>\n",
       "                        <td id=\"T_85299046_87f6_11eb_878e_acde48001122row8_col3\" class=\"data row8 col3\" >0.9290</td>\n",
       "                        <td id=\"T_85299046_87f6_11eb_878e_acde48001122row8_col4\" class=\"data row8 col4\" >0.9424</td>\n",
       "                        <td id=\"T_85299046_87f6_11eb_878e_acde48001122row8_col5\" class=\"data row8 col5\" >0.8824</td>\n",
       "                        <td id=\"T_85299046_87f6_11eb_878e_acde48001122row8_col6\" class=\"data row8 col6\" >0.8828</td>\n",
       "            </tr>\n",
       "            <tr>\n",
       "                        <th id=\"T_85299046_87f6_11eb_878e_acde48001122level0_row9\" class=\"row_heading level0 row9\" >9</th>\n",
       "                        <td id=\"T_85299046_87f6_11eb_878e_acde48001122row9_col0\" class=\"data row9 col0\" >0.9441</td>\n",
       "                        <td id=\"T_85299046_87f6_11eb_878e_acde48001122row9_col1\" class=\"data row9 col1\" >0.9896</td>\n",
       "                        <td id=\"T_85299046_87f6_11eb_878e_acde48001122row9_col2\" class=\"data row9 col2\" >0.9577</td>\n",
       "                        <td id=\"T_85299046_87f6_11eb_878e_acde48001122row9_col3\" class=\"data row9 col3\" >0.9330</td>\n",
       "                        <td id=\"T_85299046_87f6_11eb_878e_acde48001122row9_col4\" class=\"data row9 col4\" >0.9452</td>\n",
       "                        <td id=\"T_85299046_87f6_11eb_878e_acde48001122row9_col5\" class=\"data row9 col5\" >0.8882</td>\n",
       "                        <td id=\"T_85299046_87f6_11eb_878e_acde48001122row9_col6\" class=\"data row9 col6\" >0.8885</td>\n",
       "            </tr>\n",
       "            <tr>\n",
       "                        <th id=\"T_85299046_87f6_11eb_878e_acde48001122level0_row10\" class=\"row_heading level0 row10\" >Mean</th>\n",
       "                        <td id=\"T_85299046_87f6_11eb_878e_acde48001122row10_col0\" class=\"data row10 col0\" >0.8420</td>\n",
       "                        <td id=\"T_85299046_87f6_11eb_878e_acde48001122row10_col1\" class=\"data row10 col1\" >0.9250</td>\n",
       "                        <td id=\"T_85299046_87f6_11eb_878e_acde48001122row10_col2\" class=\"data row10 col2\" >0.7478</td>\n",
       "                        <td id=\"T_85299046_87f6_11eb_878e_acde48001122row10_col3\" class=\"data row10 col3\" >0.8941</td>\n",
       "                        <td id=\"T_85299046_87f6_11eb_878e_acde48001122row10_col4\" class=\"data row10 col4\" >0.7684</td>\n",
       "                        <td id=\"T_85299046_87f6_11eb_878e_acde48001122row10_col5\" class=\"data row10 col5\" >0.6850</td>\n",
       "                        <td id=\"T_85299046_87f6_11eb_878e_acde48001122row10_col6\" class=\"data row10 col6\" >0.7038</td>\n",
       "            </tr>\n",
       "            <tr>\n",
       "                        <th id=\"T_85299046_87f6_11eb_878e_acde48001122level0_row11\" class=\"row_heading level0 row11\" >SD</th>\n",
       "                        <td id=\"T_85299046_87f6_11eb_878e_acde48001122row11_col0\" class=\"data row11 col0\" >0.1645</td>\n",
       "                        <td id=\"T_85299046_87f6_11eb_878e_acde48001122row11_col1\" class=\"data row11 col1\" >0.1045</td>\n",
       "                        <td id=\"T_85299046_87f6_11eb_878e_acde48001122row11_col2\" class=\"data row11 col2\" >0.3414</td>\n",
       "                        <td id=\"T_85299046_87f6_11eb_878e_acde48001122row11_col3\" class=\"data row11 col3\" >0.0710</td>\n",
       "                        <td id=\"T_85299046_87f6_11eb_878e_acde48001122row11_col4\" class=\"data row11 col4\" >0.2969</td>\n",
       "                        <td id=\"T_85299046_87f6_11eb_878e_acde48001122row11_col5\" class=\"data row11 col5\" >0.3272</td>\n",
       "                        <td id=\"T_85299046_87f6_11eb_878e_acde48001122row11_col6\" class=\"data row11 col6\" >0.2992</td>\n",
       "            </tr>\n",
       "    </tbody></table>"
      ],
      "text/plain": [
       "<pandas.io.formats.style.Styler at 0x7fbd57956898>"
      ]
     },
     "metadata": {},
     "output_type": "display_data"
    }
   ],
   "source": [
    "synth_catboost = create_model(\"catboost\")"
   ]
  },
  {
   "cell_type": "code",
   "execution_count": 121,
   "metadata": {},
   "outputs": [
    {
     "data": {
      "text/html": [
       "<style  type=\"text/css\" >\n",
       "</style><table id=\"T_7e4ec450_8835_11eb_ae92_acde48001122\" ><thead>    <tr>        <th class=\"blank level0\" ></th>        <th class=\"col_heading level0 col0\" >Model</th>        <th class=\"col_heading level0 col1\" >Accuracy</th>        <th class=\"col_heading level0 col2\" >AUC</th>        <th class=\"col_heading level0 col3\" >Recall</th>        <th class=\"col_heading level0 col4\" >Prec.</th>        <th class=\"col_heading level0 col5\" >F1</th>        <th class=\"col_heading level0 col6\" >Kappa</th>        <th class=\"col_heading level0 col7\" >MCC</th>    </tr></thead><tbody>\n",
       "                <tr>\n",
       "                        <th id=\"T_7e4ec450_8835_11eb_ae92_acde48001122level0_row0\" class=\"row_heading level0 row0\" >0</th>\n",
       "                        <td id=\"T_7e4ec450_8835_11eb_ae92_acde48001122row0_col0\" class=\"data row0 col0\" >CatBoost Classifier</td>\n",
       "                        <td id=\"T_7e4ec450_8835_11eb_ae92_acde48001122row0_col1\" class=\"data row0 col1\" >0.7892</td>\n",
       "                        <td id=\"T_7e4ec450_8835_11eb_ae92_acde48001122row0_col2\" class=\"data row0 col2\" >0.7393</td>\n",
       "                        <td id=\"T_7e4ec450_8835_11eb_ae92_acde48001122row0_col3\" class=\"data row0 col3\" >0.1798</td>\n",
       "                        <td id=\"T_7e4ec450_8835_11eb_ae92_acde48001122row0_col4\" class=\"data row0 col4\" >0.4345</td>\n",
       "                        <td id=\"T_7e4ec450_8835_11eb_ae92_acde48001122row0_col5\" class=\"data row0 col5\" >0.2544</td>\n",
       "                        <td id=\"T_7e4ec450_8835_11eb_ae92_acde48001122row0_col6\" class=\"data row0 col6\" >0.1555</td>\n",
       "                        <td id=\"T_7e4ec450_8835_11eb_ae92_acde48001122row0_col7\" class=\"data row0 col7\" >0.1761</td>\n",
       "            </tr>\n",
       "    </tbody></table>"
      ],
      "text/plain": [
       "<pandas.io.formats.style.Styler at 0x7fbd5a9e5c88>"
      ]
     },
     "metadata": {},
     "output_type": "display_data"
    }
   ],
   "source": [
    "pred_holdout = predict_model(synth_catboost)"
   ]
  },
  {
   "cell_type": "code",
   "execution_count": 128,
   "metadata": {},
   "outputs": [
    {
     "data": {
      "text/html": [
       "<div>\n",
       "<style scoped>\n",
       "    .dataframe tbody tr th:only-of-type {\n",
       "        vertical-align: middle;\n",
       "    }\n",
       "\n",
       "    .dataframe tbody tr th {\n",
       "        vertical-align: top;\n",
       "    }\n",
       "\n",
       "    .dataframe thead th {\n",
       "        text-align: right;\n",
       "    }\n",
       "</style>\n",
       "<table border=\"1\" class=\"dataframe\">\n",
       "  <thead>\n",
       "    <tr style=\"text-align: right;\">\n",
       "      <th></th>\n",
       "      <th>PatientId</th>\n",
       "      <th>AppointmentID</th>\n",
       "      <th>Gender</th>\n",
       "      <th>Age</th>\n",
       "      <th>Neighbourhood</th>\n",
       "      <th>Scholarship</th>\n",
       "      <th>Hipertension</th>\n",
       "      <th>Diabetes</th>\n",
       "      <th>Alcoholism</th>\n",
       "      <th>Handicap</th>\n",
       "      <th>...</th>\n",
       "      <th>Appointment_day_name</th>\n",
       "      <th>Register_year</th>\n",
       "      <th>Register_month</th>\n",
       "      <th>Register_day</th>\n",
       "      <th>Register_day_name</th>\n",
       "      <th>Register_hour</th>\n",
       "      <th>waiting_time</th>\n",
       "      <th>No-show</th>\n",
       "      <th>Label</th>\n",
       "      <th>Score</th>\n",
       "    </tr>\n",
       "  </thead>\n",
       "  <tbody>\n",
       "    <tr>\n",
       "      <th>84674</th>\n",
       "      <td>2.759575e+13</td>\n",
       "      <td>5756417</td>\n",
       "      <td>F</td>\n",
       "      <td>20</td>\n",
       "      <td>ILHA DAS CAIEIRAS</td>\n",
       "      <td>0</td>\n",
       "      <td>0</td>\n",
       "      <td>0</td>\n",
       "      <td>0</td>\n",
       "      <td>0</td>\n",
       "      <td>...</td>\n",
       "      <td>Wednesday</td>\n",
       "      <td>2016</td>\n",
       "      <td>6</td>\n",
       "      <td>1</td>\n",
       "      <td>Wednesday</td>\n",
       "      <td>8</td>\n",
       "      <td>-1</td>\n",
       "      <td>No</td>\n",
       "      <td>No</td>\n",
       "      <td>0.9285</td>\n",
       "    </tr>\n",
       "    <tr>\n",
       "      <th>3635</th>\n",
       "      <td>9.673194e+14</td>\n",
       "      <td>5523159</td>\n",
       "      <td>F</td>\n",
       "      <td>37</td>\n",
       "      <td>RESISTÊNCIA</td>\n",
       "      <td>0</td>\n",
       "      <td>0</td>\n",
       "      <td>0</td>\n",
       "      <td>0</td>\n",
       "      <td>0</td>\n",
       "      <td>...</td>\n",
       "      <td>Tuesday</td>\n",
       "      <td>2016</td>\n",
       "      <td>3</td>\n",
       "      <td>29</td>\n",
       "      <td>Tuesday</td>\n",
       "      <td>16</td>\n",
       "      <td>34</td>\n",
       "      <td>No</td>\n",
       "      <td>Yes</td>\n",
       "      <td>0.6218</td>\n",
       "    </tr>\n",
       "    <tr>\n",
       "      <th>16605</th>\n",
       "      <td>3.951641e+12</td>\n",
       "      <td>5693080</td>\n",
       "      <td>F</td>\n",
       "      <td>38</td>\n",
       "      <td>MARIA ORTIZ</td>\n",
       "      <td>0</td>\n",
       "      <td>0</td>\n",
       "      <td>0</td>\n",
       "      <td>0</td>\n",
       "      <td>0</td>\n",
       "      <td>...</td>\n",
       "      <td>Friday</td>\n",
       "      <td>2016</td>\n",
       "      <td>5</td>\n",
       "      <td>12</td>\n",
       "      <td>Thursday</td>\n",
       "      <td>17</td>\n",
       "      <td>7</td>\n",
       "      <td>Yes</td>\n",
       "      <td>No</td>\n",
       "      <td>0.5410</td>\n",
       "    </tr>\n",
       "    <tr>\n",
       "      <th>103942</th>\n",
       "      <td>9.173245e+14</td>\n",
       "      <td>5654129</td>\n",
       "      <td>F</td>\n",
       "      <td>24</td>\n",
       "      <td>SANTO ANDRÉ</td>\n",
       "      <td>0</td>\n",
       "      <td>0</td>\n",
       "      <td>0</td>\n",
       "      <td>0</td>\n",
       "      <td>0</td>\n",
       "      <td>...</td>\n",
       "      <td>Friday</td>\n",
       "      <td>2016</td>\n",
       "      <td>5</td>\n",
       "      <td>3</td>\n",
       "      <td>Tuesday</td>\n",
       "      <td>13</td>\n",
       "      <td>30</td>\n",
       "      <td>Yes</td>\n",
       "      <td>No</td>\n",
       "      <td>0.5915</td>\n",
       "    </tr>\n",
       "    <tr>\n",
       "      <th>274</th>\n",
       "      <td>3.995366e+12</td>\n",
       "      <td>5641070</td>\n",
       "      <td>F</td>\n",
       "      <td>41</td>\n",
       "      <td>MARIA ORTIZ</td>\n",
       "      <td>0</td>\n",
       "      <td>0</td>\n",
       "      <td>0</td>\n",
       "      <td>0</td>\n",
       "      <td>0</td>\n",
       "      <td>...</td>\n",
       "      <td>Friday</td>\n",
       "      <td>2016</td>\n",
       "      <td>4</td>\n",
       "      <td>29</td>\n",
       "      <td>Friday</td>\n",
       "      <td>12</td>\n",
       "      <td>-1</td>\n",
       "      <td>No</td>\n",
       "      <td>No</td>\n",
       "      <td>0.9683</td>\n",
       "    </tr>\n",
       "    <tr>\n",
       "      <th>...</th>\n",
       "      <td>...</td>\n",
       "      <td>...</td>\n",
       "      <td>...</td>\n",
       "      <td>...</td>\n",
       "      <td>...</td>\n",
       "      <td>...</td>\n",
       "      <td>...</td>\n",
       "      <td>...</td>\n",
       "      <td>...</td>\n",
       "      <td>...</td>\n",
       "      <td>...</td>\n",
       "      <td>...</td>\n",
       "      <td>...</td>\n",
       "      <td>...</td>\n",
       "      <td>...</td>\n",
       "      <td>...</td>\n",
       "      <td>...</td>\n",
       "      <td>...</td>\n",
       "      <td>...</td>\n",
       "      <td>...</td>\n",
       "      <td>...</td>\n",
       "    </tr>\n",
       "    <tr>\n",
       "      <th>77440</th>\n",
       "      <td>5.134886e+13</td>\n",
       "      <td>5665127</td>\n",
       "      <td>F</td>\n",
       "      <td>10</td>\n",
       "      <td>BELA VISTA</td>\n",
       "      <td>0</td>\n",
       "      <td>0</td>\n",
       "      <td>0</td>\n",
       "      <td>0</td>\n",
       "      <td>0</td>\n",
       "      <td>...</td>\n",
       "      <td>Friday</td>\n",
       "      <td>2016</td>\n",
       "      <td>5</td>\n",
       "      <td>5</td>\n",
       "      <td>Thursday</td>\n",
       "      <td>13</td>\n",
       "      <td>7</td>\n",
       "      <td>No</td>\n",
       "      <td>No</td>\n",
       "      <td>0.6927</td>\n",
       "    </tr>\n",
       "    <tr>\n",
       "      <th>84883</th>\n",
       "      <td>5.821357e+13</td>\n",
       "      <td>5774289</td>\n",
       "      <td>F</td>\n",
       "      <td>4</td>\n",
       "      <td>CENTRO</td>\n",
       "      <td>0</td>\n",
       "      <td>0</td>\n",
       "      <td>0</td>\n",
       "      <td>0</td>\n",
       "      <td>0</td>\n",
       "      <td>...</td>\n",
       "      <td>Monday</td>\n",
       "      <td>2016</td>\n",
       "      <td>6</td>\n",
       "      <td>6</td>\n",
       "      <td>Monday</td>\n",
       "      <td>8</td>\n",
       "      <td>-1</td>\n",
       "      <td>No</td>\n",
       "      <td>No</td>\n",
       "      <td>0.9802</td>\n",
       "    </tr>\n",
       "    <tr>\n",
       "      <th>57918</th>\n",
       "      <td>1.681822e+13</td>\n",
       "      <td>5641394</td>\n",
       "      <td>F</td>\n",
       "      <td>29</td>\n",
       "      <td>CONQUISTA</td>\n",
       "      <td>1</td>\n",
       "      <td>0</td>\n",
       "      <td>0</td>\n",
       "      <td>0</td>\n",
       "      <td>0</td>\n",
       "      <td>...</td>\n",
       "      <td>Thursday</td>\n",
       "      <td>2016</td>\n",
       "      <td>4</td>\n",
       "      <td>29</td>\n",
       "      <td>Friday</td>\n",
       "      <td>13</td>\n",
       "      <td>12</td>\n",
       "      <td>No</td>\n",
       "      <td>No</td>\n",
       "      <td>0.6335</td>\n",
       "    </tr>\n",
       "    <tr>\n",
       "      <th>80372</th>\n",
       "      <td>5.649478e+08</td>\n",
       "      <td>5648719</td>\n",
       "      <td>M</td>\n",
       "      <td>58</td>\n",
       "      <td>MARUÍPE</td>\n",
       "      <td>0</td>\n",
       "      <td>0</td>\n",
       "      <td>0</td>\n",
       "      <td>0</td>\n",
       "      <td>0</td>\n",
       "      <td>...</td>\n",
       "      <td>Thursday</td>\n",
       "      <td>2016</td>\n",
       "      <td>5</td>\n",
       "      <td>2</td>\n",
       "      <td>Monday</td>\n",
       "      <td>16</td>\n",
       "      <td>2</td>\n",
       "      <td>No</td>\n",
       "      <td>No</td>\n",
       "      <td>0.7637</td>\n",
       "    </tr>\n",
       "    <tr>\n",
       "      <th>77165</th>\n",
       "      <td>7.135659e+13</td>\n",
       "      <td>5660686</td>\n",
       "      <td>M</td>\n",
       "      <td>32</td>\n",
       "      <td>SANTO ANTÔNIO</td>\n",
       "      <td>0</td>\n",
       "      <td>0</td>\n",
       "      <td>0</td>\n",
       "      <td>0</td>\n",
       "      <td>0</td>\n",
       "      <td>...</td>\n",
       "      <td>Wednesday</td>\n",
       "      <td>2016</td>\n",
       "      <td>5</td>\n",
       "      <td>4</td>\n",
       "      <td>Wednesday</td>\n",
       "      <td>17</td>\n",
       "      <td>6</td>\n",
       "      <td>No</td>\n",
       "      <td>No</td>\n",
       "      <td>0.5479</td>\n",
       "    </tr>\n",
       "  </tbody>\n",
       "</table>\n",
       "<p>44211 rows × 24 columns</p>\n",
       "</div>"
      ],
      "text/plain": [
       "           PatientId  AppointmentID Gender  Age      Neighbourhood  \\\n",
       "84674   2.759575e+13        5756417      F   20  ILHA DAS CAIEIRAS   \n",
       "3635    9.673194e+14        5523159      F   37        RESISTÊNCIA   \n",
       "16605   3.951641e+12        5693080      F   38        MARIA ORTIZ   \n",
       "103942  9.173245e+14        5654129      F   24        SANTO ANDRÉ   \n",
       "274     3.995366e+12        5641070      F   41        MARIA ORTIZ   \n",
       "...              ...            ...    ...  ...                ...   \n",
       "77440   5.134886e+13        5665127      F   10         BELA VISTA   \n",
       "84883   5.821357e+13        5774289      F    4             CENTRO   \n",
       "57918   1.681822e+13        5641394      F   29          CONQUISTA   \n",
       "80372   5.649478e+08        5648719      M   58            MARUÍPE   \n",
       "77165   7.135659e+13        5660686      M   32      SANTO ANTÔNIO   \n",
       "\n",
       "        Scholarship  Hipertension  Diabetes  Alcoholism  Handicap  ...  \\\n",
       "84674             0             0         0           0         0  ...   \n",
       "3635              0             0         0           0         0  ...   \n",
       "16605             0             0         0           0         0  ...   \n",
       "103942            0             0         0           0         0  ...   \n",
       "274               0             0         0           0         0  ...   \n",
       "...             ...           ...       ...         ...       ...  ...   \n",
       "77440             0             0         0           0         0  ...   \n",
       "84883             0             0         0           0         0  ...   \n",
       "57918             1             0         0           0         0  ...   \n",
       "80372             0             0         0           0         0  ...   \n",
       "77165             0             0         0           0         0  ...   \n",
       "\n",
       "        Appointment_day_name  Register_year  Register_month  Register_day  \\\n",
       "84674              Wednesday           2016               6             1   \n",
       "3635                 Tuesday           2016               3            29   \n",
       "16605                 Friday           2016               5            12   \n",
       "103942                Friday           2016               5             3   \n",
       "274                   Friday           2016               4            29   \n",
       "...                      ...            ...             ...           ...   \n",
       "77440                 Friday           2016               5             5   \n",
       "84883                 Monday           2016               6             6   \n",
       "57918               Thursday           2016               4            29   \n",
       "80372               Thursday           2016               5             2   \n",
       "77165              Wednesday           2016               5             4   \n",
       "\n",
       "       Register_day_name  Register_hour  waiting_time  No-show Label   Score  \n",
       "84674          Wednesday              8            -1       No    No  0.9285  \n",
       "3635             Tuesday             16            34       No   Yes  0.6218  \n",
       "16605           Thursday             17             7      Yes    No  0.5410  \n",
       "103942           Tuesday             13            30      Yes    No  0.5915  \n",
       "274               Friday             12            -1       No    No  0.9683  \n",
       "...                  ...            ...           ...      ...   ...     ...  \n",
       "77440           Thursday             13             7       No    No  0.6927  \n",
       "84883             Monday              8            -1       No    No  0.9802  \n",
       "57918             Friday             13            12       No    No  0.6335  \n",
       "80372             Monday             16             2       No    No  0.7637  \n",
       "77165          Wednesday             17             6       No    No  0.5479  \n",
       "\n",
       "[44211 rows x 24 columns]"
      ]
     },
     "execution_count": 128,
     "metadata": {},
     "output_type": "execute_result"
    }
   ],
   "source": [
    "pred = predict_model(synth_catboost, data=test)"
   ]
  },
  {
   "cell_type": "markdown",
   "metadata": {
    "id": "_tiiWSxuwK6t"
   },
   "source": [
    "# **Conclusion**\n",
    "Adding synthetic data seems to improve accuracy accross the board."
   ]
  },
  {
   "cell_type": "code",
   "execution_count": null,
   "metadata": {},
   "outputs": [],
   "source": []
  }
 ],
 "metadata": {
  "accelerator": "GPU",
  "colab": {
   "authorship_tag": "ABX9TyNQgnEaLkmsZ47jQY2/G1wt",
   "collapsed_sections": [
    "u8hyoSAOm6E2",
    "owfzjkszOE5n"
   ],
   "name": "Predicting employee attrition.ipynb",
   "provenance": [],
   "toc_visible": true
  },
  "kernelspec": {
   "display_name": "dai-thon",
   "language": "python",
   "name": "dai"
  },
  "language_info": {
   "codemirror_mode": {
    "name": "ipython",
    "version": 3
   },
   "file_extension": ".py",
   "mimetype": "text/x-python",
   "name": "python",
   "nbconvert_exporter": "python",
   "pygments_lexer": "ipython3",
   "version": "3.6.12"
  },
  "widgets": {
   "application/vnd.jupyter.widget-state+json": {
    "0d7c00441e6445f9b71c68df63947725": {
     "model_module": "@jupyter-widgets/base",
     "model_name": "LayoutModel",
     "state": {
      "_model_module": "@jupyter-widgets/base",
      "_model_module_version": "1.2.0",
      "_model_name": "LayoutModel",
      "_view_count": null,
      "_view_module": "@jupyter-widgets/base",
      "_view_module_version": "1.2.0",
      "_view_name": "LayoutView",
      "align_content": null,
      "align_items": null,
      "align_self": null,
      "border": null,
      "bottom": null,
      "display": null,
      "flex": null,
      "flex_flow": null,
      "grid_area": null,
      "grid_auto_columns": null,
      "grid_auto_flow": null,
      "grid_auto_rows": null,
      "grid_column": null,
      "grid_gap": null,
      "grid_row": null,
      "grid_template_areas": null,
      "grid_template_columns": null,
      "grid_template_rows": null,
      "height": null,
      "justify_content": null,
      "justify_items": null,
      "left": null,
      "margin": null,
      "max_height": null,
      "max_width": null,
      "min_height": null,
      "min_width": null,
      "object_fit": null,
      "object_position": null,
      "order": null,
      "overflow": null,
      "overflow_x": null,
      "overflow_y": null,
      "padding": null,
      "right": null,
      "top": null,
      "visibility": null,
      "width": null
     }
    },
    "10ea5db4ef064f8fb0a0e9318f02c620": {
     "model_module": "@jupyter-widgets/controls",
     "model_name": "IntProgressModel",
     "state": {
      "_dom_classes": [],
      "_model_module": "@jupyter-widgets/controls",
      "_model_module_version": "1.5.0",
      "_model_name": "IntProgressModel",
      "_view_count": null,
      "_view_module": "@jupyter-widgets/controls",
      "_view_module_version": "1.5.0",
      "_view_name": "ProgressView",
      "bar_style": "",
      "description": "Processing: ",
      "description_tooltip": null,
      "layout": "IPY_MODEL_4c71ad5a9b1746ef8ca31917c37cff3b",
      "max": 4,
      "min": 0,
      "orientation": "horizontal",
      "style": "IPY_MODEL_33bc17f93fbd4428a8bfb9e271e3d0fa",
      "value": 4
     }
    },
    "25635fb9d9e74426a4ffe3f6deb0c9a2": {
     "model_module": "@jupyter-widgets/base",
     "model_name": "LayoutModel",
     "state": {
      "_model_module": "@jupyter-widgets/base",
      "_model_module_version": "1.2.0",
      "_model_name": "LayoutModel",
      "_view_count": null,
      "_view_module": "@jupyter-widgets/base",
      "_view_module_version": "1.2.0",
      "_view_name": "LayoutView",
      "align_content": null,
      "align_items": null,
      "align_self": null,
      "border": null,
      "bottom": null,
      "display": null,
      "flex": null,
      "flex_flow": null,
      "grid_area": null,
      "grid_auto_columns": null,
      "grid_auto_flow": null,
      "grid_auto_rows": null,
      "grid_column": null,
      "grid_gap": null,
      "grid_row": null,
      "grid_template_areas": null,
      "grid_template_columns": null,
      "grid_template_rows": null,
      "height": null,
      "justify_content": null,
      "justify_items": null,
      "left": null,
      "margin": null,
      "max_height": null,
      "max_width": null,
      "min_height": null,
      "min_width": null,
      "object_fit": null,
      "object_position": null,
      "order": null,
      "overflow": null,
      "overflow_x": null,
      "overflow_y": null,
      "padding": null,
      "right": null,
      "top": null,
      "visibility": null,
      "width": null
     }
    },
    "307a2747200e4a7189f15039c8d147ef": {
     "model_module": "@jupyter-widgets/controls",
     "model_name": "ProgressStyleModel",
     "state": {
      "_model_module": "@jupyter-widgets/controls",
      "_model_module_version": "1.5.0",
      "_model_name": "ProgressStyleModel",
      "_view_count": null,
      "_view_module": "@jupyter-widgets/base",
      "_view_module_version": "1.2.0",
      "_view_name": "StyleView",
      "bar_color": null,
      "description_width": ""
     }
    },
    "33bc17f93fbd4428a8bfb9e271e3d0fa": {
     "model_module": "@jupyter-widgets/controls",
     "model_name": "ProgressStyleModel",
     "state": {
      "_model_module": "@jupyter-widgets/controls",
      "_model_module_version": "1.5.0",
      "_model_name": "ProgressStyleModel",
      "_view_count": null,
      "_view_module": "@jupyter-widgets/base",
      "_view_module_version": "1.2.0",
      "_view_name": "StyleView",
      "bar_color": null,
      "description_width": ""
     }
    },
    "3a613cdc31f44ee9878ceab2f83b985a": {
     "model_module": "@jupyter-widgets/controls",
     "model_name": "ProgressStyleModel",
     "state": {
      "_model_module": "@jupyter-widgets/controls",
      "_model_module_version": "1.5.0",
      "_model_name": "ProgressStyleModel",
      "_view_count": null,
      "_view_module": "@jupyter-widgets/base",
      "_view_module_version": "1.2.0",
      "_view_name": "StyleView",
      "bar_color": null,
      "description_width": ""
     }
    },
    "463fc3b7b20d4d94bd58f498194140da": {
     "model_module": "@jupyter-widgets/controls",
     "model_name": "IntProgressModel",
     "state": {
      "_dom_classes": [],
      "_model_module": "@jupyter-widgets/controls",
      "_model_module_version": "1.5.0",
      "_model_name": "IntProgressModel",
      "_view_count": null,
      "_view_module": "@jupyter-widgets/controls",
      "_view_module_version": "1.5.0",
      "_view_name": "ProgressView",
      "bar_style": "",
      "description": "Processing: ",
      "description_tooltip": null,
      "layout": "IPY_MODEL_25635fb9d9e74426a4ffe3f6deb0c9a2",
      "max": 7,
      "min": 0,
      "orientation": "horizontal",
      "style": "IPY_MODEL_3a613cdc31f44ee9878ceab2f83b985a",
      "value": 7
     }
    },
    "4c71ad5a9b1746ef8ca31917c37cff3b": {
     "model_module": "@jupyter-widgets/base",
     "model_name": "LayoutModel",
     "state": {
      "_model_module": "@jupyter-widgets/base",
      "_model_module_version": "1.2.0",
      "_model_name": "LayoutModel",
      "_view_count": null,
      "_view_module": "@jupyter-widgets/base",
      "_view_module_version": "1.2.0",
      "_view_name": "LayoutView",
      "align_content": null,
      "align_items": null,
      "align_self": null,
      "border": null,
      "bottom": null,
      "display": null,
      "flex": null,
      "flex_flow": null,
      "grid_area": null,
      "grid_auto_columns": null,
      "grid_auto_flow": null,
      "grid_auto_rows": null,
      "grid_column": null,
      "grid_gap": null,
      "grid_row": null,
      "grid_template_areas": null,
      "grid_template_columns": null,
      "grid_template_rows": null,
      "height": null,
      "justify_content": null,
      "justify_items": null,
      "left": null,
      "margin": null,
      "max_height": null,
      "max_width": null,
      "min_height": null,
      "min_width": null,
      "object_fit": null,
      "object_position": null,
      "order": null,
      "overflow": null,
      "overflow_x": null,
      "overflow_y": null,
      "padding": null,
      "right": null,
      "top": null,
      "visibility": null,
      "width": null
     }
    },
    "4f81e8d444e2464cbe28a6b86ff871b5": {
     "model_module": "@jupyter-widgets/base",
     "model_name": "LayoutModel",
     "state": {
      "_model_module": "@jupyter-widgets/base",
      "_model_module_version": "1.2.0",
      "_model_name": "LayoutModel",
      "_view_count": null,
      "_view_module": "@jupyter-widgets/base",
      "_view_module_version": "1.2.0",
      "_view_name": "LayoutView",
      "align_content": null,
      "align_items": null,
      "align_self": null,
      "border": null,
      "bottom": null,
      "display": null,
      "flex": null,
      "flex_flow": null,
      "grid_area": null,
      "grid_auto_columns": null,
      "grid_auto_flow": null,
      "grid_auto_rows": null,
      "grid_column": null,
      "grid_gap": null,
      "grid_row": null,
      "grid_template_areas": null,
      "grid_template_columns": null,
      "grid_template_rows": null,
      "height": null,
      "justify_content": null,
      "justify_items": null,
      "left": null,
      "margin": null,
      "max_height": null,
      "max_width": null,
      "min_height": null,
      "min_width": null,
      "object_fit": null,
      "object_position": null,
      "order": null,
      "overflow": null,
      "overflow_x": null,
      "overflow_y": null,
      "padding": null,
      "right": null,
      "top": null,
      "visibility": null,
      "width": null
     }
    },
    "b549798269f8405aa59800806a5ea628": {
     "model_module": "@jupyter-widgets/controls",
     "model_name": "ProgressStyleModel",
     "state": {
      "_model_module": "@jupyter-widgets/controls",
      "_model_module_version": "1.5.0",
      "_model_name": "ProgressStyleModel",
      "_view_count": null,
      "_view_module": "@jupyter-widgets/base",
      "_view_module_version": "1.2.0",
      "_view_name": "StyleView",
      "bar_color": null,
      "description_width": ""
     }
    },
    "b6b46c63554f41e19483e5b31ec2280c": {
     "model_module": "@jupyter-widgets/controls",
     "model_name": "IntProgressModel",
     "state": {
      "_dom_classes": [],
      "_model_module": "@jupyter-widgets/controls",
      "_model_module_version": "1.5.0",
      "_model_name": "IntProgressModel",
      "_view_count": null,
      "_view_module": "@jupyter-widgets/controls",
      "_view_module_version": "1.5.0",
      "_view_name": "ProgressView",
      "bar_style": "",
      "description": "Processing: ",
      "description_tooltip": null,
      "layout": "IPY_MODEL_0d7c00441e6445f9b71c68df63947725",
      "max": 4,
      "min": 0,
      "orientation": "horizontal",
      "style": "IPY_MODEL_b549798269f8405aa59800806a5ea628",
      "value": 4
     }
    },
    "d01f30c83f114157b0c22e2cd2b9bb46": {
     "model_module": "@jupyter-widgets/controls",
     "model_name": "ProgressStyleModel",
     "state": {
      "_model_module": "@jupyter-widgets/controls",
      "_model_module_version": "1.5.0",
      "_model_name": "ProgressStyleModel",
      "_view_count": null,
      "_view_module": "@jupyter-widgets/base",
      "_view_module_version": "1.2.0",
      "_view_name": "StyleView",
      "bar_color": null,
      "description_width": ""
     }
    },
    "daef4644f9274987bc78d4ed7ef34560": {
     "model_module": "@jupyter-widgets/base",
     "model_name": "LayoutModel",
     "state": {
      "_model_module": "@jupyter-widgets/base",
      "_model_module_version": "1.2.0",
      "_model_name": "LayoutModel",
      "_view_count": null,
      "_view_module": "@jupyter-widgets/base",
      "_view_module_version": "1.2.0",
      "_view_name": "LayoutView",
      "align_content": null,
      "align_items": null,
      "align_self": null,
      "border": null,
      "bottom": null,
      "display": null,
      "flex": null,
      "flex_flow": null,
      "grid_area": null,
      "grid_auto_columns": null,
      "grid_auto_flow": null,
      "grid_auto_rows": null,
      "grid_column": null,
      "grid_gap": null,
      "grid_row": null,
      "grid_template_areas": null,
      "grid_template_columns": null,
      "grid_template_rows": null,
      "height": null,
      "justify_content": null,
      "justify_items": null,
      "left": null,
      "margin": null,
      "max_height": null,
      "max_width": null,
      "min_height": null,
      "min_width": null,
      "object_fit": null,
      "object_position": null,
      "order": null,
      "overflow": null,
      "overflow_x": null,
      "overflow_y": null,
      "padding": null,
      "right": null,
      "top": null,
      "visibility": null,
      "width": null
     }
    },
    "efd526e96603472aa5926403d7aaab51": {
     "model_module": "@jupyter-widgets/controls",
     "model_name": "IntProgressModel",
     "state": {
      "_dom_classes": [],
      "_model_module": "@jupyter-widgets/controls",
      "_model_module_version": "1.5.0",
      "_model_name": "IntProgressModel",
      "_view_count": null,
      "_view_module": "@jupyter-widgets/controls",
      "_view_module_version": "1.5.0",
      "_view_name": "ProgressView",
      "bar_style": "",
      "description": "Processing: ",
      "description_tooltip": null,
      "layout": "IPY_MODEL_daef4644f9274987bc78d4ed7ef34560",
      "max": 79,
      "min": 0,
      "orientation": "horizontal",
      "style": "IPY_MODEL_307a2747200e4a7189f15039c8d147ef",
      "value": 79
     }
    },
    "f22ffd90d3364169ba67e6eb5920b092": {
     "model_module": "@jupyter-widgets/controls",
     "model_name": "IntProgressModel",
     "state": {
      "_dom_classes": [],
      "_model_module": "@jupyter-widgets/controls",
      "_model_module_version": "1.5.0",
      "_model_name": "IntProgressModel",
      "_view_count": null,
      "_view_module": "@jupyter-widgets/controls",
      "_view_module_version": "1.5.0",
      "_view_name": "ProgressView",
      "bar_style": "",
      "description": "Processing: ",
      "description_tooltip": null,
      "layout": "IPY_MODEL_4f81e8d444e2464cbe28a6b86ff871b5",
      "max": 79,
      "min": 0,
      "orientation": "horizontal",
      "style": "IPY_MODEL_d01f30c83f114157b0c22e2cd2b9bb46",
      "value": 79
     }
    }
   }
  }
 },
 "nbformat": 4,
 "nbformat_minor": 4
}
